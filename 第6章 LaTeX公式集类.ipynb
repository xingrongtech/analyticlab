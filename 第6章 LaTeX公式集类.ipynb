{
 "cells": [
  {
   "cell_type": "markdown",
   "metadata": {},
   "source": [
    "# 第六章 LaTeX公式集类"
   ]
  },
  {
   "cell_type": "markdown",
   "metadata": {},
   "source": [
    "在前面的章节中，提及到当设定`process=True`时，会生成计算过程的LaTeX公式集。本章会详细说明**LaTeX公式集**的使用。通过充分利用LaTeX公式集，能够生成一篇完整的LaTeX格式的**实验报告**。"
   ]
  },
  {
   "cell_type": "markdown",
   "metadata": {},
   "source": [
    "#### 本章涉及的类：\n",
    "* 库函数 - 计算过程生成与展示\n",
    "* LaTeX类 - 公式集"
   ]
  },
  {
   "cell_type": "markdown",
   "metadata": {},
   "source": [
    "## 1.现有库函数的使用"
   ]
  },
  {
   "cell_type": "markdown",
   "metadata": {},
   "source": [
    "#### 在前面的章节中，提到了下列用于生成计算过程的库函数：\n",
    "* `def dispLSym(lSym, resSym=None, resUnit=None)` - 展示LaTeX符号\n",
    "* `def dispLSymItem(lSymItem, resSym=None, resUnit=None, headExpr='根据公式$%s$，得', showMean=True, meanExpr=None)` - 展示LaTeX符号组\n",
    "* `def dispUnc(resUnc, resValue, resSym=None, resUnit=None, resDescription=None)` - 展示不确定度\n",
    "\n",
    "#### 还有2个库函数没有提及，它们是：\n",
    "* `def dispTable(table)` - 展示表格\n",
    "* `def dispRelErr(num, mu, sym=None, muSym=None, ESym='E_r')` - 展示相对误差\n",
    "\n",
    "下面讲依次介绍这两个函数的使用。"
   ]
  },
  {
   "cell_type": "markdown",
   "metadata": {},
   "source": [
    "### 1.1 展示表格"
   ]
  },
  {
   "cell_type": "markdown",
   "metadata": {},
   "source": [
    "通过`dispTable`函数展示一个表格，该函数如下："
   ]
  },
  {
   "cell_type": "markdown",
   "metadata": {},
   "source": [
    "`def dispTable(table)`"
   ]
  },
  {
   "cell_type": "markdown",
   "metadata": {},
   "source": [
    "其中参数`table`为表格的内容组成的二维列表，列表中的每一个元素，即为表格中的一个单元格，每个单元格中的内容可以以str类型给出，也可以以非字符串的数据类型给出，如Num、int、float："
   ]
  },
  {
   "cell_type": "code",
   "execution_count": 2,
   "metadata": {},
   "outputs": [
    {
     "data": {
      "text/latex": [
       "$\\begin{align}&\\begin{array}{c|c|c|c}\\hline a & 1 & 2.032 & 3\\\\\\hline b & 4.0 & 5 & 6\\\\\\hline\\end{array}\\end{align}$"
      ],
      "text/plain": [
       "<IPython.core.display.Latex object>"
      ]
     },
     "metadata": {},
     "output_type": "display_data"
    }
   ],
   "source": [
    "from analyticlab import dispTable, Num\n",
    "dispTable([\n",
    "    ['a', 1, 2.032, 3],\n",
    "    ['b', Num('4.0'), 5, 6]\n",
    "])"
   ]
  },
  {
   "cell_type": "markdown",
   "metadata": {},
   "source": [
    "当单元格中的内容是以NumItem类型给出时，情况会比较特殊，由于NumItem是由一系列数值组成的数组，而不是单独一个值，因此它会被自动扩展成多个单元格，数组中有几个数值，就会扩展成多少个单元格："
   ]
  },
  {
   "cell_type": "code",
   "execution_count": 3,
   "metadata": {},
   "outputs": [
    {
     "data": {
      "text/latex": [
       "$\\begin{align}&\\begin{array}{c|c}\\hline \\mathbf{x} & 7.61 & 7.75 & 7.72 & 7.67 & 7.66\\\\\\hline \\mathbf{y} & 13.01 & 12.96 & 12.99 & 13.05 & 13.00\\\\\\hline\\end{array}\\end{align}$"
      ],
      "text/plain": [
       "<IPython.core.display.Latex object>"
      ]
     },
     "metadata": {},
     "output_type": "display_data"
    }
   ],
   "source": [
    "from analyticlab import NumItem\n",
    "x_data = NumItem('7.61 7.75 7.72 7.67 7.66')\n",
    "y_data = NumItem('13.01 12.96 12.99 13.05 13.00')\n",
    "lp.dispTable([\n",
    "    [r'\\mathbf{x}', x_data],\n",
    "    [r'\\mathbf{y}', y_data]\n",
    "]).show()  # 这里x_data和y_data看似只会占1个单元格，但其实它们各占5个单元格"
   ]
  },
  {
   "cell_type": "markdown",
   "metadata": {},
   "source": [
    "<i>注意：`dispTable`作为一个展示表格的函数，其适用范围是很有限的，仅适用于m行n列的表格，若表格中有合并的单元格，则该函数将不再使用，这时需要参见[Mathjax](https://math.meta.stackexchange.com/questions/5020/mathjax-basic-tutorial-and-quick-reference)中array的语法，并将根据array语法得到的LaTeX语句通过`add`方法添加到LaTeX公式集中。</i>"
   ]
  },
  {
   "cell_type": "markdown",
   "metadata": {},
   "source": [
    "### 1.2 展示相对误差"
   ]
  },
  {
   "cell_type": "markdown",
   "metadata": {},
   "source": [
    "通过`dispRelErr`函数展示相对误差的计算过程，该函数如下："
   ]
  },
  {
   "cell_type": "markdown",
   "metadata": {},
   "source": [
    "`def dispRelErr(num, mu, sym=None, muSym=None, ESym='E_r')`"
   ]
  },
  {
   "cell_type": "markdown",
   "metadata": {},
   "source": [
    "其中参数`num`和`mu`分别为测量值和真值，可以以数值的字符串形式给出，也可以以Num、LSym类型给出。\n",
    "\n",
    "`sym`和`muSym`为测量值、真值的符号，当num或mu为LSym类型时，由于LaTeX符号中同时包含数值和符号，因此不必再给出LSym类型的num对应的sym，或LSym类型的mu对应的muSym。除此之外，必须给出sym、muSym。\n",
    "\n",
    "`ESym`为相对误差输出的表达式中的首项，即相对误差符号那一项，例如$E_r=\\cfrac{\\left\\lvert x-\\mu\\right\\rvert}{\\mu}=\\cfrac{\\left\\lvert 8.66-8.79\\right\\rvert}{8.79}=1.5\\%$中的$E_r$。当不需要这一项时，可设定`ESym=None`，这是会得到$\\cfrac{\\left\\lvert x-\\mu\\right\\rvert}{\\mu}=\\cfrac{\\left\\lvert 8.66-8.79\\right\\rvert}{8.79}=1.5\\%$。"
   ]
  },
  {
   "cell_type": "markdown",
   "metadata": {},
   "source": [
    "下面举例说明`dispRelErr`函数的使用："
   ]
  },
  {
   "cell_type": "code",
   "execution_count": 6,
   "metadata": {},
   "outputs": [
    {
     "data": {
      "text/latex": [
       "$\\begin{align}&E_r=\\cfrac{\\left\\lvert m_测-m_真 \\right\\rvert}{m_真}\\times 100\\%=\\cfrac{\\left\\lvert 13.15-13.40 \\right\\rvert}{13.40}\\times 100\\%=1.9\\%\\end{align}$"
      ],
      "text/plain": [
       "<analyticlab.latexoutput.LaTeX at 0x7f3ae53c6a20>"
      ]
     },
     "execution_count": 6,
     "metadata": {},
     "output_type": "execute_result"
    }
   ],
   "source": [
    "from analyticlab import dispRelErr\n",
    "dispRelErr('13.15', '13.40', 'm_测', 'm_真')  #这里num和mu都是字符串形式，所以需要给出sym和muSym"
   ]
  },
  {
   "cell_type": "code",
   "execution_count": 7,
   "metadata": {},
   "outputs": [
    {
     "data": {
      "text/latex": [
       "$\\begin{align}&\\cfrac{\\left\\lvert {m_测}-m_真 \\right\\rvert}{m_真}\\times 100\\%=\\cfrac{\\left\\lvert 13.15-13.40 \\right\\rvert}{13.40}\\times 100\\%=1.9\\%\\end{align}$"
      ],
      "text/plain": [
       "<analyticlab.latexoutput.LaTeX at 0x7f3ae53e6208>"
      ]
     },
     "execution_count": 7,
     "metadata": {},
     "output_type": "execute_result"
    }
   ],
   "source": [
    "from analyticlab import LSym\n",
    "m_测 = LSym('m_测', '13.15')\n",
    "dispRelErr(m_测, '13.40', muSym='m_真', ESym=None)  #这里num是LSym类型，不需要给出sym；不想要相对误差符号那一项，故ESym=None"
   ]
  },
  {
   "cell_type": "markdown",
   "metadata": {},
   "source": [
    "## 2.LaTeX类的使用"
   ]
  },
  {
   "cell_type": "markdown",
   "metadata": {},
   "source": [
    "### 2.1 导入LaTeX类"
   ]
  },
  {
   "cell_type": "markdown",
   "metadata": {},
   "source": [
    "通过以下指令实现导入LaTeX类："
   ]
  },
  {
   "cell_type": "code",
   "execution_count": null,
   "metadata": {},
   "outputs": [],
   "source": [
    "from analyticlab import LaTeX"
   ]
  },
  {
   "cell_type": "markdown",
   "metadata": {},
   "source": [
    "### 2.2 创建一个LaTeX公式集"
   ]
  },
  {
   "cell_type": "markdown",
   "metadata": {},
   "source": [
    "LaTeX类的构造方法如下："
   ]
  },
  {
   "cell_type": "markdown",
   "metadata": {},
   "source": [
    "`LaTeX(line=None)`"
   ]
  },
  {
   "cell_type": "markdown",
   "metadata": {},
   "source": [
    "其中参数`line`为初始化LaTeX公式集时，要加入的公式。`line`可以不给出，可以是一行公式的字符串，也可以是多行公式的字符串组成的列表："
   ]
  },
  {
   "cell_type": "code",
   "execution_count": 2,
   "metadata": {},
   "outputs": [],
   "source": [
    "lx1 = LaTeX()  #创建一个空的公式集lx1\n",
    "lx2 = LaTeX('V=abc')  #创建一个公式集lx2，其中含有一行公式\n",
    "lx3 = LaTeX(['\\text{根据公式}\\theta=\\arcsin{{k}}\\text{，得}',\n",
    "             '{\\theta}_1=\\arcsin{0.656}=41.0{\\rm ^{\\circ}}', \n",
    "             '{\\theta}_2=\\arcsin{0.687}=43.4{\\rm ^{\\circ}}',\n",
    "             '{\\theta}_3=\\arcsin{0.669}=42.0{\\rm ^{\\circ}}'])  #创建一个公式集，其中含有四行公式"
   ]
  },
  {
   "cell_type": "markdown",
   "metadata": {},
   "source": [
    "### 2.3 向现有的公式集中添加新的公式行"
   ]
  },
  {
   "cell_type": "markdown",
   "metadata": {},
   "source": [
    "对于通过构造方法或者通过附加参数`process=True`得到的LaTeX公式集，可以通过`add`方法，可以向当前公式集中，添加**新的公式行**或**其他公式集的公式行**。`add`方法如下："
   ]
  },
  {
   "cell_type": "markdown",
   "metadata": {},
   "source": [
    "`def add(line)`"
   ]
  },
  {
   "cell_type": "markdown",
   "metadata": {},
   "source": [
    "其中参数`line`为要添加的公式。公式可以是字符串形式，单个字符串用于添加一行公式，多个字符串组成的列表用于添加多行公式；公式也可以源于别的公式集，单个LaTeX对象用于添加一个公式集，多个LaTeX对象组成的列表用于添加多个公式集："
   ]
  },
  {
   "cell_type": "code",
   "execution_count": 3,
   "metadata": {},
   "outputs": [],
   "source": [
    "from analyticlab.numitem import NumItem\n",
    "Cl = NumItem('0.0365 0.0361 0.0359 0.0363', sym='Cl^-', unit='mol/L')\n",
    "lx1 = LaTeX()\n",
    "lx1.add(r'Cl^-\\text{浓度均值：}')  #添加一个字符串\n",
    "lx1.add(Cl.mean(process=True))  #添加一个LaTeX公式集\n",
    "lx1.add(r'Cl^-\\text{浓度标准偏差：}')  #添加一个字符串\n",
    "lx1.add(Cl.staDevi(process=True, processWithMean=False, remainOneMoreDigit=True))  #添加一个LaTeX公式集"
   ]
  },
  {
   "cell_type": "markdown",
   "metadata": {},
   "source": [
    "### 2.4 disp系列函数在公式集中的应用"
   ]
  },
  {
   "cell_type": "markdown",
   "metadata": {},
   "source": [
    "在上面的章节中，依次介绍到了`dispLSym`、`dispLSymItem`、`dispUnc`、`dispTable`、`dispRelErr`5个生成计算过程的disp系列库函数。要将这些库函数生成的计算过程添加到LaTeX公式集中，最容易想到的是诸如`lx.add(dispUnc(...))`这样将disp...函数的返回值添加到公式集中的方法。其实，每个`disp...函数`都在LaTeX公式集中，对应一个`add...方法`。对应关系如下：\n",
    "* 函数`dispLSym` → 方法`addLSym`\n",
    "* 函数`dispLSymItem` → 方法`addLSymItem`\n",
    "* 函数`dispUnc` → 方法`addUnc`\n",
    "* 函数`dispTable` → 方法`addTable`\n",
    "* 函数`dispRelErr` → 方法`addRelErr`"
   ]
  },
  {
   "cell_type": "markdown",
   "metadata": {},
   "source": [
    "其中每个库函数对应的类方法的参数都没有变化，只是生成的计算过程直接添加到了LaTeX公式集中，比如`lx.add(dispLSym(uV, 'uV'))`可以写成`lx.addLSym(uV, 'uV')`。"
   ]
  },
  {
   "cell_type": "markdown",
   "metadata": {},
   "source": [
    "### 2.5 展示公式集"
   ]
  },
  {
   "cell_type": "markdown",
   "metadata": {},
   "source": [
    "通过调用`show()`方法，展示公式集："
   ]
  },
  {
   "cell_type": "code",
   "execution_count": 4,
   "metadata": {},
   "outputs": [
    {
     "data": {
      "text/latex": [
       "$\\begin{align}&Cl^-\\text{浓度均值：}\\\\ \n",
       "&\\overline{{Cl^-}}=\\frac{1}{n}\\sum\\limits_{i=1}^n {Cl^-}_{i}=\\frac{1}{4}\\left(0.0365+0.0361+0.0359+0.0363\\right)=0.0362{\\rm mol/L}\\\\ \n",
       "&Cl^-\\text{浓度标准偏差：}\\\\ \n",
       "&s_{{Cl^-}}=\\sqrt{\\frac{1}{n-1}\\sum\\limits_{i=1}^n\\left({Cl^-}_{i}-\\overline{{Cl^-}}\\right)^{2}}=\\sqrt{\\frac{1}{3}\\left[0.0003^{2}+\\left(-0.0001\\right)^{2}+\\left(-0.0003\\right)^{2}+0.0001^{2}\\right]}=3.0\\times 10^{-4}{\\rm mol/L}\\end{align}$"
      ],
      "text/plain": [
       "<IPython.core.display.Latex object>"
      ]
     },
     "metadata": {},
     "output_type": "display_data"
    }
   ],
   "source": [
    "lx1.show()"
   ]
  },
  {
   "cell_type": "markdown",
   "metadata": {},
   "source": [
    "## 6.综合性应用案例"
   ]
  },
  {
   "cell_type": "markdown",
   "metadata": {},
   "source": [
    "在github上analyticlab项目中的`analyticlab/demo`文件夹下，有`实例-拉伸法杨氏模量的测量.ipynb`、`实例-液体粘滞系数.ipynb`这两个展示了更完整的通过LaTeX公式集生成实验报告的案例。"
   ]
  },
  {
   "cell_type": "code",
   "execution_count": null,
   "metadata": {},
   "outputs": [],
   "source": []
  }
 ],
 "metadata": {
  "kernelspec": {
   "display_name": "Python 3",
   "language": "python",
   "name": "python3"
  },
  "language_info": {
   "codemirror_mode": {
    "name": "ipython",
    "version": 3
   },
   "file_extension": ".py",
   "mimetype": "text/x-python",
   "name": "python",
   "nbconvert_exporter": "python",
   "pygments_lexer": "ipython3",
   "version": "3.6.4"
  }
 },
 "nbformat": 4,
 "nbformat_minor": 2
}
