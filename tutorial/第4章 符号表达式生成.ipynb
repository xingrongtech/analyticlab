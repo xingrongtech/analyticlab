{
 "cells": [
  {
   "cell_type": "markdown",
   "metadata": {},
   "source": [
    "# 第四章 符号表达式合成"
   ]
  },
  {
   "cell_type": "markdown",
   "metadata": {},
   "source": [
    "**符号表达式合成部分**可以根据给出的LaTeX符号（一个LaTeX符号根据需要，可以包括符号、数值或单位），以及LaTeX符号间的数学关系式（即如何通过公式，通过不同的测量值得到最终需要的数值），生成**代数表达式**或**计算表达式**，并将计算过程展示出来。符号表达式合成可以使**生成实验报告**变得极为便利。<br>analyticlab的符号表达式合成由`LSym`（LaTeX符号）和`LSymItem`（LaTeX符号组）类实现。`LSym`用于生成单个符号的计算过程，`LSymItem`用于生成一组符号的计算过程。LSym和LSymItem可以通过`latexoutput`函数模块的dispLSym和dispLSymItem函数，实现生成并展示计算过程。"
   ]
  },
  {
   "cell_type": "markdown",
   "metadata": {},
   "source": [
    "#### 本章涉及的类与模块：\n",
    "* LSym类 - analyticlab.lsym\n",
    "* LSymItem类 - analyticlab.lsymitem\n",
    "* (初步了解)Const类 - analyticlab.const.Const\n",
    "* (部分了解)amath函数模块 - analyticlab.amath\n",
    "* (部分了解)latexoutput函数模块 - analyticlab.latexoutput\n",
    "* \\*(部分了解)NumItem类 - analyticlab.numitem"
   ]
  },
  {
   "cell_type": "markdown",
   "metadata": {},
   "source": [
    "## 1.LSym类：单个符号计算过程的生成"
   ]
  },
  {
   "cell_type": "markdown",
   "metadata": {},
   "source": [
    "### 1.1 导入LSym类"
   ]
  },
  {
   "cell_type": "markdown",
   "metadata": {},
   "source": [
    "LSym类位于`analyticlab.lsym`模块内，通过以下指令实现导入："
   ]
  },
  {
   "cell_type": "code",
   "execution_count": 1,
   "metadata": {},
   "outputs": [],
   "source": [
    "from analyticlab.lsym import LSym"
   ]
  },
  {
   "cell_type": "markdown",
   "metadata": {},
   "source": [
    "### 1.2 符号的创建与表达式生成的过程"
   ]
  },
  {
   "cell_type": "markdown",
   "metadata": {},
   "source": [
    "下面以长方体表面积计算公式$S=2(ab+ac+bc)$（其中$a=15.10{\\rm cm}$，$b=7.61{\\rm cm}$，$c=0.7346{\\rm cm}$）为例，来说明如何通过LSym类生成长方体表面积计算过程的符号表达式。"
   ]
  },
  {
   "cell_type": "markdown",
   "metadata": {},
   "source": [
    "#### 1.2.1 创建LaTeX符号"
   ]
  },
  {
   "cell_type": "markdown",
   "metadata": {},
   "source": [
    "LSym类的构造方法如下："
   ]
  },
  {
   "cell_type": "markdown",
   "metadata": {},
   "source": [
    "`LSym(sym=None, sNum=None)`"
   ]
  },
  {
   "cell_type": "markdown",
   "metadata": {},
   "source": [
    "一个LaTeX符号由`sym`（符号）和`sNum`（数值）组成。在LSym类的构造方法中，sym和sNum都是可选的。`sym`用于合成诸如$2(ab+ac+bc)$这样的代数表达式，`sNum`给出数值，用于合成诸如$2 \\times (15.10\\times 7.61+15.10 \\times 0.7346+7.61 \\times 0.7346)$这样的表达式。虽然两个参数都是可选的，但是sym、sNum两个参数至少要给定一个，否则将不能生成任何表达式。"
   ]
  },
  {
   "cell_type": "markdown",
   "metadata": {},
   "source": [
    "`sym`为符号，以LaTeX格式的字符串给出，例如'a'。`sNum`为数值，通常以Num数值，或数值的字符串形式给出；当然，如果有需要，sNum也可以以纯数字形式给出："
   ]
  },
  {
   "cell_type": "code",
   "execution_count": 2,
   "metadata": {},
   "outputs": [],
   "source": [
    "#最常用的LaTeX符号定义\n",
    "x1 = LSym('x_{1}', '11.63')  #创建一个有符号，有数值的LaTeX符号x1，数值以字符串形式给出，会被自动转换成Num数值\n",
    "#不常用的LaTeX符号定义\n",
    "x2 = LSym('x_{2}', 6.9973)  #创建一个有符号，有数值的LaTeX符号x2，数值为纯数字形式\n",
    "x3 = LSym('x_{3}')  #创建一个只有符号，没有数值的LaTeX符号x3\n",
    "x4 = LSym(sNum='7.6991')  #创建一个没有符号，只有数值的LaTeX符号x4"
   ]
  },
  {
   "cell_type": "markdown",
   "metadata": {},
   "source": [
    "对于给出的长方体体积计算案例，通常应该以如下方式创建LaTeX符号："
   ]
  },
  {
   "cell_type": "code",
   "execution_count": 3,
   "metadata": {},
   "outputs": [],
   "source": [
    "a = LSym('a', '15.10')\n",
    "b = LSym('b', '7.61')\n",
    "c = LSym('c', '0.7346')"
   ]
  },
  {
   "cell_type": "markdown",
   "metadata": {},
   "source": [
    "#### 1.2.2 给出数学关系式"
   ]
  },
  {
   "cell_type": "markdown",
   "metadata": {},
   "source": [
    "通过数学运算符`+`、`-`、`*`、`/`、`//`、`**`，或者`amath`库中的函数，给出各个LaTeX符号之间的数学关系式："
   ]
  },
  {
   "cell_type": "code",
   "execution_count": 4,
   "metadata": {},
   "outputs": [],
   "source": [
    "S = 2*(a*b+a*c+b*c)  #通过数学运算符给出数学关系式"
   ]
  },
  {
   "cell_type": "code",
   "execution_count": 5,
   "metadata": {},
   "outputs": [],
   "source": [
    "from analyticlab import amath\n",
    "d = amath.sqrt(a**2+b**2+c**2)  #通过数学运算符和amath库函数给出数学关系式"
   ]
  },
  {
   "cell_type": "markdown",
   "metadata": {},
   "source": [
    "##### “/”与“//”的区别：\n",
    "LSym中的“/”与“//”与整数除法还是小数除法无关，都是数值的小数除法；区别在于两者生成的除号不同。\n",
    "* “/”为分数式除号，即a/b会得到$\\cfrac{a}{b}$\n",
    "* “//”为斜杠式除号，即a//b会得到$a/b$"
   ]
  },
  {
   "cell_type": "markdown",
   "metadata": {},
   "source": [
    "#### 1.2.3 生成并展示计算过程"
   ]
  },
  {
   "cell_type": "markdown",
   "metadata": {},
   "source": [
    "通过`latexoutput`模块的`dispLSym`函数，可以生成计算表达式的LaTeX公式集。要使用dispLSym函数，首先要导入`analyticlab.latexoutput`模块："
   ]
  },
  {
   "cell_type": "code",
   "execution_count": 6,
   "metadata": {},
   "outputs": [],
   "source": [
    "from analyticlab import latexoutput as lp  #通常简写为lp"
   ]
  },
  {
   "cell_type": "markdown",
   "metadata": {},
   "source": [
    "`dispLSym`函数如下："
   ]
  },
  {
   "cell_type": "markdown",
   "metadata": {},
   "source": [
    "`def dispLSym(lSym, resSym=None, resUnit=None)`"
   ]
  },
  {
   "cell_type": "markdown",
   "metadata": {},
   "source": [
    " 参数`lSym`为通过数学关系式得到的目标变量的LaTeX符号；`resSym`为目标变量的符号，字符串格式，可给出可不给出，但没有给出resSym时，最终生成的计算表达式就没有了目标变量符号那一项；`resUnit`为目标变量的单位，字符串格式，可给出可不给出，但没有给出resUnit时，最终生成的计算结果就没有单位。对于$S=2(ab+ac+bc)$而言，`S`就是lSym，`'S'`就是resSym，${\\rm cm^2}$就是resUnit。"
   ]
  },
  {
   "cell_type": "markdown",
   "metadata": {},
   "source": [
    "该函数返回一个LaTeX公式集，通过调用公式集的`show()`方法，可以将计算过程展示出来："
   ]
  },
  {
   "cell_type": "code",
   "execution_count": 7,
   "metadata": {},
   "outputs": [
    {
     "data": {
      "text/latex": [
       "$$\\begin{align}&S=2\\left({a}{b}+{a}{c}+{b}{c}\\right)=2 \\times \\left({15.10} \\times {7.61}+{15.10} \\times {0.7346}+{7.61} \\times {0.7346}\\right)=263{\\rm cm^2}\\end{align}$$"
      ],
      "text/plain": [
       "<IPython.core.display.Math object>"
      ]
     },
     "metadata": {},
     "output_type": "display_data"
    }
   ],
   "source": [
    "lp.dispLSym(S, 'S', 'cm^2').show()"
   ]
  },
  {
   "cell_type": "markdown",
   "metadata": {},
   "source": [
    "#### 1.2.4 完整过程示例"
   ]
  },
  {
   "cell_type": "markdown",
   "metadata": {},
   "source": [
    "对于长方体体积的计算，完整过程如下："
   ]
  },
  {
   "cell_type": "code",
   "execution_count": 8,
   "metadata": {},
   "outputs": [
    {
     "data": {
      "text/latex": [
       "$$\\begin{align}&S=2\\left({a}{b}+{a}{c}+{b}{c}\\right)=2 \\times \\left({15.10} \\times {7.61}+{15.10} \\times {0.7346}+{7.61} \\times {0.7346}\\right)=263{\\rm cm^2}\\end{align}$$"
      ],
      "text/plain": [
       "<IPython.core.display.Math object>"
      ]
     },
     "metadata": {},
     "output_type": "display_data"
    }
   ],
   "source": [
    "#创建3个LaTeX符号\n",
    "a = LSym('a', '15.10')\n",
    "b = LSym('b', '7.61')\n",
    "c = LSym('c', '0.7346')\n",
    "#通过数学运算符给出数学关系式\n",
    "S = 2*(a*b+a*c+b*c)\n",
    "#调用dispLSym函数生成并展示计算过程\n",
    "lp.dispLSym(S, 'S', 'cm^2').show()"
   ]
  },
  {
   "cell_type": "markdown",
   "metadata": {},
   "source": [
    "下面尝试下只给出$a$、$b$、$c$的符号而不给出数值，看看得到的计算过程有什么变化。注意$a$、$b$、$c$的符号、数值给出情况必须保持一致，即如果$a$给了符号，那么$b$、$c$都得给符号；$a$给了数值，那么$b$、$c$都得给数值："
   ]
  },
  {
   "cell_type": "code",
   "execution_count": 9,
   "metadata": {},
   "outputs": [
    {
     "data": {
      "text/latex": [
       "$$\\begin{align}&S=2\\left({a}{b}+{a}{c}+{b}{c}\\right)\\end{align}$$"
      ],
      "text/plain": [
       "<IPython.core.display.Math object>"
      ]
     },
     "metadata": {},
     "output_type": "display_data"
    }
   ],
   "source": [
    "#创建3个LaTeX符号（只有符号，没有数值）\n",
    "a = LSym('a')\n",
    "b = LSym('b')\n",
    "c = LSym('c')\n",
    "#通过数学运算符给出数学关系式\n",
    "S = 2*(a*b+a*c+b*c)\n",
    "#调用dispLSym函数生成并展示计算过程\n",
    "lp.dispLSym(S, 'S').show()  #由于没有给出数值，不需要给单位"
   ]
  },
  {
   "cell_type": "markdown",
   "metadata": {},
   "source": [
    "由此可以看到，没有给出数值时，只有代数表达式，没有数值表达式和计算结果。"
   ]
  },
  {
   "cell_type": "markdown",
   "metadata": {},
   "source": [
    "还可以尝试只给出$a$、$b$、$c$的数值而不给出符号："
   ]
  },
  {
   "cell_type": "code",
   "execution_count": 10,
   "metadata": {},
   "outputs": [
    {
     "data": {
      "text/latex": [
       "$$\\begin{align}&S=2 \\times \\left({15.10} \\times {7.61}+{15.10} \\times {0.7346}+{7.61} \\times {0.7346}\\right)=263{\\rm cm^2}\\end{align}$$"
      ],
      "text/plain": [
       "<IPython.core.display.Math object>"
      ]
     },
     "metadata": {},
     "output_type": "display_data"
    }
   ],
   "source": [
    "#创建3个LaTeX符号（只有数值，没有符号）\n",
    "a = LSym(sNum='15.10')\n",
    "b = LSym(sNum='7.61')\n",
    "c = LSym(sNum='0.7346')\n",
    "#通过数学运算符给出数学关系式\n",
    "S = 2*(a*b+a*c+b*c)\n",
    "#调用dispLSym函数生成并展示计算过程\n",
    "lp.dispLSym(S, 'S', 'cm^2').show()"
   ]
  },
  {
   "cell_type": "markdown",
   "metadata": {},
   "source": [
    "此时没有代数表达式部分，而有数值表达式和计算结果。"
   ]
  },
  {
   "cell_type": "markdown",
   "metadata": {},
   "source": [
    "### 1.3 取出LSym的数值"
   ]
  },
  {
   "cell_type": "markdown",
   "metadata": {},
   "source": [
    "通过调用`num()`方法，可以得到LSym中的数值，该数值通常是Num类型的；但当用于得到目标变量的LaTeX符号中的数值均为纯数字形式给出时，得到的数值为纯数字形式。"
   ]
  },
  {
   "cell_type": "code",
   "execution_count": 11,
   "metadata": {},
   "outputs": [
    {
     "data": {
      "text/plain": [
       "263"
      ]
     },
     "execution_count": 11,
     "metadata": {},
     "output_type": "execute_result"
    }
   ],
   "source": [
    "S.num()"
   ]
  },
  {
   "cell_type": "markdown",
   "metadata": {},
   "source": [
    "### 1.4 取出LSym的代数表达式或数值表达式"
   ]
  },
  {
   "cell_type": "markdown",
   "metadata": {},
   "source": [
    "通过调用`sym()`方法，可以得到字符串形式的代数表达式；通过调用`cal()`方法，可以得到字符串形式的数值表达式："
   ]
  },
  {
   "cell_type": "code",
   "execution_count": 12,
   "metadata": {},
   "outputs": [
    {
     "name": "stdout",
     "output_type": "stream",
     "text": [
      "S.sym() = 2\\left({a}{b}+{a}{c}+{b}{c}\\right)\n",
      "S.cal() = 2 \\times \\left({15.10} \\times {7.61}+{15.10} \\times {0.7346}+{7.61} \\times {0.7346}\\right)\n"
     ]
    }
   ],
   "source": [
    "a = LSym('a', '15.10')\n",
    "b = LSym('b', '7.61')\n",
    "c = LSym('c', '0.7346')\n",
    "S = 2*(a*b+a*c+b*c)\n",
    "print('S.sym() =', S.sym())\n",
    "print('S.cal() =', S.cal())"
   ]
  },
  {
   "cell_type": "markdown",
   "metadata": {},
   "source": [
    "### 1.5 更新LSym的符号"
   ]
  },
  {
   "cell_type": "markdown",
   "metadata": {},
   "source": [
    "在1.4的例子中可以看到，在完成运算$S=2(ab+ac+bc)$后，所得到的S的符号其实并不是“$S$”，而是“$2\\left({a}{b}+{a}{c}+{b}{c}\\right)$”。如果要将S作为一个独立的LaTeX符号，参与下一步运算。比如对于一个筒厚远小于长宽高的长方体薄筒，要计算其体积，那么需要通过公式$V=Sd$运算。此时就需要把S的符号更新为“$S$”，通过调用`refreshSym(sym)`方法实现符号的更新："
   ]
  },
  {
   "cell_type": "code",
   "execution_count": 13,
   "metadata": {},
   "outputs": [
    {
     "name": "stdout",
     "output_type": "stream",
     "text": [
      "S.sym() = {S}\n",
      "S.cal() = {263}\n"
     ]
    }
   ],
   "source": [
    "S.refreshSym('S')\n",
    "print('S.sym() =', S.sym())\n",
    "print('S.cal() =', S.cal())"
   ]
  },
  {
   "cell_type": "markdown",
   "metadata": {},
   "source": [
    "以下是通过**两步计算**得到长方体薄筒体积的例子："
   ]
  },
  {
   "cell_type": "code",
   "execution_count": 14,
   "metadata": {},
   "outputs": [
    {
     "data": {
      "text/latex": [
       "$$\\begin{align}&S=2\\left({a}{b}+{a}{c}+{b}{c}\\right)=2 \\times \\left({15.10} \\times {7.61}+{15.10} \\times {0.7346}+{7.61} \\times {0.7346}\\right)=263{\\rm cm^2}\\end{align}$$"
      ],
      "text/plain": [
       "<IPython.core.display.Math object>"
      ]
     },
     "metadata": {},
     "output_type": "display_data"
    },
    {
     "data": {
      "text/latex": [
       "$$\\begin{align}&V={S}{d}={263} \\times {4.59\\times 10^{-3}}=1.21{\\rm cm^3}\\end{align}$$"
      ],
      "text/plain": [
       "<IPython.core.display.Math object>"
      ]
     },
     "metadata": {},
     "output_type": "display_data"
    }
   ],
   "source": [
    "a = LSym('a', '15.10')\n",
    "b = LSym('b', '7.61')\n",
    "c = LSym('c', '0.7346')\n",
    "d = LSym('d', '0.00459')\n",
    "S = 2*(a*b+a*c+b*c)\n",
    "lp.dispLSym(S, 'S', 'cm^2').show()\n",
    "S.refreshSym('S')\n",
    "V = S*d\n",
    "lp.dispLSym(V, 'V', 'cm^3').show()"
   ]
  },
  {
   "cell_type": "markdown",
   "metadata": {},
   "source": [
    "### \\*1.6 LaTeX符号的数值大小比较"
   ]
  },
  {
   "cell_type": "markdown",
   "metadata": {},
   "source": [
    "LaTeX符号可以与LaTeX符号进行大小比较，也可以与纯数字进行大小比较，比较包括>、<、>=、<=。其比较从根本上是LaTeX符号的数值与其它数值或纯数字的比较："
   ]
  },
  {
   "cell_type": "code",
   "execution_count": 15,
   "metadata": {},
   "outputs": [
    {
     "data": {
      "text/plain": [
       "False"
      ]
     },
     "execution_count": 15,
     "metadata": {},
     "output_type": "execute_result"
    }
   ],
   "source": [
    "S < 100"
   ]
  },
  {
   "cell_type": "markdown",
   "metadata": {},
   "source": [
    "## 2.LSymItem类：一组符号计算过程的生成"
   ]
  },
  {
   "cell_type": "markdown",
   "metadata": {},
   "source": [
    "### 2.1 导入LSymItem类"
   ]
  },
  {
   "cell_type": "markdown",
   "metadata": {},
   "source": [
    "LSymItem类位于`analyticlab.lsymitem`模块内，通过以下指令实现导入："
   ]
  },
  {
   "cell_type": "code",
   "execution_count": 16,
   "metadata": {},
   "outputs": [],
   "source": [
    "from analyticlab.lsymitem import LSymItem"
   ]
  },
  {
   "cell_type": "markdown",
   "metadata": {},
   "source": [
    "### 2.2 符号组的创建与表达式生成的过程"
   ]
  },
  {
   "cell_type": "markdown",
   "metadata": {},
   "source": [
    "以空心圆柱体体积计算为例，假设有一批空心圆柱体工件，取其中5个样本测量其外径$d_1$，内径$d_0$，高$h$，从而估算出这批工件的平均体积，计算公式为$V=\\cfrac{\\pi}{4}\\left(d_1^2-d_0^2\\right)h$。相关数据如下："
   ]
  },
  {
   "cell_type": "markdown",
   "metadata": {},
   "source": [
    "$\\begin{array}{c|ccccc} \\text{样本} & 1 & 2 & 3 & 4 & 5 \\\\\n",
    "\\hline d_1{\\rm /cm} & 15.03 & 14.89 & 14.94 & 15.11 & 14.98\\\\\n",
    "d_0{\\rm /cm} & 7.61 & 7.70 & 7.55 & 7.63 & 7.66\\\\\n",
    "h{\\rm /cm} & 5.73 & 5.75 & 5.76 & 5.75 & 5.77\\\\\n",
    "\\end{array}$"
   ]
  },
  {
   "cell_type": "markdown",
   "metadata": {},
   "source": [
    "#### 2.2.1 控制代数表达式与数值表达式是否分离"
   ]
  },
  {
   "cell_type": "markdown",
   "metadata": {},
   "source": [
    "通过LSymItem类的静态类属性`LSymItem.sepSymCalc`，可以控制代数表达式和数值表达式是否分离。当`LSymItem.sepSymCalc=False`时不分离，其效果如下："
   ]
  },
  {
   "cell_type": "markdown",
   "metadata": {},
   "source": [
    "$\\begin{align}&{\\theta}_{1}=\\arcsin{{{k}}_{1}}=\\arcsin{{0.656}}=41.0{\\rm ^{\\circ}}\\\\&{\\theta}_{2}=\\arcsin{{{k}}_{2}}=\\arcsin{{0.687}}=43.4{\\rm ^{\\circ}}\\\\&{\\theta}_{3}=\\arcsin{{{k}}_{3}}=\\arcsin{{0.669}}=42.0{\\rm ^{\\circ}}\\\\&{\\theta}_{4}=\\arcsin{{{k}}_{4}}=\\arcsin{{0.675}}=42.5{\\rm ^{\\circ}}\\\\&\\overline{{\\theta}}=\\frac{1}{n}\\sum\\limits_{i=1}^n {\\theta}_{i}=\\frac{1}{4}\\left(41.0+43.4+42.0+42.5\\right)=42.2{\\rm ^{\\circ}}\\end{align}$"
   ]
  },
  {
   "cell_type": "markdown",
   "metadata": {},
   "source": [
    "当`LSymItem.sepSymCalc=True`时，代数表达式与数值表达式分离，其效果如下："
   ]
  },
  {
   "cell_type": "markdown",
   "metadata": {},
   "source": [
    "$\\begin{align}&\\text{根据公式}\\theta=\\arcsin{{k}}\\text{，得}\\\\&{\\theta}_{1}=\\arcsin{{0.656}}=41.0{\\rm ^{\\circ}}\\\\&{\\theta}_{2}=\\arcsin{{0.687}}=43.4{\\rm ^{\\circ}}\\\\&{\\theta}_{3}=\\arcsin{{0.669}}=42.0{\\rm ^{\\circ}}\\\\&{\\theta}_{4}=\\arcsin{{0.675}}=42.5{\\rm ^{\\circ}}\\\\&\\overline{{\\theta}}=\\frac{1}{n}\\sum\\limits_{i=1}^n {\\theta}_{i}=\\frac{1}{4}\\left(41.0+43.4+42.0+42.5\\right)=42.2{\\rm ^{\\circ}}\\end{align}$"
   ]
  },
  {
   "cell_type": "markdown",
   "metadata": {},
   "source": [
    "#### 2.2.2 创建LaTeX符号组"
   ]
  },
  {
   "cell_type": "markdown",
   "metadata": {},
   "source": [
    "LSymItem类的构造方法如下："
   ]
  },
  {
   "cell_type": "markdown",
   "metadata": {},
   "source": [
    "`LSymItem(sym, sNumItem, subs=None)`"
   ]
  },
  {
   "cell_type": "markdown",
   "metadata": {},
   "source": [
    "其中参数`sym`为符号；`sNumItem`为以NumItem数组给出的一组数据；subs为符号组中每个符号的下标，可以不给出。在LSym类的构造方法中符号、数值可以自行选择是否给出，相比之下，LSymItem类的构造方法要求**符号**和**对应的一组数据**都必须给出。"
   ]
  },
  {
   "cell_type": "markdown",
   "metadata": {},
   "source": [
    "* `sym`为整个LaTeX符号组统一用的符号，以LaTeX格式的字符串给出，例如'k'。在实际生成及展示计算过程时，若符号的下标`subs`未给出，那么符号$k$会被展示成$k_1$、$k_2$、$k_3$...的形式；符号下标给出时，比如所给的符号下标为'a b c d e f'时，符号$k$会被展示成$k_a$、$k_b$、$k_c$...的形式。\n",
    "* `sNumItem`为数组，可以以三种形式给出：①如果已有NumItem数组，那么直接给出NumItem数组即可；②将数组中的数值通过空格隔开，以字符串的形式表示出；③如果已有Num数值，可以给出Num数值的list。\n",
    "* `subs`为符号下标，以空格隔开的字符串形式给出。<i>**注意数组中有几个数值，就要对应几个下标。**</i>"
   ]
  },
  {
   "cell_type": "markdown",
   "metadata": {},
   "source": [
    "对于给出的长方体体积计算案例，通常应该以如下方式创建LaTeX符号组："
   ]
  },
  {
   "cell_type": "code",
   "execution_count": 17,
   "metadata": {},
   "outputs": [],
   "source": [
    "d1 = LSymItem('d_1', '15.03 14.89 14.94 15.11 14.98')\n",
    "d0 = LSymItem('d_0', '7.61 7.70 7.55 7.63 7.66')\n",
    "h = LSymItem('h', '5.73 5.75 5.76 5.75 5.77')"
   ]
  },
  {
   "cell_type": "markdown",
   "metadata": {},
   "source": [
    "或者，需要给出下标时，以如下方式创建LaTeX符号组："
   ]
  },
  {
   "cell_type": "code",
   "execution_count": 18,
   "metadata": {},
   "outputs": [],
   "source": [
    "d1 = LSymItem('d_1', '15.03 14.89 14.94 15.11 14.98', 'a b c d e')\n",
    "d0 = LSymItem('d_0', '7.61 7.70 7.55 7.63 7.66', 'a b c d e')\n",
    "h = LSymItem('h', '5.73 5.75 5.76 5.75 5.77', 'a b c d e')"
   ]
  },
  {
   "cell_type": "markdown",
   "metadata": {},
   "source": [
    "#### 2.2.3 给出数学关系式"
   ]
  },
  {
   "cell_type": "markdown",
   "metadata": {},
   "source": [
    "通过数学运算符`+`、`-`、`*`、`/`、`//`、`**`<i>（与LSym类似，“/”与“//”的区别也在于除号的形式不同）</i>，或者`amath`库中的函数，给出**各个LaTeX符号组之间**，或者**LaTeX符号组与LaTeX符号之间**的数学关系式。对于空心圆柱体体积的计算，需要用到Const类型的常数$\\pi$（关于Const类的详细介绍请见第七章），Const常数PI位于`analyticlab.const`模块内，通过如下方式引用PI，并给出数学关系式："
   ]
  },
  {
   "cell_type": "code",
   "execution_count": 19,
   "metadata": {},
   "outputs": [],
   "source": [
    "from analyticlab.const import PI\n",
    "V = PI/4 * (d1**2-d0**2) * h"
   ]
  },
  {
   "cell_type": "markdown",
   "metadata": {},
   "source": [
    "LSymItem与LSym可以混合运算，例如："
   ]
  },
  {
   "cell_type": "code",
   "execution_count": 20,
   "metadata": {},
   "outputs": [],
   "source": [
    "a = LSym('a', '4.31')\n",
    "b = LSymItem('b', '7.65 7.62 7.68 7.66 7.65')\n",
    "c = LSymItem('c', '4.13 4.09 4.12 4.12 4.10')\n",
    "y = a*(b-c)"
   ]
  },
  {
   "cell_type": "markdown",
   "metadata": {},
   "source": [
    "<i>注意：再给出数学关系式时，关系式中所有LaTeX符号组需要满足以下条件：</i>\n",
    "* <i>必须含有相同个数的符号。也就是说，b中有5个符号，那么c中也就只能有5个符号。</i>\n",
    "* <i>要么都没有下标，要么都有相同的下标。</i>"
   ]
  },
  {
   "cell_type": "markdown",
   "metadata": {},
   "source": [
    "#### 2.2.4 生成并展示计算过程"
   ]
  },
  {
   "cell_type": "markdown",
   "metadata": {},
   "source": [
    "通过`latexoutput`模块的`dispLSymItem`函数，可以生成全组计算表达式的LaTeX公式集。`dispLSymItem`函数如下："
   ]
  },
  {
   "cell_type": "markdown",
   "metadata": {},
   "source": [
    "`def dispLSymItem(lSymItem, resSym=None, resUnit=None, headExpr='根据公式$%s$，得', showMean=True, meanExpr=None)`"
   ]
  },
  {
   "cell_type": "markdown",
   "metadata": {},
   "source": [
    "前三个参数与dispLSym函数类似，参数`lSymItem`为通过数学关系式得到的目标变量的LaTeX符号组；`resSym`为目标变量的符号，字符串格式，可给出可不给出，但没有给出resUnit时，最终生成的计算表达式就没有目标变量符号那一项；`resUnit`为目标变量的单位，字符串格式，可给出可不给出，但没有给出resUnit时，最终生成的计算结果就没有单位。"
   ]
  },
  {
   "cell_type": "markdown",
   "metadata": {},
   "source": [
    "参数`headExpr`用于当`LSymItem.sepSymCalc=True`，即2.2.1中的例子所示时，控制独立代数表达式的修饰语，在`headExpr='根据公式$%s$，得'`中，`$%s$`会在生成LaTeX公式集时，被独立代数表达式取代，例如2.2.1中的“根据公式$\\theta=\\arcsin{{k}}$，得”。"
   ]
  },
  {
   "cell_type": "markdown",
   "metadata": {},
   "source": [
    "参数`showMean`控制在完成符号组中各符号的计算过程后，是否显示这些符号的均值的计算过程。参数`meanExpr`为当显示均值计算过程时，对均值计算过程进行语言修饰，如果使用修饰语，则需在修饰语中，用`$%s$`取代均值计算的表达式。例如在2.2.1中，若设置参数`showMean=True`，`meanExpr='故角度为%s'`，则均值的计算过程会变成“故角度为$\\overline{\\theta}=\\cfrac{1}{n}\\sum\\limits_{i=1}^n {\\theta}_{i}=\\cfrac{1}{4}\\left(41.0+43.4+42.0+42.5\\right)=42.2{\\rm ^{\\circ}}$”"
   ]
  },
  {
   "cell_type": "markdown",
   "metadata": {},
   "source": [
    "该函数返回一个LaTeX公式集，通过调用公式集的`show()`方法，可以将计算过程展示出来："
   ]
  },
  {
   "cell_type": "code",
   "execution_count": 21,
   "metadata": {},
   "outputs": [
    {
     "data": {
      "text/latex": [
       "$$\\begin{align}&{V}_{a}=\\cfrac{\\pi }{4}\\left({{d_1}_{a}}^{2}-{{d_0}_{a}}^{2}\\right){{h}_{a}}=\\cfrac{\\pi }{4} \\times \\left({15.03}^{2}-{7.61}^{2}\\right) \\times {5.73}=756{\\rm cm^3}\\\\&{V}_{b}=\\cfrac{\\pi }{4}\\left({{d_1}_{b}}^{2}-{{d_0}_{b}}^{2}\\right){{h}_{b}}=\\cfrac{\\pi }{4} \\times \\left({14.89}^{2}-{7.70}^{2}\\right) \\times {5.75}=734{\\rm cm^3}\\\\&{V}_{c}=\\cfrac{\\pi }{4}\\left({{d_1}_{c}}^{2}-{{d_0}_{c}}^{2}\\right){{h}_{c}}=\\cfrac{\\pi }{4} \\times \\left({14.94}^{2}-{7.55}^{2}\\right) \\times {5.76}=752{\\rm cm^3}\\\\&{V}_{d}=\\cfrac{\\pi }{4}\\left({{d_1}_{d}}^{2}-{{d_0}_{d}}^{2}\\right){{h}_{d}}=\\cfrac{\\pi }{4} \\times \\left({15.11}^{2}-{7.63}^{2}\\right) \\times {5.75}=768{\\rm cm^3}\\\\&{V}_{e}=\\cfrac{\\pi }{4}\\left({{d_1}_{e}}^{2}-{{d_0}_{e}}^{2}\\right){{h}_{e}}=\\cfrac{\\pi }{4} \\times \\left({14.98}^{2}-{7.66}^{2}\\right) \\times {5.77}=751{\\rm cm^3}\\\\&\\text{由此估算空心圆柱体的体积为$\\overline{{V}}=\\frac{1}{n}\\sum\\limits_{i=1}^n {V}_{i}=\\frac{1}{5}\\left(756+734+752+768+751\\right)=752{\\rm cm^3}$}\\end{align}$$"
      ],
      "text/plain": [
       "<IPython.core.display.Math object>"
      ]
     },
     "metadata": {},
     "output_type": "display_data"
    }
   ],
   "source": [
    "lp.dispLSymItem(V, 'V', 'cm^3', meanExpr='由此估算空心圆柱体的体积为$%s$').show()"
   ]
  },
  {
   "cell_type": "markdown",
   "metadata": {},
   "source": [
    "#### 2.2.5 完整过程示例"
   ]
  },
  {
   "cell_type": "markdown",
   "metadata": {},
   "source": [
    "对于空心圆柱体体积的计算，完整过程如下："
   ]
  },
  {
   "cell_type": "code",
   "execution_count": 22,
   "metadata": {},
   "outputs": [
    {
     "data": {
      "text/latex": [
       "$$\\begin{align}&{V}_{1}=\\cfrac{\\pi }{2}\\left({{r_1}}_{1}^{2}-{{r_0}}_{1}^{2}\\right){{h}}_{1}=\\cfrac{\\pi }{2} \\times \\left({15.03}^{2}-{7.61}^{2}\\right) \\times {5.73}=1.51\\times 10^{3}{\\rm cm^3}\\\\&{V}_{2}=\\cfrac{\\pi }{2}\\left({{r_1}}_{2}^{2}-{{r_0}}_{2}^{2}\\right){{h}}_{2}=\\cfrac{\\pi }{2} \\times \\left({14.89}^{2}-{7.70}^{2}\\right) \\times {5.75}=1.47\\times 10^{3}{\\rm cm^3}\\\\&{V}_{3}=\\cfrac{\\pi }{2}\\left({{r_1}}_{3}^{2}-{{r_0}}_{3}^{2}\\right){{h}}_{3}=\\cfrac{\\pi }{2} \\times \\left({14.94}^{2}-{7.55}^{2}\\right) \\times {5.76}=1.50\\times 10^{3}{\\rm cm^3}\\\\&{V}_{4}=\\cfrac{\\pi }{2}\\left({{r_1}}_{4}^{2}-{{r_0}}_{4}^{2}\\right){{h}}_{4}=\\cfrac{\\pi }{2} \\times \\left({15.11}^{2}-{7.63}^{2}\\right) \\times {5.75}=1.54\\times 10^{3}{\\rm cm^3}\\\\&{V}_{5}=\\cfrac{\\pi }{2}\\left({{r_1}}_{5}^{2}-{{r_0}}_{5}^{2}\\right){{h}}_{5}=\\cfrac{\\pi }{2} \\times \\left({14.98}^{2}-{7.66}^{2}\\right) \\times {5.77}=1.50\\times 10^{3}{\\rm cm^3}\\\\&\\text{由此估算空心圆柱体的体积为$\\overline{{V}}=\\frac{1}{n}\\sum\\limits_{i=1}^n {V}_{i}=\\frac{1}{5}\\left(1.51+1.47+1.50+1.54+1.50\\right)\\times 10^{3}=1.50\\times 10^{3}{\\rm cm^3}$}\\end{align}$$"
      ],
      "text/plain": [
       "<IPython.core.display.Math object>"
      ]
     },
     "metadata": {},
     "output_type": "display_data"
    }
   ],
   "source": [
    "#导入Const类型的PI\n",
    "from analyticlab.const import PI\n",
    "#创建3个LaTeX符号组\n",
    "r1 = LSymItem('r_1', '15.03 14.89 14.94 15.11 14.98')\n",
    "r0 = LSymItem('r_0', '7.61 7.70 7.55 7.63 7.66')\n",
    "h = LSymItem('h', '5.73 5.75 5.76 5.75 5.77')\n",
    "#通过数学运算符给出数学关系式\n",
    "V = PI/2 * (r1**2-r0**2) * h\n",
    "#调用dispLSym函数生成并展示计算过程\n",
    "lp.dispLSymItem(V, 'V', 'cm^3', meanExpr='由此估算空心圆柱体的体积为$%s$').show()"
   ]
  },
  {
   "cell_type": "markdown",
   "metadata": {},
   "source": [
    "### 2.3 符号组元素的访问"
   ]
  },
  {
   "cell_type": "markdown",
   "metadata": {},
   "source": [
    "符号组中的某个符号可以被单独访问，访问到的符号为LSym格式。如何访问单个符号与符号下标`subs`有关："
   ]
  },
  {
   "cell_type": "markdown",
   "metadata": {},
   "source": [
    "* 当符号组没有定义下标时，数组元素的访问方式与list相同，即以数字作为索引访问单个符号："
   ]
  },
  {
   "cell_type": "code",
   "execution_count": 23,
   "metadata": {},
   "outputs": [
    {
     "data": {
      "text/plain": [
       "{{m}}_{4}"
      ]
     },
     "execution_count": 23,
     "metadata": {},
     "output_type": "execute_result"
    }
   ],
   "source": [
    "m = LSymItem('m', '6.71 6.68 6.74 6.65 6.69')\n",
    "m[3]"
   ]
  },
  {
   "cell_type": "markdown",
   "metadata": {},
   "source": [
    "<i>这里访问m[3]，实际上得到的却是$m_4$，这是由于Python中的list索引是从0开始的，而analyticlab的符号组下标时从1开始的。因此在访问单个符号时应加以注意。</i>"
   ]
  },
  {
   "cell_type": "markdown",
   "metadata": {},
   "source": [
    "* 当符号组定义了下标时，数组元素的访问方式与dict相同，即以下标作为索引访问单个符号："
   ]
  },
  {
   "cell_type": "code",
   "execution_count": 24,
   "metadata": {},
   "outputs": [
    {
     "data": {
      "text/plain": [
       "{{n}_{b}}"
      ]
     },
     "execution_count": 24,
     "metadata": {},
     "output_type": "execute_result"
    }
   ],
   "source": [
    "n = LSymItem('n', '6.71 6.68 6.74 6.65 6.69', 'a b c d e')\n",
    "n['b']"
   ]
  },
  {
   "cell_type": "markdown",
   "metadata": {},
   "source": [
    "### 2.4 更新LSymItem的符号"
   ]
  },
  {
   "cell_type": "markdown",
   "metadata": {},
   "source": [
    "在1.5中，提到了可以通过`refreshSym(sym)`方法更新LSym的符号。同理，在LaTeX符号组中，也可以通过`refreshSym(sym)`方法更新LSymItem的符号："
   ]
  },
  {
   "cell_type": "code",
   "execution_count": 25,
   "metadata": {},
   "outputs": [
    {
     "data": {
      "text/plain": [
       "['\\\\cfrac{\\\\pi }{2}\\\\left({{r_1}}_{1}^{2}-{{r_0}}_{1}^{2}\\\\right){{h}}_{1}',\n",
       " '\\\\cfrac{\\\\pi }{2}\\\\left({{r_1}}_{2}^{2}-{{r_0}}_{2}^{2}\\\\right){{h}}_{2}',\n",
       " '\\\\cfrac{\\\\pi }{2}\\\\left({{r_1}}_{3}^{2}-{{r_0}}_{3}^{2}\\\\right){{h}}_{3}',\n",
       " '\\\\cfrac{\\\\pi }{2}\\\\left({{r_1}}_{4}^{2}-{{r_0}}_{4}^{2}\\\\right){{h}}_{4}',\n",
       " '\\\\cfrac{\\\\pi }{2}\\\\left({{r_1}}_{5}^{2}-{{r_0}}_{5}^{2}\\\\right){{h}}_{5}']"
      ]
     },
     "execution_count": 25,
     "metadata": {},
     "output_type": "execute_result"
    }
   ],
   "source": [
    "[Vi.sym() for Vi in V]   #显示更新前LaTeX符号组V中的符号"
   ]
  },
  {
   "cell_type": "code",
   "execution_count": 26,
   "metadata": {},
   "outputs": [],
   "source": [
    "V.refreshSym('V')"
   ]
  },
  {
   "cell_type": "code",
   "execution_count": 27,
   "metadata": {},
   "outputs": [
    {
     "data": {
      "text/plain": [
       "['{V}_{1}', '{V}_{2}', '{V}_{3}', '{V}_{4}', '{V}_{5}']"
      ]
     },
     "execution_count": 27,
     "metadata": {},
     "output_type": "execute_result"
    }
   ],
   "source": [
    "[Vi.sym() for Vi in V]  #显示更新后LaTeX符号组V中的符号"
   ]
  },
  {
   "cell_type": "markdown",
   "metadata": {},
   "source": [
    "### 2.5 类型转换：将LSymItem转换成NumItem"
   ]
  },
  {
   "cell_type": "markdown",
   "metadata": {},
   "source": [
    "直接通过`NumItem(h)`即可实现将h由LSymItem符号组转换为NumItem数组："
   ]
  },
  {
   "cell_type": "code",
   "execution_count": 28,
   "metadata": {},
   "outputs": [],
   "source": [
    "from analyticlab.numitem import NumItem\n",
    "nh = NumItem(h)"
   ]
  },
  {
   "cell_type": "markdown",
   "metadata": {},
   "source": [
    "将LSymItem转换成NumItem时，只会将LSymItem中的一组数值传递给NumItem，而不会传递LSymItem的符号。如果需要设置转换后的NumItem的符号或单位，应该按照NumItem的构造方法，以如下方式实现转换："
   ]
  },
  {
   "cell_type": "code",
   "execution_count": 29,
   "metadata": {},
   "outputs": [],
   "source": [
    "nh = NumItem(h, sym='h', unit='cm')"
   ]
  },
  {
   "cell_type": "code",
   "execution_count": null,
   "metadata": {},
   "outputs": [],
   "source": []
  }
 ],
 "metadata": {
  "kernelspec": {
   "display_name": "Python 3",
   "language": "python",
   "name": "python3"
  },
  "language_info": {
   "codemirror_mode": {
    "name": "ipython",
    "version": 3
   },
   "file_extension": ".py",
   "mimetype": "text/x-python",
   "name": "python",
   "nbconvert_exporter": "python",
   "pygments_lexer": "ipython3",
   "version": "3.6.3"
  }
 },
 "nbformat": 4,
 "nbformat_minor": 2
}
