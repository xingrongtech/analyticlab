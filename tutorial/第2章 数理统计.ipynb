{
 "cells": [
  {
   "cell_type": "markdown",
   "metadata": {},
   "source": [
    "# 第二章 数理统计"
   ]
  },
  {
   "cell_type": "markdown",
   "metadata": {},
   "source": [
    "**数理统计部分**可以对NumItem数组中的数据进行简单的数理统计功能，每个NumItem数组会被视为一个样本。对于单个样本（即单个NumItem），可以通过`NumItem`类自身实现偏差计算、误差计算、置信区间、单个样本的显著性检验。对于两个样本（即两个NumItem），可以通过`analyticlab.twoitems`模块实现方差、协方差、两个样本的显著性检验。在Jupyter Notebook环境下，所有数理统计功能均支持生成并展示计算过程，通过在调用类方法或函数时，附加参数`process=True`来实现。"
   ]
  },
  {
   "cell_type": "markdown",
   "metadata": {},
   "source": [
    "#### 本章涉及的类与模块：\n",
    "* (部分了解)NumItem类 - 数组\n",
    "* 库函数 - 两个样本的数理统计\n",
    "* (初步了解)LaTeX类 - 公式集"
   ]
  },
  {
   "cell_type": "markdown",
   "metadata": {},
   "source": [
    "## 1.NumItem类：单个样本的数理统计"
   ]
  },
  {
   "cell_type": "markdown",
   "metadata": {},
   "source": [
    "### 1.1 类方法列表"
   ]
  },
  {
   "cell_type": "markdown",
   "metadata": {},
   "source": [
    "#### NumItem类用于数理统计的类方法如下：\n",
    "* 基本统计：\n",
    "    * `def isum(process=False, needValue=False)` - 求和\n",
    "    * `def mean(process=False, needValue=False, dec=False)` - 样本均值\n",
    "    * `def mid(process=False, needValue=False)` - 中位数\n",
    "* 偏差计算：\n",
    "    * `def devi(process=False, needValue=False)` - 偏差\n",
    "    * `def staDevi(process=False, processWithMean=True, needValue=False, dec=False, remainOneMoreDigit=False)` - 样本标准偏差\n",
    "    * `def relStaDevi(process=False, needValue=False)` - 相对标准偏差/变异系数\n",
    "    * `def relDevi(process=False, needValue=False)` - 相对偏差\n",
    "    * `def avgDevi(process=False, needValue=False)` - 平均偏差\n",
    "    * `def relAvgDevi(process=False, needValue=False)` - 相对平均偏差\n",
    "* 误差计算：\n",
    "    * `def absErr(process=False, needValue=False, description='')` - 绝对误差\n",
    "    * `def relErr(process=False, needValue=False, description='')` - 相对误差\n",
    "* 区间估计与假设检验：\n",
    "    * `def samConfIntv(confLevel=0.95, side='double', process=False, needValue=False)` - 置信区间\n",
    "    * `def tTest(confLevel=0.95, side='double', process=False, needValue=False)` - t检验（单个样本的显著性检验）"
   ]
  },
  {
   "cell_type": "markdown",
   "metadata": {},
   "source": [
    "### 1.2 最简单的调用"
   ]
  },
  {
   "cell_type": "markdown",
   "metadata": {},
   "source": [
    "在1.1所述的类方法中，所有参数均为可选参数。在调用这些类方法时，最简单的方法是直接调用而不传入任何参数，统计结果为单独一个数（如均值、标准偏差）时，会返回一个Num数值；统计结果为一个数组（如偏差、相对误差）时，会返回一个NumItem数组："
   ]
  },
  {
   "cell_type": "code",
   "execution_count": 1,
   "metadata": {},
   "outputs": [
    {
     "name": "stdout",
     "output_type": "stream",
     "text": [
      "Al.mean() = 10.60\n",
      "Al.staDevi() = 10.60\n",
      "Al.relStaDevi() = 10.60\n",
      "Al.devi() = [0.09, -0.34, 0.12, 0.12]\n",
      "Al.relDevi() = [0.9%, -3%, 1.1%, 1.2%]\n"
     ]
    }
   ],
   "source": [
    "from analyticlab import NumItem\n",
    "Al = NumItem('10.69 10.26 10.71 10.72')\n",
    "print('Al.mean() =', Al.mean())\n",
    "print('Al.staDevi() =', Al.mean())\n",
    "print('Al.relStaDevi() =', Al.mean())\n",
    "print('Al.devi() =', Al.devi())\n",
    "print('Al.relDevi() =', Al.relDevi())"
   ]
  },
  {
   "cell_type": "markdown",
   "metadata": {},
   "source": [
    "### 1.3 特别说明"
   ]
  },
  {
   "cell_type": "markdown",
   "metadata": {},
   "source": [
    "#### 1.3.1 样本标准偏差可以多保留一位有效数字"
   ]
  },
  {
   "cell_type": "markdown",
   "metadata": {},
   "source": [
    "staDevi方法中的remainOneMoreDigit可以设置标准偏差结果**是否多保留一位有效数字**，通过设置参数remainOneMoreDigit=True，可以实现输出数值多保留一位有效数字。"
   ]
  },
  {
   "cell_type": "markdown",
   "metadata": {},
   "source": [
    "#### 1.3.2 误差计算和t检验需要给出真值$\\mu$"
   ]
  },
  {
   "cell_type": "markdown",
   "metadata": {},
   "source": [
    "在第一章提到了NumItem类的构造方法："
   ]
  },
  {
   "cell_type": "markdown",
   "metadata": {},
   "source": [
    "`NumItem(nums, mu=None, isRelative=False, sym='x', unit=None, muSym=r'\\mu')`"
   ]
  },
  {
   "cell_type": "markdown",
   "metadata": {},
   "source": [
    "其中参数mu表示真值，通常情况下不需要给出真值，但需要进行与真值有关的统计，即误差计算和t检验时，必须给出真值。此时应该在创建NumItem时给出<i>**字符串形式**</i>的参数mu："
   ]
  },
  {
   "cell_type": "code",
   "execution_count": 2,
   "metadata": {},
   "outputs": [],
   "source": [
    "Al = NumItem('10.69 10.26 10.71 10.72', mu='10.70')"
   ]
  },
  {
   "cell_type": "markdown",
   "metadata": {},
   "source": [
    "或者通过`setMu(mu)`方法给出真值$\\mu$，此时仍应以字符串形式给出："
   ]
  },
  {
   "cell_type": "code",
   "execution_count": 3,
   "metadata": {},
   "outputs": [],
   "source": [
    "Al.setMu('10.70')"
   ]
  },
  {
   "cell_type": "markdown",
   "metadata": {},
   "source": [
    "#### 1.3.3 区间估计与假设检验"
   ]
  },
  {
   "cell_type": "markdown",
   "metadata": {},
   "source": [
    "##### 可选参数confLevel与side说明：\n",
    "* `confLevel`为置信水平，默认取`confLevel=0.95`，如果确实需要更改置信水平，建议选0.6826、0.90、0.95、0.98、0.99中的一个，也可以选其它值，但由于其他值不再analyticlab内置的t表内，需要调用scipy库计算t值，因此程序速度会变慢。\n",
    "* `side`为哪侧检验，其取值如下：\n",
    "    * 在`samConfIntv`方法中，`'double'`表示双侧，`'left'`表示左侧，`'right'`表示右侧，默认`side='double'`。\n",
    "    * 在`tTest`方法中，`'double`'表示双侧，`'down'`表示下限，`'up'`表示上限，默认`side='double'`。"
   ]
  },
  {
   "cell_type": "markdown",
   "metadata": {},
   "source": [
    "##### 返回值说明：\n",
    "* `samConfIntv`方法返回的是由置信上界和置信下界组成的元组，如`(7.46, 7.37)`，对于单侧置信区间，其另一侧边界用无穷大表示，如`(7.28, '+∞')`。\n",
    "* `tTest`检验测定值与真值$\\mu$有无明显差别，有明显差别时返回True，无明显差别时返回False。"
   ]
  },
  {
   "cell_type": "code",
   "execution_count": 4,
   "metadata": {},
   "outputs": [
    {
     "name": "stdout",
     "output_type": "stream",
     "text": [
      "Al.samConfIntv() = (10.24, 10.95)\n",
      "Al.samConfIntv(confLevel=0.99) = (9.94, 11.25)\n",
      "Al.samConfIntv(side='left') = (10.33, '+∞')\n",
      "Al.tTest() = False\n",
      "Al.tTest(side='down') = False\n"
     ]
    }
   ],
   "source": [
    "Al = NumItem('10.69 10.26 10.71 10.72', mu='10.70')\n",
    "print('Al.samConfIntv() =', Al.samConfIntv())\n",
    "print('Al.samConfIntv(confLevel=0.99) =', Al.samConfIntv(confLevel=0.99))\n",
    "print(\"Al.samConfIntv(side='left') =\", Al.samConfIntv(side='left'))\n",
    "print('Al.tTest() =', Al.tTest())\n",
    "print(\"Al.tTest(side='down') =\", Al.tTest(side='down'))"
   ]
  },
  {
   "cell_type": "markdown",
   "metadata": {},
   "source": [
    "### 1.4 生成并展示计算过程"
   ]
  },
  {
   "cell_type": "markdown",
   "metadata": {},
   "source": [
    "在1.1所述的类方法中，均有2个参数`process`和`needValue`，**首先说明参数`process`**："
   ]
  },
  {
   "cell_type": "markdown",
   "metadata": {},
   "source": [
    "参数process表明是否要生成计算过程，默认`process=False`，此时将返回统计结果。当设置`process=True`时，将会返回一个数据类型为LaTeX的公式集（关于公式集的详细介绍会在第六章给出），该公式集包含相应统计的计算过程。在Jupyter Notebook环境下，公式集会自动展示出来。当公式集不能自动展示时，也可调用`show()`方法展示。下面以`staDevi`方法为例："
   ]
  },
  {
   "cell_type": "code",
   "execution_count": 5,
   "metadata": {},
   "outputs": [
    {
     "data": {
      "text/plain": [
       "0.22"
      ]
     },
     "execution_count": 5,
     "metadata": {},
     "output_type": "execute_result"
    }
   ],
   "source": [
    "Al.staDevi()  #直接调用时，返回的是计算结果"
   ]
  },
  {
   "cell_type": "code",
   "execution_count": 6,
   "metadata": {},
   "outputs": [
    {
     "data": {
      "text/latex": [
       "$\\begin{align}&\\overline{{x}}=\\frac{1}{n}\\sum\\limits_{i=1}^n {x}_{i}=\\frac{1}{4}\\left(10.69+10.26+10.71+10.72\\right)=10.60\\\\ \n",
       "&s_{{x}}=\\sqrt{\\frac{1}{n-1}\\sum\\limits_{i=1}^n\\left({x}_{i}-\\overline{{x}}\\right)^{2}}=\\sqrt{\\frac{1}{3}\\left[0.09^{2}+\\left(-0.34\\right)^{2}+0.12^{2}+0.12^{2}\\right]}=0.22\\end{align}$"
      ],
      "text/plain": [
       "<analyticlab.latexoutput.LaTeX at 0x7f23db493358>"
      ]
     },
     "execution_count": 6,
     "metadata": {},
     "output_type": "execute_result"
    }
   ],
   "source": [
    "Al.staDevi(process=True)  #设定process=True时，返回一个LaTeX对象，并展示其中的计算过程"
   ]
  },
  {
   "cell_type": "code",
   "execution_count": 7,
   "metadata": {},
   "outputs": [
    {
     "data": {
      "text/latex": [
       "$\\begin{align}&\\overline{{x}}=\\frac{1}{n}\\sum\\limits_{i=1}^n {x}_{i}=\\frac{1}{4}\\left(10.69+10.26+10.71+10.72\\right)=10.60\\\\ \n",
       "&s_{{x}}=\\sqrt{\\frac{1}{n-1}\\sum\\limits_{i=1}^n\\left({x}_{i}-\\overline{{x}}\\right)^{2}}=\\sqrt{\\frac{1}{3}\\left[0.09^{2}+\\left(-0.34\\right)^{2}+0.12^{2}+0.12^{2}\\right]}=0.22\\end{align}$"
      ],
      "text/plain": [
       "<IPython.core.display.Latex object>"
      ]
     },
     "metadata": {},
     "output_type": "display_data"
    }
   ],
   "source": [
    "Al.staDevi(process=True).show()  #也可调用公式集的show()方法展示"
   ]
  },
  {
   "cell_type": "markdown",
   "metadata": {},
   "source": [
    "可以注意到staDevi方法还有一个特别的参数`processWithMean`，该参数表明当需要生成计算过程时，是否要包含均值的计算过程在内。默认`processWithMean=True`，此时会在样本标准偏差的计算过程中包含均值的计算过程，如上面的例子所示。当设置`processWithMean=False`时，会发生如下变化："
   ]
  },
  {
   "cell_type": "code",
   "execution_count": 8,
   "metadata": {},
   "outputs": [
    {
     "data": {
      "text/latex": [
       "$\\begin{align}&s_{{x}}=\\sqrt{\\frac{1}{n-1}\\sum\\limits_{i=1}^n\\left({x}_{i}-\\overline{{x}}\\right)^{2}}=\\sqrt{\\frac{1}{3}\\left[0.09^{2}+\\left(-0.34\\right)^{2}+0.12^{2}+0.12^{2}\\right]}=0.22\\end{align}$"
      ],
      "text/plain": [
       "<analyticlab.latexoutput.LaTeX at 0x7f23db484dd8>"
      ]
     },
     "execution_count": 8,
     "metadata": {},
     "output_type": "execute_result"
    }
   ],
   "source": [
    "Al.staDevi(process=True, processWithMean=False)"
   ]
  },
  {
   "cell_type": "markdown",
   "metadata": {},
   "source": [
    "<i>注意：当process=False时，不需要设置processWithMean参数，此时设置该参数不会有任何效果。</i>"
   ]
  },
  {
   "cell_type": "markdown",
   "metadata": {},
   "source": [
    "**然后说明参数`needValue`**："
   ]
  },
  {
   "cell_type": "markdown",
   "metadata": {},
   "source": [
    "通过上面的例子可以看出，当`process=True`时，将会返回计算过程的LaTeX公式集，而不是统计结果。如果想返回公式集的同时返回统计结果，可以设置`needValue=True`，此时返回值将会是一个元组，元组中第1个值为统计结果，第2个值为LaTeX公式集。下面仍以`staDevi`方法为例："
   ]
  },
  {
   "cell_type": "code",
   "execution_count": 9,
   "metadata": {},
   "outputs": [],
   "source": [
    "s, lx = Al.staDevi(process=True, needValue=True)  #既得到了方差s，又得到了相应的计算过程lx"
   ]
  },
  {
   "cell_type": "code",
   "execution_count": 10,
   "metadata": {},
   "outputs": [
    {
     "data": {
      "text/plain": [
       "0.22"
      ]
     },
     "execution_count": 10,
     "metadata": {},
     "output_type": "execute_result"
    }
   ],
   "source": [
    "s"
   ]
  },
  {
   "cell_type": "code",
   "execution_count": 11,
   "metadata": {},
   "outputs": [
    {
     "data": {
      "text/latex": [
       "$\\begin{align}&\\overline{{x}}=\\frac{1}{n}\\sum\\limits_{i=1}^n {x}_{i}=\\frac{1}{4}\\left(10.69+10.26+10.71+10.72\\right)=10.60\\\\ \n",
       "&s_{{x}}=\\sqrt{\\frac{1}{n-1}\\sum\\limits_{i=1}^n\\left({x}_{i}-\\overline{{x}}\\right)^{2}}=\\sqrt{\\frac{1}{3}\\left[0.09^{2}+\\left(-0.34\\right)^{2}+0.12^{2}+0.12^{2}\\right]}=0.22\\end{align}$"
      ],
      "text/plain": [
       "<analyticlab.latexoutput.LaTeX at 0x7f24003d9860>"
      ]
     },
     "execution_count": 11,
     "metadata": {},
     "output_type": "execute_result"
    }
   ],
   "source": [
    "lx  #通过返回的公式集展示计算过程"
   ]
  },
  {
   "cell_type": "markdown",
   "metadata": {},
   "source": [
    "<i>注意：当process=False时，不需要设置needValue参数，此时设置该参数不会有任何效果。</i>"
   ]
  },
  {
   "cell_type": "markdown",
   "metadata": {},
   "source": [
    "#### 1.4.1 设置数组的符号和单位"
   ]
  },
  {
   "cell_type": "markdown",
   "metadata": {},
   "source": [
    "不妨在看下NumItem类的构造方法："
   ]
  },
  {
   "cell_type": "markdown",
   "metadata": {},
   "source": [
    "`NumItem(nums, mu=None, isRelative=False, sym='x', unit=None, muSym=r'\\mu')`"
   ]
  },
  {
   "cell_type": "markdown",
   "metadata": {},
   "source": [
    "构造方法中还有2个之前没有具体说明的可选参数`sym`和`unit`，这2个参数会影响生成的计算过程。与1.4中的例子比较会发现，`sym`的默认值为`'x'`，所以计算过程中符号用$x$表示；`unit`的默认值为None，所以计算过程中没有给出单位。给出参数`sym`或`unit`（注意要给出LaTeX格式的符号或单位），可以看到计算过程中的符号或单位发生如下变化："
   ]
  },
  {
   "cell_type": "code",
   "execution_count": 12,
   "metadata": {},
   "outputs": [
    {
     "data": {
      "text/latex": [
       "$\\begin{align}&\\overline{{t}}=\\frac{1}{n}\\sum\\limits_{i=1}^n {t}_{i}=\\frac{1}{4}\\left(5.57+5.71+5.39+5.51\\right)=5.54\\\\ \n",
       "&s_{{t}}=\\sqrt{\\frac{1}{n-1}\\sum\\limits_{i=1}^n\\left({t}_{i}-\\overline{{t}}\\right)^{2}}=\\sqrt{\\frac{1}{3}\\left[0.03^{2}+0.17^{2}+\\left(-0.16\\right)^{2}+\\left(-0.04\\right)^{2}\\right]}=0.13\\end{align}$"
      ],
      "text/plain": [
       "<analyticlab.latexoutput.LaTeX at 0x7f24003d97f0>"
      ]
     },
     "execution_count": 12,
     "metadata": {},
     "output_type": "execute_result"
    }
   ],
   "source": [
    "t = NumItem('5.57 5.71 5.39 5.51', sym='t')\n",
    "t.staDevi(process=True)  #符号发生了变化"
   ]
  },
  {
   "cell_type": "code",
   "execution_count": 13,
   "metadata": {},
   "outputs": [
    {
     "data": {
      "text/latex": [
       "$\\begin{align}&\\overline{{t}}=\\frac{1}{n}\\sum\\limits_{i=1}^n {t}_{i}=\\frac{1}{4}\\left(5.57+5.71+5.39+5.51\\right)=5.54{\\rm s}\\\\ \n",
       "&s_{{t}}=\\sqrt{\\frac{1}{n-1}\\sum\\limits_{i=1}^n\\left({t}_{i}-\\overline{{t}}\\right)^{2}}=\\sqrt{\\frac{1}{3}\\left[0.03^{2}+0.17^{2}+\\left(-0.16\\right)^{2}+\\left(-0.04\\right)^{2}\\right]}=0.13{\\rm s}\\end{align}$"
      ],
      "text/plain": [
       "<analyticlab.latexoutput.LaTeX at 0x7f24003d9be0>"
      ]
     },
     "execution_count": 13,
     "metadata": {},
     "output_type": "execute_result"
    }
   ],
   "source": [
    "t = NumItem('5.57 5.71 5.39 5.51', sym='t', unit='s')\n",
    "t.staDevi(process=True)  #符号和单位都发生了变化"
   ]
  },
  {
   "cell_type": "markdown",
   "metadata": {},
   "source": [
    "也可以通过`setSym(sym)`和`setUnit(unit)`设置NumItem数组的符号和单位。要想获知数组的符号和单位，可以通过`sym()`或`unit()`方法获取："
   ]
  },
  {
   "cell_type": "code",
   "execution_count": 14,
   "metadata": {},
   "outputs": [
    {
     "data": {
      "text/plain": [
       "'{t_{1}}'"
      ]
     },
     "execution_count": 14,
     "metadata": {},
     "output_type": "execute_result"
    }
   ],
   "source": [
    "t.setSym('t_{1}')  #设置符号\n",
    "t.sym()  #获取符号"
   ]
  },
  {
   "cell_type": "code",
   "execution_count": 15,
   "metadata": {},
   "outputs": [
    {
     "data": {
      "text/latex": [
       "$\\begin{align}&\\overline{{t_{1}}}=\\frac{1}{n}\\sum\\limits_{i=1}^n {t_{1}}_{i}=\\frac{1}{4}\\left(5.57+5.71+5.39+5.51\\right)=5.54{\\rm s}\\\\ \n",
       "&s_{{t_{1}}}=\\sqrt{\\frac{1}{n-1}\\sum\\limits_{i=1}^n\\left({t_{1}}_{i}-\\overline{{t_{1}}}\\right)^{2}}=\\sqrt{\\frac{1}{3}\\left[0.03^{2}+0.17^{2}+\\left(-0.16\\right)^{2}+\\left(-0.04\\right)^{2}\\right]}=0.13{\\rm s}\\end{align}$"
      ],
      "text/plain": [
       "<analyticlab.latexoutput.LaTeX at 0x7f24003d94e0>"
      ]
     },
     "execution_count": 15,
     "metadata": {},
     "output_type": "execute_result"
    }
   ],
   "source": [
    "t.staDevi(process=True)  #更新符号后再次展示计算过程"
   ]
  },
  {
   "cell_type": "markdown",
   "metadata": {},
   "source": [
    "#### 1.4.2 设置真值的符号"
   ]
  },
  {
   "cell_type": "markdown",
   "metadata": {},
   "source": [
    "在进行误差相关的计算，并展示计算过程时，默认情况下，真值的符号是以$\\mu$展示出来的，这是因为在NumItem类的构造方法中，参数`muSym`的默认值为r'\\mu'。如果要改变真值的符号，可以在创建NumItem数组时，给出参数`muSym`（注意要给出LaTeX格式的真值符号）："
   ]
  },
  {
   "cell_type": "code",
   "execution_count": 16,
   "metadata": {},
   "outputs": [
    {
     "data": {
      "text/latex": [
       "$\\begin{align}&\\text{根据公式}E_{i}={m}_{i}-m_真，得\\\\ \n",
       "&E_{1}=13.26-13.23=0.03{\\rm kg}\\\\ \n",
       "&E_{2}=13.21-13.23=-0.02{\\rm kg}\\\\ \n",
       "&E_{3}=13.17-13.23=-0.06{\\rm kg}\\\\ \n",
       "&E_{4}=13.22-13.23=-0.01{\\rm kg}\\end{align}$"
      ],
      "text/plain": [
       "<analyticlab.latexoutput.LaTeX at 0x7f24003d9d68>"
      ]
     },
     "execution_count": 16,
     "metadata": {},
     "output_type": "execute_result"
    }
   ],
   "source": [
    "m = NumItem('13.26 13.21 13.17 13.22', sym='m', unit='kg', mu='13.23', muSym='m_真')\n",
    "m.absErr(process=True)"
   ]
  },
  {
   "cell_type": "markdown",
   "metadata": {},
   "source": [
    "也可以通过`setMuSym(muSym)`设置真值的符号。要想获知真值符号，可以通过`muSym()`方法获取。"
   ]
  },
  {
   "cell_type": "markdown",
   "metadata": {},
   "source": [
    "### \\*1.5 输出纯数字，而不是Num数值"
   ]
  },
  {
   "cell_type": "markdown",
   "metadata": {},
   "source": [
    "在`mean`和`staDevi`方法中，还有一个参数dec，该参数表明是否以纯数字形式返回统计结果。当设置`dec=True`时，参数process、processWithMean、needValue、remainOneMoreDigit都会失去意义，即返回值在`dec=True`时只能是统计结果的纯数字形式："
   ]
  },
  {
   "cell_type": "code",
   "execution_count": 17,
   "metadata": {},
   "outputs": [
    {
     "data": {
      "text/plain": [
       "0.13304134695650086"
      ]
     },
     "execution_count": 17,
     "metadata": {},
     "output_type": "execute_result"
    }
   ],
   "source": [
    "t.staDevi(dec=True)"
   ]
  },
  {
   "cell_type": "markdown",
   "metadata": {},
   "source": [
    "## 2.使用库函数进行两个样本的数理统计"
   ]
  },
  {
   "cell_type": "markdown",
   "metadata": {},
   "source": [
    "### 2.1 函数列表"
   ]
  },
  {
   "cell_type": "markdown",
   "metadata": {},
   "source": [
    "#### analyticlab支持的两个样本数理统计的函数如下：\n",
    "* `def cov(X, Y, process=False, processWithMean=True, needValue=False, dec=False, remainOneMoreDigit=False)` - 协方差\n",
    "* `def corrCoef(X, Y, process=False, needValue=False, remainOneMoreDigit=False)` - 相关系数\n",
    "* `def sigDifference(X, Y, confLevel=0.95, process=False, needValue=False)` - 两个样本的显著性检验"
   ]
  },
  {
   "cell_type": "markdown",
   "metadata": {},
   "source": [
    "### 2.2 最简单的调用"
   ]
  },
  {
   "cell_type": "markdown",
   "metadata": {},
   "source": [
    "在调用这些函数时，最简单的方法是只传入X和Y两个样本的NumItem数组，对于`cov`和`corrCoef`函数，返回值为Num数值；对于`sigDifference`函数，两个样本有显著差异（$F>F_{\\text{表}}$或$t>t_{\\text{表}}$）时返回True，无显著差异时返回False："
   ]
  },
  {
   "cell_type": "code",
   "execution_count": 18,
   "metadata": {},
   "outputs": [],
   "source": [
    "from analyticlab import corrCoef\n",
    "d1 = NumItem('4.88 6.03 7.11 7.94 9.01')\n",
    "d2 = NumItem('1.02 2.01 3.05 3.96 4.94')"
   ]
  },
  {
   "cell_type": "markdown",
   "metadata": {},
   "source": [
    "### 2.3 生成并展示计算过程"
   ]
  },
  {
   "cell_type": "markdown",
   "metadata": {},
   "source": [
    "与NumItem类似，两个样本的数理统计函数也可生成并展示计算过程，如下所示："
   ]
  },
  {
   "cell_type": "code",
   "execution_count": 19,
   "metadata": {},
   "outputs": [
    {
     "data": {
      "text/latex": [
       "$\\begin{align}&\\bbox[gainsboro, 2px]{\\text{【通过F检验，比较两组的精密度】}}\\\\ \n",
       "&\\overline{{m_{1}}}=\\frac{1}{n}\\sum\\limits_{i=1}^n {m_{1}}_{i}=\\frac{1}{4}\\left(10.69+10.67+10.74+10.72\\right)=10.71{\\rm g}\\\\ \n",
       "&s_{{m_{1}}}=\\sqrt{\\frac{1}{n-1}\\sum\\limits_{i=1}^n\\left({m_{1}}_{i}-\\overline{{m_{1}}}\\right)^{2}}=\\sqrt{\\frac{1}{3}\\left[\\left(-0.02\\right)^{2}+\\left(-0.04\\right)^{2}+0.04^{2}+0.02^{2}\\right]}=0.030{\\rm g}\\\\ \n",
       "&\\overline{{m_{2}}}=\\frac{1}{n}\\sum\\limits_{i=1}^n {m_{2}}_{i}=\\frac{1}{4}\\left(10.76+10.68+10.73+10.74\\right)=10.73{\\rm g}\\\\ \n",
       "&s_{{m_{2}}}=\\sqrt{\\frac{1}{n-1}\\sum\\limits_{i=1}^n\\left({m_{2}}_{i}-\\overline{{m_{2}}}\\right)^{2}}=\\sqrt{\\frac{1}{3}\\left[0.03^{2}+\\left(-0.05\\right)^{2}+0.00^{2}+0.01^{2}\\right]}=0.030{\\rm g}\\\\ \n",
       "&\\text{其中}s_{{m_{1}}}>s_{{m_{2}}}\\text{，故}s_{\\rm max}=s_{{m_{1}}}\\text{，}s_{\\rm min}=s_{{m_{2}}}\\\\ \n",
       "&F=\\frac{s_{\\rm max}^2}{s_{\\rm min}^2}=\\frac{{0.030}^2}{{0.030}^2}=1.198\\\\ \n",
       "&P=1-\\frac{\\alpha}{2}=0.95\\text{，}n_{\\rm min}=4\\text{，}n_{\\rm max}=4\\text{，查表得：}F_{1-\\alpha/2}(n_{\\rm min}-1,n_{\\rm max}-1)=F_{0.95}(3,3)=6.388\\\\ \n",
       "&F<F_{0.95}(3,3)\\text{，表明两组测量结果的方差无显著性差异}\\\\ \n",
       "&\\bbox[gainsboro, 2px]{\\text{【通过t检验，比较两组的均值】}}\\\\ \n",
       "&s_{p}=\\sqrt{\\frac{(n_{{m_{1}}}-1)s_{{m_{1}}}^2+(n_{{m_{2}}}-1)s_{{m_{2}}}^2}{n_{{m_{1}}}+n_{{m_{2}}}-2}}=\\sqrt{\\frac{(4-1)\\times {0.030}^2+(4-1)\\times {0.030}^2}{4+4-2}}=0.030\\\\ \n",
       "&t=\\frac{\\left\\lvert \\overline{{m_{1}}}-\\overline{{m_{2}}}\\right\\rvert}{s_{p}}\\sqrt{\\frac{n_{{m_{1}}}n_{{m_{2}}}}{n_{{m_{1}}}+n_{{m_{2}}}}}=\\frac{\\left\\lvert 10.71-10.73\\right\\rvert}{0.030}\\times\\sqrt{\\frac{4\\times 4}{4+4}}=0.976\\\\ \n",
       "&P=1-\\frac{\\alpha}{2}=0.95，n_{{m_{1}}}=4，n_{{m_{2}}}=4\\text{，查表得：}t_{1-\\alpha/2}(n_{{m_{1}}}+n_{{m_{2}}}-2)=t_{0.95}(6)=2.447\\\\ \n",
       "&t<t_{0.95}(6)\\text{，说明两组测量结果的均值无明显差异，属于同一群体，两者之间的误差是由偶然误差引起的}\\end{align}$"
      ],
      "text/plain": [
       "<analyticlab.latexoutput.LaTeX at 0x7f23db39eef0>"
      ]
     },
     "execution_count": 19,
     "metadata": {},
     "output_type": "execute_result"
    }
   ],
   "source": [
    "from analyticlab import sigDifference\n",
    "#注意要设置m1和m2的符号，否则两个样本的符号都将是默认值'{x}'，这时两个样本在计算过程中都会显示成x，无法区分\n",
    "m1 = NumItem('10.69 10.67 10.74 10.72', sym='m_{1}', unit='g')\n",
    "m2 = NumItem('10.76 10.68 10.73 10.74', sym='m_{2}', unit='g')\n",
    "#两个样本的显著性差异\n",
    "sigDifference(m1, m2, process=True)"
   ]
  },
  {
   "cell_type": "markdown",
   "metadata": {},
   "source": [
    "### 2.4 可选参数说明\n",
    "`process`、`processWithMean`、`needValue`、`remainOneMoreDigit`、`confLevel`、`dec`参数的用法与NumItem的类方法相同，此处不再赘述。"
   ]
  },
  {
   "cell_type": "code",
   "execution_count": null,
   "metadata": {},
   "outputs": [],
   "source": []
  }
 ],
 "metadata": {
  "kernelspec": {
   "display_name": "Python 3",
   "language": "python",
   "name": "python3"
  },
  "language_info": {
   "codemirror_mode": {
    "name": "ipython",
    "version": 3
   },
   "file_extension": ".py",
   "mimetype": "text/x-python",
   "name": "python",
   "nbconvert_exporter": "python",
   "pygments_lexer": "ipython3",
   "version": "3.6.4"
  }
 },
 "nbformat": 4,
 "nbformat_minor": 2
}
