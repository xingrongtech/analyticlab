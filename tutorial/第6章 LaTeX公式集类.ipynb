{
 "cells": [
  {
   "cell_type": "markdown",
   "metadata": {},
   "source": [
    "# 第六章 LaTeX公式集类"
   ]
  },
  {
   "cell_type": "markdown",
   "metadata": {},
   "source": [
    "在前面的章节中，提及到当设定`process=True`时，会生成计算过程的LaTeX公式集。本章会详细说明**LaTeX公式集**的使用。通过充分利用LaTeX公式集，能够生成一篇完整的LaTeX格式的**实验报告**。"
   ]
  },
  {
   "cell_type": "markdown",
   "metadata": {},
   "source": [
    "#### 本章涉及的类：\n",
    "* LaTeX类 - analyticlab.latexoutput"
   ]
  },
  {
   "cell_type": "markdown",
   "metadata": {},
   "source": [
    "## 1.导入LaTeX类"
   ]
  },
  {
   "cell_type": "markdown",
   "metadata": {},
   "source": [
    "LaTeX类位于`analyticlab.latexoutput`模块内，通过以下指令实现导入："
   ]
  },
  {
   "cell_type": "code",
   "execution_count": 1,
   "metadata": {},
   "outputs": [],
   "source": [
    "from analyticlab.latexoutput import LaTeX"
   ]
  },
  {
   "cell_type": "markdown",
   "metadata": {},
   "source": [
    "## 2.创建一个LaTeX公式集"
   ]
  },
  {
   "cell_type": "markdown",
   "metadata": {},
   "source": [
    "LaTeX类的构造方法如下："
   ]
  },
  {
   "cell_type": "markdown",
   "metadata": {},
   "source": [
    "`LaTeX(line=None)`"
   ]
  },
  {
   "cell_type": "markdown",
   "metadata": {},
   "source": [
    "其中参数`line`为初始化LaTeX公式集时，要加入的公式。`line`可以不给出，可以是一行公式的字符串，也可以是多行公式的字符串组成的列表："
   ]
  },
  {
   "cell_type": "code",
   "execution_count": 2,
   "metadata": {},
   "outputs": [],
   "source": [
    "lx1 = LaTeX()  #创建一个空的公式集lx1\n",
    "lx2 = LaTeX('V=abc')  #创建一个公式集lx2，其中含有一行公式\n",
    "lx3 = LaTeX(['\\text{根据公式}\\theta=\\arcsin{{k}}\\text{，得}',\n",
    "             '{\\theta}_1=\\arcsin{0.656}=41.0{\\rm ^{\\circ}}', \n",
    "             '{\\theta}_2=\\arcsin{0.687}=43.4{\\rm ^{\\circ}}',\n",
    "             '{\\theta}_3=\\arcsin{0.669}=42.0{\\rm ^{\\circ}}'])  #创建一个公式集，其中含有四行公式"
   ]
  },
  {
   "cell_type": "markdown",
   "metadata": {},
   "source": [
    "## 3.向现有的公式集中添加新的公式行"
   ]
  },
  {
   "cell_type": "markdown",
   "metadata": {},
   "source": [
    "对于通过构造方法或者通过附加参数`process=True`得到的LaTeX公式集，可以通过`add`方法，可以向当前公式集中，添加**新的公式行**或**其他公式集的公式行**。`add`方法如下："
   ]
  },
  {
   "cell_type": "markdown",
   "metadata": {},
   "source": [
    "`def add(line)`"
   ]
  },
  {
   "cell_type": "markdown",
   "metadata": {},
   "source": [
    "其中参数`line`为要添加的公式。公式可以是字符串形式，单个字符串用于添加一行公式，多个字符串组成的列表用于添加多行公式；公式也可以源于别的公式集，单个LaTeX对象用于添加一个公式集，多个LaTeX对象组成的列表用于添加多个公式集："
   ]
  },
  {
   "cell_type": "code",
   "execution_count": 3,
   "metadata": {},
   "outputs": [],
   "source": [
    "from analyticlab.numitem import NumItem\n",
    "Cl = NumItem('0.0365 0.0361 0.0359 0.0363', sym='Cl^-', unit='mol/L')\n",
    "lx1 = LaTeX()\n",
    "lx1.add(r'Cl^-\\text{浓度均值：}')  #添加一个字符串\n",
    "lx1.add(Cl.mean(process=True))  #添加一个LaTeX公式集\n",
    "lx1.add(r'Cl^-\\text{浓度标准偏差：}')  #添加一个字符串\n",
    "lx1.add(Cl.staDevi(process=True, processWithMean=False, remainOneMoreDigit=True))  #添加一个LaTeX公式集"
   ]
  },
  {
   "cell_type": "markdown",
   "metadata": {},
   "source": [
    "## 4.展示公式集"
   ]
  },
  {
   "cell_type": "markdown",
   "metadata": {},
   "source": [
    "通过调用`show()`方法，展示公式集："
   ]
  },
  {
   "cell_type": "code",
   "execution_count": 4,
   "metadata": {},
   "outputs": [
    {
     "data": {
      "text/latex": [
       "$$\\begin{align}&Cl^-\\text{浓度均值：}\\\\&\\overline{{Cl^-}}=\\frac{1}{n}\\sum\\limits_{i=1}^n {Cl^-}_{i}=\\frac{1}{4}\\left(0.0365+0.0361+0.0359+0.0363\\right)=0.0362{\\rm mol/L}\\\\&Cl^-\\text{浓度标准偏差：}\\\\&s_{{Cl^-}}=\\sqrt{\\frac{1}{n-1}\\sum\\limits_{i=1}^n\\left({Cl^-}_{i}-\\overline{{Cl^-}}\\right)^{2}}=\\sqrt{\\frac{1}{3}\\left[0.0003^{2}+\\left(-0.0001\\right)^{2}+\\left(-0.0003\\right)^{2}+0.0001^{2}\\right]}=3.0\\times 10^{-4}{\\rm mol/L}\\end{align}$$"
      ],
      "text/plain": [
       "<IPython.core.display.Math object>"
      ]
     },
     "metadata": {},
     "output_type": "display_data"
    }
   ],
   "source": [
    "lx1.show()"
   ]
  },
  {
   "cell_type": "markdown",
   "metadata": {},
   "source": [
    "## 5.综合性应用案例"
   ]
  },
  {
   "cell_type": "markdown",
   "metadata": {},
   "source": [
    "在github上analyticlab项目中的`analyticlab/demo`文件夹下，有`实例-拉伸法杨氏模量的测量.ipynb`、`实例-液体粘滞系数.ipynb`这两个展示了更完整的通过LaTeX公式集生成实验报告的案例。"
   ]
  },
  {
   "cell_type": "code",
   "execution_count": null,
   "metadata": {},
   "outputs": [],
   "source": []
  }
 ],
 "metadata": {
  "kernelspec": {
   "display_name": "Python 3",
   "language": "python",
   "name": "python3"
  },
  "language_info": {
   "codemirror_mode": {
    "name": "ipython",
    "version": 3
   },
   "file_extension": ".py",
   "mimetype": "text/x-python",
   "name": "python",
   "nbconvert_exporter": "python",
   "pygments_lexer": "ipython3",
   "version": "3.6.3"
  }
 },
 "nbformat": 4,
 "nbformat_minor": 2
}
