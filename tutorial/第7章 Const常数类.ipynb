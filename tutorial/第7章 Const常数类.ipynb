{
 "cells": [
  {
   "cell_type": "markdown",
   "metadata": {},
   "source": [
    "# 第七章 Const常数类"
   ]
  },
  {
   "cell_type": "markdown",
   "metadata": {},
   "source": [
    "在前面的章节中，提及到Num、NumItem、LSym、LSymItem、Measure、Uncertainty可以与int、float类型的纯数字进行数学运算。那么，对于类似于“$\\pi$”、“$e$”、“用于单位换算的科学记数法”这样的常数，尽管它们与Num、NumItem进行运算时，可以用纯数字或math库的常数pi、e表示，但当它们与LSym、LSymItem、Measure、Uncertainty进行数学运算，且涉及到计算过程的生成及展示时，这些常数会在计算过程中直接展开成近似数字，而不是常数本身，例如“$\\pi r^2$”会被展示为“$3.141592653589793 r^2$”。为了实现这些常数的展示，analyticlab引入了Const类，使得“$\\pi r^2$”能够被正常展示，且在代数表达式、数值表达式中都展示为“$\\pi$”。类似于int和float，Const常数可以参与与Num、NumItem、LSym、LSymItem、Measure、Uncertainty的**数值运算**和**符号展示**。"
   ]
  },
  {
   "cell_type": "markdown",
   "metadata": {},
   "source": [
    "#### 本章涉及的类与模块：\n",
    "* const模块 - analyticlab.const\n",
    "* Const类 - analyticlab.const\n",
    "* (部分了解)amath函数模块 - analyticlab.amath"
   ]
  },
  {
   "cell_type": "markdown",
   "metadata": {},
   "source": [
    "## 1.const模块：使用现成的常数"
   ]
  },
  {
   "cell_type": "markdown",
   "metadata": {},
   "source": [
    "### 1.1 导入const模块"
   ]
  },
  {
   "cell_type": "markdown",
   "metadata": {},
   "source": [
    "通过如下指令实现const模块的导入："
   ]
  },
  {
   "cell_type": "code",
   "execution_count": 1,
   "metadata": {},
   "outputs": [],
   "source": [
    "from analyticlab import const"
   ]
  },
  {
   "cell_type": "markdown",
   "metadata": {},
   "source": [
    "### 1.2 使用$\\pi$、$e$和$100\\%$"
   ]
  },
  {
   "cell_type": "markdown",
   "metadata": {},
   "source": [
    "#### `const`模块有两个现成的常数：\n",
    "* const.PI - $\\pi$\n",
    "* const.E - $e$\n",
    "* const.hPercent - $100\\%$"
   ]
  },
  {
   "cell_type": "markdown",
   "metadata": {},
   "source": [
    "以上三个常数可直接引用，例如："
   ]
  },
  {
   "cell_type": "code",
   "execution_count": 2,
   "metadata": {},
   "outputs": [
    {
     "data": {
      "text/latex": [
       "$$\\begin{align}&S=\\pi {r}^{2}=\\pi  \\times {0.751}^{2}=1.77{\\rm cm^2}\\end{align}$$"
      ],
      "text/plain": [
       "<IPython.core.display.Math object>"
      ]
     },
     "metadata": {},
     "output_type": "display_data"
    }
   ],
   "source": [
    "from analyticlab.lsym import LSym\n",
    "from analyticlab import latexoutput as lp\n",
    "r = LSym('r', '0.751')\n",
    "S = const.PI * r**2\n",
    "lp.dispLSym(S, 'S', 'cm^2').show()"
   ]
  },
  {
   "cell_type": "markdown",
   "metadata": {},
   "source": [
    "其中`const.hPercent`出了作为一个常数，可以用于符号表达式合成之外，还具有能够自动将一般数值转换为相对比值的功能。当一个Num、NumItem或者LSym、LSymItem与const.hPercent**相乘**时，其对应的数值会被转换为相对比值。下面举例说明："
   ]
  },
  {
   "cell_type": "code",
   "execution_count": 3,
   "metadata": {},
   "outputs": [
    {
     "data": {
      "text/latex": [
       "$$\\begin{align}&E=\\cfrac{\\left\\lvert {S}-{S_真} \\right\\rvert}{{S_真}} \\times 100\\%=\\cfrac{\\left\\lvert {1.77}-{1.80} \\right\\rvert}{{1.80}} \\times 100\\%=1.6\\%{\\rm }\\end{align}$$"
      ],
      "text/plain": [
       "<IPython.core.display.Math object>"
      ]
     },
     "metadata": {},
     "output_type": "display_data"
    }
   ],
   "source": [
    "S.refreshSym('S')\n",
    "S真 = LSym('S_真', '1.80')\n",
    "E = abs(S - S真) / S真 * const.hPercent\n",
    "lp.dispLSym(E, 'E').show()"
   ]
  },
  {
   "cell_type": "code",
   "execution_count": 4,
   "metadata": {},
   "outputs": [
    {
     "data": {
      "text/plain": [
       "1.6%"
      ]
     },
     "execution_count": 4,
     "metadata": {},
     "output_type": "execute_result"
    }
   ],
   "source": [
    "E.num()"
   ]
  },
  {
   "cell_type": "markdown",
   "metadata": {},
   "source": [
    "### 1.3 科学记数法"
   ]
  },
  {
   "cell_type": "markdown",
   "metadata": {},
   "source": [
    "#### 在`const`模块中，有两个生成科学记数法常数的函数：\n",
    "* def t1e(n)\n",
    "* def ut1e(n)\n",
    "\n",
    "在两个函数中，n均表示科学记数法指数，返回值均为科学记数法的Const常数。区别在于`ut1e`比较特殊，其生成的科学记数法是专门用于单位换算的，在LSym和LSymItem中，`ut1e`生成的科学记数法不会在代数表达式中出现，而只会在数值表达式中，作为测量值的换算因子出现；相比之下，`t1e`只是一个一般的科学记数法函数。"
   ]
  },
  {
   "cell_type": "markdown",
   "metadata": {},
   "source": [
    "假设1.2的例子中，希望得到的面积S使用国际单位制，通过下例说明两个函数的使用："
   ]
  },
  {
   "cell_type": "code",
   "execution_count": 5,
   "metadata": {},
   "outputs": [
    {
     "data": {
      "text/latex": [
       "$$\\begin{align}&S=\\pi {r}^{2}=\\pi  \\times \\left({0.751} \\times 10^{-2}\\right)^{2}=1.77\\times 10^{-4}{\\rm m^2}\\end{align}$$"
      ],
      "text/plain": [
       "<IPython.core.display.Math object>"
      ]
     },
     "metadata": {},
     "output_type": "display_data"
    }
   ],
   "source": [
    "S = const.PI * (r*const.ut1e(-2))**2  #使用ut1e函数\n",
    "lp.dispLSym(S, 'S', 'm^2').show()"
   ]
  },
  {
   "cell_type": "code",
   "execution_count": 6,
   "metadata": {},
   "outputs": [
    {
     "data": {
      "text/latex": [
       "$$\\begin{align}&S=\\pi \\left({r} \\cdot 10^{-2}\\right)^{2}=\\pi  \\times \\left({0.751} \\times 10^{-2}\\right)^{2}=1.77\\times 10^{-4}{\\rm m^2}\\end{align}$$"
      ],
      "text/plain": [
       "<IPython.core.display.Math object>"
      ]
     },
     "metadata": {},
     "output_type": "display_data"
    }
   ],
   "source": [
    "S = const.PI * (r*const.t1e(-2))**2  #使用t1e函数\n",
    "lp.dispLSym(S, 'S', 'm^2').show()"
   ]
  },
  {
   "cell_type": "markdown",
   "metadata": {},
   "source": [
    "由于这里科学记数法是用来单位换算的，因此`ut1e`函数更符合需要的效果。"
   ]
  },
  {
   "cell_type": "markdown",
   "metadata": {},
   "source": [
    "## 2.Const类：创建新的常数"
   ]
  },
  {
   "cell_type": "markdown",
   "metadata": {},
   "source": [
    "### 2.1 导入Const类"
   ]
  },
  {
   "cell_type": "markdown",
   "metadata": {},
   "source": [
    "Const类位于`analyticlab.const`模块内，通过以下指令实现导入："
   ]
  },
  {
   "cell_type": "code",
   "execution_count": 7,
   "metadata": {},
   "outputs": [],
   "source": [
    "from analyticlab.const import Const"
   ]
  },
  {
   "cell_type": "markdown",
   "metadata": {},
   "source": [
    "### 2.2 创建一个Const常数"
   ]
  },
  {
   "cell_type": "markdown",
   "metadata": {},
   "source": [
    "Const类的构造方法如下："
   ]
  },
  {
   "cell_type": "markdown",
   "metadata": {},
   "source": [
    "`Const(sym, value)`"
   ]
  },
  {
   "cell_type": "markdown",
   "metadata": {},
   "source": [
    "其中参数`sym`为常数的符号，以字符串形式给出，例如'\\eta'、'k'；`value`为常量的数值，以纯数字形式给出："
   ]
  },
  {
   "cell_type": "code",
   "execution_count": 8,
   "metadata": {},
   "outputs": [],
   "source": [
    "eta = Const('\\eta', 8.973e-7)"
   ]
  },
  {
   "cell_type": "markdown",
   "metadata": {},
   "source": [
    "## 3.常数间的计算"
   ]
  },
  {
   "cell_type": "markdown",
   "metadata": {},
   "source": [
    "Const常数之间可以通过`+`、`-`、`*`、`/`、`//`、`**`（“/”与“//”的区别也在于与LSym、LSymItem生成计算表达式时，除号的形式不同）进行运算，或者使用`amath`库中的函数，以生成新的Const常数，参与Num、LSym等的运算，例如："
   ]
  },
  {
   "cell_type": "code",
   "execution_count": 9,
   "metadata": {},
   "outputs": [
    {
     "data": {
      "text/latex": [
       "$$\\begin{align}&y=4 \\left(1+\\cfrac{\\pi }{2}\\right){x}^{2}=4 \\left(1+\\cfrac{\\pi }{2}\\right) \\times {0.894}^{2}=8.22{\\rm cm^2}\\end{align}$$"
      ],
      "text/plain": [
       "<IPython.core.display.Math object>"
      ]
     },
     "metadata": {},
     "output_type": "display_data"
    }
   ],
   "source": [
    "k = 4*(1+const.PI/2)\n",
    "x = LSym('x', '0.894')\n",
    "y = k * x**2\n",
    "lp.dispLSym(y, 'y', 'cm^2').show()"
   ]
  },
  {
   "cell_type": "code",
   "execution_count": null,
   "metadata": {},
   "outputs": [],
   "source": []
  }
 ],
 "metadata": {
  "kernelspec": {
   "display_name": "Python 3",
   "language": "python",
   "name": "python3"
  },
  "language_info": {
   "codemirror_mode": {
    "name": "ipython",
    "version": 3
   },
   "file_extension": ".py",
   "mimetype": "text/x-python",
   "name": "python",
   "nbconvert_exporter": "python",
   "pygments_lexer": "ipython3",
   "version": "3.6.3"
  }
 },
 "nbformat": 4,
 "nbformat_minor": 2
}
