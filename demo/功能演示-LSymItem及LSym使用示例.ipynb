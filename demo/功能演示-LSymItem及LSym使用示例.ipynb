{
 "cells": [
  {
   "cell_type": "code",
   "execution_count": 1,
   "metadata": {},
   "outputs": [
    {
     "data": {
      "text/latex": [
       "$\\begin{align}&\\text{根据公式$S=\\ln^{2}{\\left[2 \\left(1+\\cfrac{\\pi }{2}\\right){d}^{2}\\right]}$，得}\\\\ \n",
       "&{S}_{a}=\\ln^{2}{\\left[2 \\left(1+\\cfrac{\\pi }{2}\\right) \\times {1.63}^{2}\\right]}=6.836{\\rm m^{2}}\\\\ \n",
       "&{S}_{b}=\\ln^{2}{\\left[2 \\left(1+\\cfrac{\\pi }{2}\\right) \\times {1.68}^{2}\\right]}=7.155{\\rm m^{2}}\\\\ \n",
       "&{S}_{c}=\\ln^{2}{\\left[2 \\left(1+\\cfrac{\\pi }{2}\\right) \\times {1.66}^{2}\\right]}=7.028{\\rm m^{2}}\\\\ \n",
       "&{S}_{d}=\\ln^{2}{\\left[2 \\left(1+\\cfrac{\\pi }{2}\\right) \\times {1.62}^{2}\\right]}=6.772{\\rm m^{2}}\\\\ \n",
       "&\\overline{{S}}=\\frac{1}{n}\\sum\\limits_{i=1}^n {S}_{i}=\\frac{1}{4}\\left(6.836+7.155+7.028+6.772\\right)=6.948{\\rm m^{2}}\\end{align}$"
      ],
      "text/plain": [
       "<analyticlab.latexoutput.LaTeX at 0xe33c6b2a20>"
      ]
     },
     "execution_count": 1,
     "metadata": {},
     "output_type": "execute_result"
    }
   ],
   "source": [
    "import analyticlab as ab\n",
    "from analyticlab import ln, sqrt, PI, LSym, LSymItem, LaTeX, dispLSym, dispLSymItem\n",
    "LSymItem.sepSymCalc = True\n",
    "d = LSymItem('d', '1.63 1.68 1.66 1.62', 'a b c d')\n",
    "k = 2*(1+PI/2)\n",
    "S = ln(k*d**2)**2\n",
    "dispLSymItem(S, 'S', 'm^{2}')"
   ]
  },
  {
   "cell_type": "code",
   "execution_count": 2,
   "metadata": {},
   "outputs": [
    {
     "data": {
      "text/plain": [
       "'{1.63}'"
      ]
     },
     "execution_count": 2,
     "metadata": {},
     "output_type": "execute_result"
    }
   ],
   "source": [
    "d['a']"
   ]
  },
  {
   "cell_type": "code",
   "execution_count": 3,
   "metadata": {},
   "outputs": [
    {
     "data": {
      "text/plain": [
       "'\\\\ln^{2}{\\\\left[2 \\\\left(1+\\\\cfrac{\\\\pi }{2}\\\\right) \\\\times {1.63}^{2}\\\\right]}'"
      ]
     },
     "execution_count": 3,
     "metadata": {},
     "output_type": "execute_result"
    }
   ],
   "source": [
    "S['a']"
   ]
  },
  {
   "cell_type": "code",
   "execution_count": 4,
   "metadata": {},
   "outputs": [
    {
     "data": {
      "text/latex": [
       "$\\begin{align}&\\text{根据公式$S=\\sqrt[3]{\\left\\lvert \\pi {d}^{2} \\right\\rvert}$，得}\\\\ \n",
       "&{S}_{a}=\\sqrt[3]{\\left\\lvert \\pi  \\times {1.63}^{2} \\right\\rvert}=2.03{\\rm m^{2}}\\\\ \n",
       "&{S}_{b}=\\sqrt[3]{\\left\\lvert \\pi  \\times \\left({-1.68}\\right)^{2} \\right\\rvert}=2.07{\\rm m^{2}}\\\\ \n",
       "&{S}_{c}=\\sqrt[3]{\\left\\lvert \\pi  \\times {1.69}^{2} \\right\\rvert}=2.08{\\rm m^{2}}\\\\ \n",
       "&{S}_{d}=\\sqrt[3]{\\left\\lvert \\pi  \\times {1.62}^{2} \\right\\rvert}=2.02{\\rm m^{2}}\\\\ \n",
       "&\\overline{{S}}=\\frac{1}{n}\\sum\\limits_{i=1}^n {S}_{i}=\\frac{1}{4}\\left(2.03+2.07+2.08+2.02\\right)=2.05{\\rm m^{2}}\\end{align}$"
      ],
      "text/plain": [
       "<analyticlab.latexoutput.LaTeX at 0xe3429a2390>"
      ]
     },
     "execution_count": 4,
     "metadata": {},
     "output_type": "execute_result"
    }
   ],
   "source": [
    "d = LSymItem('d', '1.63 -1.68 1.69 1.62', 'a b c d')\n",
    "S = sqrt(abs(PI*d**2), 3)\n",
    "dispLSymItem(S, 'S', 'm^{2}')"
   ]
  },
  {
   "cell_type": "code",
   "execution_count": 5,
   "metadata": {},
   "outputs": [
    {
     "data": {
      "text/latex": [
       "$\\begin{align}&V=\\cfrac{\\left({a}+{b}\\right){c}}{3}\\\\ \n",
       "&V_{2}=\\cfrac{{a}-{b}}{{c}}\\end{align}$"
      ],
      "text/plain": [
       "<analyticlab.latexoutput.LaTeX at 0xe342c335f8>"
      ]
     },
     "execution_count": 5,
     "metadata": {},
     "output_type": "execute_result"
    }
   ],
   "source": [
    "a = LSym('a')\n",
    "b = LSym('b')\n",
    "c = LSym('c')\n",
    "V = (a+b)*c/3\n",
    "V2 = (a-b)/c\n",
    "lx = LaTeX()\n",
    "lx.addLSym(V, 'V', 'm^{3}')\n",
    "lx.addLSym(V2, 'V_{2}', 'm^{3}')\n",
    "lx"
   ]
  },
  {
   "cell_type": "code",
   "execution_count": 6,
   "metadata": {},
   "outputs": [
    {
     "data": {
      "text/latex": [
       "$\\begin{align}&V=\\cfrac{{a}{b}{c}}{3}=\\cfrac{{11.3} \\times {6.41} \\times {9.32}}{3}=225{\\rm m^{3}}\\end{align}$"
      ],
      "text/plain": [
       "<analyticlab.latexoutput.LaTeX at 0xe342c33588>"
      ]
     },
     "execution_count": 6,
     "metadata": {},
     "output_type": "execute_result"
    }
   ],
   "source": [
    "a = LSym('a', '11.3')\n",
    "b = LSym('b', '6.41')\n",
    "c = LSym('c', '9.32')\n",
    "V = a*b*c/3\n",
    "dispLSym(V, 'V', 'm^{3}')"
   ]
  },
  {
   "cell_type": "code",
   "execution_count": 7,
   "metadata": {},
   "outputs": [
    {
     "data": {
      "text/latex": [
       "$\\begin{align}&\\text{根据公式$S=\\ln^{2}{\\left[{\\alpha}\\left(\\cfrac{{d}}{2}\\right)^{2}\\right]}$，得}\\\\ \n",
       "&{S}_{1}=\\ln^{2}{\\left[{0.987} \\times \\left(\\cfrac{{1.63}}{2}\\right)^{2}\\right]}=0.178{\\rm m^{2}}\\\\ \n",
       "&{S}_{2}=\\ln^{2}{\\left[{0.991} \\times \\left(\\cfrac{{1.68}}{2}\\right)^{2}\\right]}=0.128{\\rm m^{2}}\\\\ \n",
       "&{S}_{3}=\\ln^{2}{\\left[{0.982} \\times \\left(\\cfrac{{1.66}}{2}\\right)^{2}\\right]}=0.153{\\rm m^{2}}\\\\ \n",
       "&{S}_{4}=\\ln^{2}{\\left[{0.989} \\times \\left(\\cfrac{{1.62}}{2}\\right)^{2}\\right]}=0.187{\\rm m^{2}}\\\\ \n",
       "&\\overline{{S}}=\\frac{1}{n}\\sum\\limits_{i=1}^n {S}_{i}=\\frac{1}{4}\\left(0.178+0.128+0.153+0.187\\right)=0.162{\\rm m^{2}}\\end{align}$"
      ],
      "text/plain": [
       "<analyticlab.latexoutput.LaTeX at 0xe342ac0630>"
      ]
     },
     "execution_count": 7,
     "metadata": {},
     "output_type": "execute_result"
    }
   ],
   "source": [
    "d = LSymItem('d', '1.63 1.68 1.66 1.62')\n",
    "alpha = LSymItem(r'\\alpha', '0.987 0.991 0.982 0.989')\n",
    "S = ln(alpha*(d/2)**2)**2\n",
    "dispLSymItem(S, 'S', 'm^{2}')"
   ]
  },
  {
   "cell_type": "code",
   "execution_count": 8,
   "metadata": {},
   "outputs": [
    {
     "data": {
      "text/latex": [
       "$\\begin{align}&{S}_{1}=\\ln^{2}{\\left[\\pi {{\\alpha}}_{1}\\left(\\cfrac{{{d}}_{1}}{2}\\right)^{2}\\right]}=\\ln^{2}{\\left[\\pi  \\times {0.987} \\times \\left(\\cfrac{{1.63}}{2}\\right)^{2}\\right]}=0.522{\\rm m^{2}}\\\\ \n",
       "&{S}_{2}=\\ln^{2}{\\left[\\pi {{\\alpha}}_{2}\\left(\\cfrac{{{d}}_{2}}{2}\\right)^{2}\\right]}=\\ln^{2}{\\left[\\pi  \\times {0.991} \\times \\left(\\cfrac{{1.68}}{2}\\right)^{2}\\right]}=0.619{\\rm m^{2}}\\\\ \n",
       "&{S}_{3}=\\ln^{2}{\\left[\\pi {{\\alpha}}_{3}\\left(\\cfrac{{{d}}_{3}}{2}\\right)^{2}\\right]}=\\ln^{2}{\\left[\\pi  \\times {0.982} \\times \\left(\\cfrac{{1.66}}{2}\\right)^{2}\\right]}=0.568{\\rm m^{2}}\\\\ \n",
       "&{S}_{4}=\\ln^{2}{\\left[\\pi {{\\alpha}}_{4}\\left(\\cfrac{{{d}}_{4}}{2}\\right)^{2}\\right]}=\\ln^{2}{\\left[\\pi  \\times {0.989} \\times \\left(\\cfrac{{1.62}}{2}\\right)^{2}\\right]}=0.507{\\rm m^{2}}\\\\ \n",
       "&\\overline{{S}}=\\frac{1}{n}\\sum\\limits_{i=1}^n {S}_{i}=\\frac{1}{4}\\left(0.522+0.619+0.568+0.507\\right)=0.554{\\rm m^{2}}\\end{align}$"
      ],
      "text/plain": [
       "<analyticlab.latexoutput.LaTeX at 0xe33cc6e898>"
      ]
     },
     "execution_count": 8,
     "metadata": {},
     "output_type": "execute_result"
    }
   ],
   "source": [
    "LSymItem.sepSymCalc = False\n",
    "d = LSymItem('d', '1.63 1.68 1.66 1.62')\n",
    "alpha = LSymItem(r'\\alpha', '0.987 0.991 0.982 0.989')\n",
    "S = ln(PI*alpha*(d/2)**2)**2\n",
    "dispLSymItem(S, 'S', 'm^{2}')"
   ]
  },
  {
   "cell_type": "code",
   "execution_count": 9,
   "metadata": {},
   "outputs": [
    {
     "data": {
      "text/latex": [
       "$\\begin{align}&\\text{根据公式$S=-\\ln^{2}{\\left[\\pi \\left(\\cfrac{{d}}{2}\\right)^{2}\\right]}$，得}\\\\ \n",
       "&{S}_{1}=-\\ln^{2}{\\left[\\pi  \\times \\left(\\cfrac{{1.63}}{2}\\right)^{2}\\right]}=-0.541{\\rm m^{2}}\\\\ \n",
       "&{S}_{2}=-\\ln^{2}{\\left[\\pi  \\times \\left(\\cfrac{{1.68}}{2}\\right)^{2}\\right]}=-0.634{\\rm m^{2}}\\\\ \n",
       "&{S}_{3}=-\\ln^{2}{\\left[\\pi  \\times \\left(\\cfrac{{1.66}}{2}\\right)^{2}\\right]}=-0.596{\\rm m^{2}}\\\\ \n",
       "&{S}_{4}=-\\ln^{2}{\\left[\\pi  \\times \\left(\\cfrac{{1.62}}{2}\\right)^{2}\\right]}=-0.523{\\rm m^{2}}\\\\ \n",
       "&\\overline{{S}}=\\frac{1}{n}\\sum\\limits_{i=1}^n {S}_{i}=\\frac{1}{4}\\left[\\left(-0.541\\right)+\\left(-0.634\\right)+\\left(-0.596\\right)+\\left(-0.523\\right)\\right]=-0.573{\\rm m^{2}}\\end{align}$"
      ],
      "text/plain": [
       "<analyticlab.latexoutput.LaTeX at 0xe340bf1c50>"
      ]
     },
     "execution_count": 9,
     "metadata": {},
     "output_type": "execute_result"
    }
   ],
   "source": [
    "LSymItem.sepSymCalc = True\n",
    "d = LSymItem('d', '1.63 1.68 1.66 1.62')\n",
    "S = -ln(PI*(d/2)**2)**2\n",
    "dispLSymItem(S, 'S', 'm^{2}')"
   ]
  },
  {
   "cell_type": "code",
   "execution_count": 10,
   "metadata": {},
   "outputs": [
    {
     "data": {
      "text/latex": [
       "$\\begin{align}&\\Delta t=2-\\left({6.35}+{6.32}\\right)=-10.67{\\rm s}\\end{align}$"
      ],
      "text/plain": [
       "<analyticlab.latexoutput.LaTeX at 0xe340bfd5c0>"
      ]
     },
     "execution_count": 10,
     "metadata": {},
     "output_type": "execute_result"
    }
   ],
   "source": [
    "t = LSymItem('t', '6.31 6.35 6.32 6.37')\n",
    "dT = 2 - (t[1] + t[2])\n",
    "dispLSym(dT, r'\\Delta t', 's')"
   ]
  },
  {
   "cell_type": "code",
   "execution_count": 11,
   "metadata": {},
   "outputs": [
    {
     "data": {
      "text/latex": [
       "$\\begin{align}&\\Delta t={6.31}-\\left({6.35}+{6.32}\\right)=-6.36{\\rm s}\\end{align}$"
      ],
      "text/plain": [
       "<analyticlab.latexoutput.LaTeX at 0xe342c2c358>"
      ]
     },
     "execution_count": 11,
     "metadata": {},
     "output_type": "execute_result"
    }
   ],
   "source": [
    "t = LSymItem('t', '6.31 6.35 6.32 6.37')\n",
    "dT = t[0] - (t[1] + t[2])\n",
    "dispLSym(dT, r'\\Delta t', 's')"
   ]
  },
  {
   "cell_type": "code",
   "execution_count": 12,
   "metadata": {},
   "outputs": [
    {
     "data": {
      "text/latex": [
       "$\\begin{align}&\\text{根据公式$S=\\sin^{2}{\\left(\\left\\lvert \\cfrac{{d}}{2} \\right\\rvert\\right)}$，得}\\\\ \n",
       "&{S}_{1}=\\sin^{2}{\\left(\\left\\lvert \\cfrac{{79.52}}{2} \\right\\rvert\\right)}=0.4091{\\rm m^{2}}\\\\ \n",
       "&{S}_{2}=\\sin^{2}{\\left(\\left\\lvert \\cfrac{{-79.63}}{2} \\right\\rvert\\right)}=0.4100{\\rm m^{2}}\\\\ \n",
       "&{S}_{3}=\\sin^{2}{\\left(\\left\\lvert \\cfrac{{79.41}}{2} \\right\\rvert\\right)}=0.4081{\\rm m^{2}}\\\\ \n",
       "&{S}_{4}=\\sin^{2}{\\left(\\left\\lvert \\cfrac{{-79.45}}{2} \\right\\rvert\\right)}=0.4085{\\rm m^{2}}\\\\ \n",
       "&\\overline{{S}}=\\frac{1}{n}\\sum\\limits_{i=1}^n {S}_{i}=\\frac{1}{4}\\left(0.4091+0.4100+0.4081+0.4085\\right)=0.4089{\\rm m^{2}}\\end{align}$"
      ],
      "text/plain": [
       "<analyticlab.latexoutput.LaTeX at 0xe342c33c18>"
      ]
     },
     "execution_count": 12,
     "metadata": {},
     "output_type": "execute_result"
    }
   ],
   "source": [
    "LSymItem.sepSymCalc = True\n",
    "d = LSymItem('d', '79.52 -79.63 79.41 -79.45')\n",
    "S = ab.sin(abs(d/2))**2\n",
    "dispLSymItem(S, 'S', 'm^{2}')"
   ]
  },
  {
   "cell_type": "code",
   "execution_count": 13,
   "metadata": {},
   "outputs": [
    {
     "data": {
      "text/latex": [
       "$\\begin{align}&\\text{根据公式$\\theta=\\arcsin{{k}}$，得}\\\\ \n",
       "&{\\theta}_{a}=\\arcsin{{0.656}}=41.0{\\rm ^{\\circ}}\\\\ \n",
       "&{\\theta}_{b}=\\arcsin{{0.687}}=43.4{\\rm ^{\\circ}}\\\\ \n",
       "&{\\theta}_{c}=\\arcsin{{0.669}}=42.0{\\rm ^{\\circ}}\\\\ \n",
       "&{\\theta}_{d}=\\arcsin{{0.675}}=42.5{\\rm ^{\\circ}}\\\\ \n",
       "&\\overline{{\\theta}}=\\frac{1}{n}\\sum\\limits_{i=1}^n {\\theta}_{i}=\\frac{1}{4}\\left(41.0+43.4+42.0+42.5\\right)=42.2{\\rm ^{\\circ}}\\end{align}$"
      ],
      "text/plain": [
       "<analyticlab.latexoutput.LaTeX at 0xe33c6b2d30>"
      ]
     },
     "execution_count": 13,
     "metadata": {},
     "output_type": "execute_result"
    }
   ],
   "source": [
    "k = LSymItem('k', '0.656 0.687 0.669 0.675', 'a b c d')\n",
    "theta = ab.arcsin(k)\n",
    "dispLSymItem(theta, r'\\theta', r'^{\\circ}')"
   ]
  },
  {
   "cell_type": "code",
   "execution_count": null,
   "metadata": {},
   "outputs": [],
   "source": []
  }
 ],
 "metadata": {
  "kernelspec": {
   "display_name": "Python 3",
   "language": "python",
   "name": "python3"
  },
  "language_info": {
   "codemirror_mode": {
    "name": "ipython",
    "version": 3
   },
   "file_extension": ".py",
   "mimetype": "text/x-python",
   "name": "python",
   "nbconvert_exporter": "python",
   "pygments_lexer": "ipython3",
   "version": "3.6.3"
  }
 },
 "nbformat": 4,
 "nbformat_minor": 2
}
