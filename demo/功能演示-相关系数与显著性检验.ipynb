{
 "cells": [
  {
   "cell_type": "code",
   "execution_count": 1,
   "metadata": {},
   "outputs": [
    {
     "data": {
      "text/latex": [
       "$\\begin{align}&\\overline{{m_{1}}}=\\frac{1}{n}\\sum\\limits_{i=1}^n {m_{1}}_{i}=\\frac{1}{4}\\left(10.69+10.67+10.74+10.72\\right)=10.71{\\rm g}\\\\ \n",
       "&\\overline{{m_{2}}}=\\frac{1}{n}\\sum\\limits_{i=1}^n {m_{2}}_{i}=\\frac{1}{4}\\left(10.76+10.68+10.73+10.74\\right)=10.73{\\rm g}\\\\ \n",
       "&s({m_{1}},{m_{2}})=\\frac{1}{n-1}\\sum\\limits_{i=1}^n [({m_{1}}_{i}-\\overline{{m_{1}}})({m_{2}}_{i}-\\overline{{m_{2}}})]=\\frac{1}{3}\\left[\\left(-0.02\\right)\\times0.03+\\left(-0.04\\right)\\times\\left(-0.05\\right)+0.04\\times0.00+0.02\\times0.01\\right]=5\\times 10^{-4}{\\rm {g}^2}\\end{align}$"
      ],
      "text/plain": [
       "<analyticlab.latexoutput.LaTeX at 0xfc60e91470>"
      ]
     },
     "execution_count": 1,
     "metadata": {},
     "output_type": "execute_result"
    }
   ],
   "source": [
    "from analyticlab import cov, corrCoef, sigDifference, NumItem\n",
    "Al_1 = NumItem('10.69 10.67 10.74 10.72', sym='m_{1}', unit='g')\n",
    "Al_2 = NumItem('10.76 10.68 10.73 10.74', sym='m_{2}', unit='g')\n",
    "cov(Al_1, Al_2, process=True)"
   ]
  },
  {
   "cell_type": "code",
   "execution_count": 2,
   "metadata": {},
   "outputs": [
    {
     "data": {
      "text/latex": [
       "$\\begin{align}&s({m_{1}},{m_{2}})=\\frac{1}{n-1}\\sum\\limits_{i=1}^n [({m_{1}}_{i}-\\overline{{m_{1}}})({m_{2}}_{i}-\\overline{{m_{2}}})]=\\frac{1}{3}\\left[\\left(-0.02\\right)\\times0.03+\\left(-0.04\\right)\\times\\left(-0.05\\right)+0.04\\times0.00+0.02\\times0.01\\right]=5.0\\times 10^{-4}{\\rm {g}^2}\\\\ \n",
       "&\\overline{{m_{1}}}=\\frac{1}{n}\\sum\\limits_{i=1}^n {m_{1}}_{i}=\\frac{1}{4}\\left(10.69+10.67+10.74+10.72\\right)=10.71{\\rm g}\\\\ \n",
       "&s_{{m_{1}}}=\\sqrt{\\frac{1}{n-1}\\sum\\limits_{i=1}^n\\left({m_{1}}_{i}-\\overline{{m_{1}}}\\right)^{2}}=\\sqrt{\\frac{1}{3}\\left[\\left(-0.02\\right)^{2}+\\left(-0.04\\right)^{2}+0.04^{2}+0.02^{2}\\right]}=0.030{\\rm g}\\\\ \n",
       "&\\overline{{m_{2}}}=\\frac{1}{n}\\sum\\limits_{i=1}^n {m_{2}}_{i}=\\frac{1}{4}\\left(10.76+10.68+10.73+10.74\\right)=10.73{\\rm g}\\\\ \n",
       "&s_{{m_{2}}}=\\sqrt{\\frac{1}{n-1}\\sum\\limits_{i=1}^n\\left({m_{2}}_{i}-\\overline{{m_{2}}}\\right)^{2}}=\\sqrt{\\frac{1}{3}\\left[0.03^{2}+\\left(-0.05\\right)^{2}+0.00^{2}+0.01^{2}\\right]}=0.030{\\rm g}\\\\ \n",
       "&r({m_{1}},{m_{2}})=\\frac{s({m_{1}},{m_{2}})}{s_{{m_{1}}}s_{{m_{2}}}}=\\frac{5.0\\times 10^{-4}}{0.030\\times 0.030}=0.6\\end{align}$"
      ],
      "text/plain": [
       "<analyticlab.latexoutput.LaTeX at 0xfc62c75940>"
      ]
     },
     "execution_count": 2,
     "metadata": {},
     "output_type": "execute_result"
    }
   ],
   "source": [
    "corrCoef(Al_1, Al_2, process=True)"
   ]
  },
  {
   "cell_type": "code",
   "execution_count": 3,
   "metadata": {},
   "outputs": [
    {
     "data": {
      "text/latex": [
       "$\\begin{align}&\\bbox[gainsboro, 2px]{\\text{【通过F检验，比较两组的精密度】}}\\\\ \n",
       "&\\overline{{m_{1}}}=\\frac{1}{n}\\sum\\limits_{i=1}^n {m_{1}}_{i}=\\frac{1}{4}\\left(10.69+10.67+10.74+10.72\\right)=10.71{\\rm g}\\\\ \n",
       "&s_{{m_{1}}}=\\sqrt{\\frac{1}{n-1}\\sum\\limits_{i=1}^n\\left({m_{1}}_{i}-\\overline{{m_{1}}}\\right)^{2}}=\\sqrt{\\frac{1}{3}\\left[\\left(-0.02\\right)^{2}+\\left(-0.04\\right)^{2}+0.04^{2}+0.02^{2}\\right]}=0.030{\\rm g}\\\\ \n",
       "&\\overline{{m_{2}}}=\\frac{1}{n}\\sum\\limits_{i=1}^n {m_{2}}_{i}=\\frac{1}{4}\\left(10.76+10.68+10.73+10.74\\right)=10.73{\\rm g}\\\\ \n",
       "&s_{{m_{2}}}=\\sqrt{\\frac{1}{n-1}\\sum\\limits_{i=1}^n\\left({m_{2}}_{i}-\\overline{{m_{2}}}\\right)^{2}}=\\sqrt{\\frac{1}{3}\\left[0.03^{2}+\\left(-0.05\\right)^{2}+0.00^{2}+0.01^{2}\\right]}=0.030{\\rm g}\\\\ \n",
       "&\\text{其中}s_{{m_{1}}}>s_{{m_{2}}}\\text{，故}s_{\\rm max}=s_{{m_{1}}}\\text{，}s_{\\rm min}=s_{{m_{2}}}\\\\ \n",
       "&F=\\frac{s_{\\rm max}^2}{s_{\\rm min}^2}=\\frac{{0.030}^2}{{0.030}^2}=1.198\\\\ \n",
       "&P=1-\\frac{\\alpha}{2}=0.95\\text{，}n_{\\rm min}=4\\text{，}n_{\\rm max}=4\\text{，查表得：}F_{1-\\alpha/2}(n_{\\rm min}-1,n_{\\rm max}-1)=F_{0.95}(3,3)=6.388\\\\ \n",
       "&F<F_{0.95}(3,3)\\text{，表明两组测量结果的方差无显著性差异}\\\\ \n",
       "&\\bbox[gainsboro, 2px]{\\text{【通过t检验，比较两组的均值】}}\\\\ \n",
       "&s_{p}=\\sqrt{\\frac{(n_{{m_{1}}}-1)s_{{m_{1}}}^2+(n_{{m_{2}}}-1)s_{{m_{2}}}^2}{n_{{m_{1}}}+n_{{m_{2}}}-2}}=\\sqrt{\\frac{(4-1)\\times {0.030}^2+(4-1)\\times {0.030}^2}{4+4-2}}=0.030\\\\ \n",
       "&t=\\frac{\\left\\lvert \\overline{{m_{1}}}-\\overline{{m_{2}}}\\right\\rvert}{s_{p}}\\sqrt{\\frac{n_{{m_{1}}}n_{{m_{2}}}}{n_{{m_{1}}}+n_{{m_{2}}}}}=\\frac{\\left\\lvert 10.71-10.73\\right\\rvert}{0.030}\\times\\sqrt{\\frac{4\\times 4}{4+4}}=0.976\\\\ \n",
       "&P=1-\\frac{\\alpha}{2}=0.95，n_{{m_{1}}}=4，n_{{m_{2}}}=4\\text{，查表得：}t_{1-\\alpha/2}(n_{{m_{1}}}+n_{{m_{2}}}-2)=t_{0.95}(6)=2.447\\\\ \n",
       "&t<t_{0.95}(6)\\text{，说明两组测量结果的均值无明显差异，属于同一群体，两者之间的误差是由偶然误差引起的}\\end{align}$"
      ],
      "text/plain": [
       "<analyticlab.latexoutput.LaTeX at 0xfc60e91748>"
      ]
     },
     "execution_count": 3,
     "metadata": {},
     "output_type": "execute_result"
    }
   ],
   "source": [
    "sigDifference(Al_1, Al_2, process=True)"
   ]
  },
  {
   "cell_type": "code",
   "execution_count": null,
   "metadata": {},
   "outputs": [],
   "source": []
  }
 ],
 "metadata": {
  "kernelspec": {
   "display_name": "Python 3",
   "language": "python",
   "name": "python3"
  },
  "language_info": {
   "codemirror_mode": {
    "name": "ipython",
    "version": 3
   },
   "file_extension": ".py",
   "mimetype": "text/x-python",
   "name": "python",
   "nbconvert_exporter": "python",
   "pygments_lexer": "ipython3",
   "version": "3.6.3"
  }
 },
 "nbformat": 4,
 "nbformat_minor": 2
}
