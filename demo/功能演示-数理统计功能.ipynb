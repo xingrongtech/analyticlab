{
 "cells": [
  {
   "cell_type": "code",
   "execution_count": 2,
   "metadata": {},
   "outputs": [],
   "source": [
    "from analyticlab.numitem import NumItem\n",
    "Al_real = '10.70'\n",
    "Al = NumItem('10.69 10.26 10.71 10.72', Al_real, sym='m_{1}', unit='g')"
   ]
  },
  {
   "cell_type": "code",
   "execution_count": 2,
   "metadata": {},
   "outputs": [
    {
     "data": {
      "text/latex": [
       "$$\\begin{align}&\\text{根据公式}E_{i}={m_{1}}_{i}-\\mu，得\\\\&E_{1}=10.69-10.70=-0.01{\\rm g}\\\\&E_{2}=10.26-10.70=-0.44{\\rm g}\\\\&E_{3}=10.71-10.70=0.01{\\rm g}\\\\&E_{4}=10.72-10.70=0.02{\\rm g}\\end{align}$$"
      ],
      "text/plain": [
       "<IPython.core.display.Math object>"
      ]
     },
     "metadata": {},
     "output_type": "display_data"
    }
   ],
   "source": [
    "Al.absErr(process=True).show()"
   ]
  },
  {
   "cell_type": "code",
   "execution_count": 3,
   "metadata": {},
   "outputs": [
    {
     "data": {
      "text/latex": [
       "$$\\begin{align}&\\text{根据公式}E_{ri}=\\frac{\\left\\lvert {m_{1}}_{i}-\\mu\\right\\rvert}{\\mu}\\times 100\\%，得\\\\&E_{r1}=\\frac{\\left\\lvert 10.69-10.70 \\right\\rvert}{10.70}\\times 100\\%=0.09\\%\\\\&E_{r2}=\\frac{\\left\\lvert 10.26-10.70 \\right\\rvert}{10.70}\\times 100\\%=4\\%\\\\&E_{r3}=\\frac{\\left\\lvert 10.71-10.70 \\right\\rvert}{10.70}\\times 100\\%=0.09\\%\\\\&E_{r4}=\\frac{\\left\\lvert 10.72-10.70 \\right\\rvert}{10.70}\\times 100\\%=0.19\\%\\end{align}$$"
      ],
      "text/plain": [
       "<IPython.core.display.Math object>"
      ]
     },
     "metadata": {},
     "output_type": "display_data"
    }
   ],
   "source": [
    "Al.relErr(process=True).show()"
   ]
  },
  {
   "cell_type": "code",
   "execution_count": 4,
   "metadata": {},
   "outputs": [
    {
     "data": {
      "text/latex": [
       "$$\\begin{align}&\\sum\\limits_{i=1}^n {m_{1}}_{i}=10.69+10.26+10.71+10.72=42.38{\\rm g}\\end{align}$$"
      ],
      "text/plain": [
       "<IPython.core.display.Math object>"
      ]
     },
     "metadata": {},
     "output_type": "display_data"
    }
   ],
   "source": [
    "Al.isum(process=True).show()"
   ]
  },
  {
   "cell_type": "code",
   "execution_count": 5,
   "metadata": {},
   "outputs": [
    {
     "data": {
      "text/latex": [
       "$$\\begin{align}&\\overline{{m_{1}}}=\\frac{1}{n}\\sum\\limits_{i=1}^n {m_{1}}_{i}=\\frac{1}{4}\\left(10.69+10.26+10.71+10.72\\right)=10.60{\\rm g}\\end{align}$$"
      ],
      "text/plain": [
       "<IPython.core.display.Math object>"
      ]
     },
     "metadata": {},
     "output_type": "display_data"
    }
   ],
   "source": [
    "Al.mean(process=True).show()"
   ]
  },
  {
   "cell_type": "code",
   "execution_count": 6,
   "metadata": {},
   "outputs": [
    {
     "data": {
      "text/latex": [
       "$$\\begin{align}&\\text{根据公式}d_{i}={m_{1}}_{i}-\\overline{{m_{1}}}\\text{，得}\\\\&d_{1}=10.69-10.60=0.09{\\rm g}\\\\&d_{2}=10.26-10.60=-0.34{\\rm g}\\\\&d_{3}=10.71-10.60=0.11{\\rm g}\\\\&d_{4}=10.72-10.60=0.12{\\rm g}\\end{align}$$"
      ],
      "text/plain": [
       "<IPython.core.display.Math object>"
      ]
     },
     "metadata": {},
     "output_type": "display_data"
    }
   ],
   "source": [
    "Al.devi(process=True).show()"
   ]
  },
  {
   "cell_type": "code",
   "execution_count": 7,
   "metadata": {},
   "outputs": [
    {
     "data": {
      "text/latex": [
       "$$\\begin{align}&\\overline{{m_{1}}}=\\frac{1}{n}\\sum\\limits_{i=1}^n {m_{1}}_{i}=\\frac{1}{4}\\left(10.69+10.26+10.71+10.72\\right)=10.60{\\rm g}\\\\&s_{{m_{1}}}=\\sqrt{\\frac{1}{n-1}\\sum\\limits_{i=1}^n\\left({m_{1}}_{i}-\\overline{{m_{1}}}\\right)^{2}}=\\sqrt{\\frac{1}{3}\\left[0.09^{2}+\\left(-0.34\\right)^{2}+0.11^{2}+0.12^{2}\\right]}=0.22{\\rm g}\\end{align}$$"
      ],
      "text/plain": [
       "<IPython.core.display.Math object>"
      ]
     },
     "metadata": {},
     "output_type": "display_data"
    }
   ],
   "source": [
    "Al.staDevi(process=True).show()"
   ]
  },
  {
   "cell_type": "code",
   "execution_count": 8,
   "metadata": {},
   "outputs": [
    {
     "data": {
      "text/latex": [
       "$$\\begin{align}&\\overline{{m_{1}}}=\\frac{1}{n}\\sum\\limits_{i=1}^n {m_{1}}_{i}=\\frac{1}{4}\\left(10.69+10.26+10.71+10.72\\right)=10.60{\\rm g}\\\\&\\overline{{m_{1}}}=\\frac{1}{n}\\sum\\limits_{i=1}^n {m_{1}}_{i}=\\frac{1}{4}\\left(10.69+10.26+10.71+10.72\\right)=10.60{\\rm g}\\\\&s_{{m_{1}}}=\\sqrt{\\frac{1}{n-1}\\sum\\limits_{i=1}^n\\left({m_{1}}_{i}-\\overline{{m_{1}}}\\right)^{2}}=\\sqrt{\\frac{1}{3}\\left[0.09^{2}+\\left(-0.34\\right)^{2}+0.11^{2}+0.12^{2}\\right]}=0.224{\\rm g}\\\\&s_{r}=\\frac{s_{{m_{1}}}}{\\overline{{m_{1}}}}\\times 100\\%=\\frac{0.224}{10.60}\\times 100\\%=2.1\\%\\end{align}$$"
      ],
      "text/plain": [
       "<IPython.core.display.Math object>"
      ]
     },
     "metadata": {},
     "output_type": "display_data"
    }
   ],
   "source": [
    "Al.relStaDevi(process=True).show()"
   ]
  },
  {
   "cell_type": "code",
   "execution_count": 9,
   "metadata": {},
   "outputs": [
    {
     "data": {
      "text/latex": [
       "$$\\begin{align}&\\overline{{m_{1}}}=\\frac{1}{n}\\sum\\limits_{i=1}^n {m_{1}}_{i}=\\frac{1}{4}\\left(10.69+10.26+10.71+10.72\\right)=10.60{\\rm g}\\\\&根据公式d_{ri}=\\frac{{m_{1}}_{i}-\\overline{{m_{1}}}}{\\overline{{m_{1}}}}\\times 100\\%，得\\\\&d_{r1}=\\frac{10.69-10.60}{10.60}\\times 100\\%=0.8\\%\\\\&d_{r2}=\\frac{10.26-10.60}{10.60}\\times 100\\%=-3\\%\\\\&d_{r3}=\\frac{10.71-10.60}{10.60}\\times 100\\%=1.0\\%\\\\&d_{r4}=\\frac{10.72-10.60}{10.60}\\times 100\\%=1.1\\%\\end{align}$$"
      ],
      "text/plain": [
       "<IPython.core.display.Math object>"
      ]
     },
     "metadata": {},
     "output_type": "display_data"
    }
   ],
   "source": [
    "Al.relDevi(process=True).show()"
   ]
  },
  {
   "cell_type": "code",
   "execution_count": 10,
   "metadata": {},
   "outputs": [
    {
     "data": {
      "text/latex": [
       "$$\\begin{align}&\\overline{{m_{1}}}=\\frac{1}{n}\\sum\\limits_{i=1}^n {m_{1}}_{i}=\\frac{1}{4}\\left(10.69+10.26+10.71+10.72\\right)=10.60{\\rm g}\\\\&\\overline{d}=\\frac{1}{n}\\sum\\limits_{i=1}^n\\left\\lvert {m_{1}}_{i}-\\overline{{m_{1}}}\\right\\rvert= \\frac{1}{4} \\left(\\left\\lvert 10.69-10.60\\right\\rvert+\\left\\lvert 10.26-10.60\\right\\rvert+\\left\\lvert 10.71-10.60\\right\\rvert+\\left\\lvert 10.72-10.60\\right\\rvert\\right)=0.17{\\rm g}\\end{align}$$"
      ],
      "text/plain": [
       "<IPython.core.display.Math object>"
      ]
     },
     "metadata": {},
     "output_type": "display_data"
    }
   ],
   "source": [
    "Al.avgDevi(process=True).show()"
   ]
  },
  {
   "cell_type": "code",
   "execution_count": 11,
   "metadata": {},
   "outputs": [
    {
     "data": {
      "text/latex": [
       "$$\\begin{align}&\\overline{{m_{1}}}=\\frac{1}{n}\\sum\\limits_{i=1}^n {m_{1}}_{i}=\\frac{1}{4}\\left(10.69+10.26+10.71+10.72\\right)=10.60{\\rm g}\\\\&\\overline{{m_{1}}}=\\frac{1}{n}\\sum\\limits_{i=1}^n {m_{1}}_{i}=\\frac{1}{4}\\left(10.69+10.26+10.71+10.72\\right)=10.60{\\rm g}\\\\&\\overline{d}=\\frac{1}{n}\\sum\\limits_{i=1}^n\\left\\lvert {m_{1}}_{i}-\\overline{{m_{1}}}\\right\\rvert= \\frac{1}{4} \\left(\\left\\lvert 10.69-10.60\\right\\rvert+\\left\\lvert 10.26-10.60\\right\\rvert+\\left\\lvert 10.71-10.60\\right\\rvert+\\left\\lvert 10.72-10.60\\right\\rvert\\right)=0.17{\\rm g}\\\\&\\overline{d}_{r}=\\frac{\\overline{d}}{\\overline{{m_{1}}}}\\times 100\\%=\\frac{0.17}{10.60} \\times 100\\%=1.6\\%\\end{align}$$"
      ],
      "text/plain": [
       "<IPython.core.display.Math object>"
      ]
     },
     "metadata": {},
     "output_type": "display_data"
    }
   ],
   "source": [
    "Al.relAvgDevi(process=True).show()"
   ]
  },
  {
   "cell_type": "code",
   "execution_count": 2,
   "metadata": {},
   "outputs": [
    {
     "data": {
      "text/latex": [
       "$$\\begin{align}&\\overline{{m_{1}}}=\\frac{1}{n}\\sum\\limits_{i=1}^n {m_{1}}_{i}=\\frac{1}{4}\\left(10.69+10.26+10.71+10.72\\right)=10.60{\\rm g}\\\\&s_{{m_{1}}}=\\sqrt{\\frac{1}{n-1}\\sum\\limits_{i=1}^n\\left({m_{1}}_{i}-\\overline{{m_{1}}}\\right)^{2}}=\\sqrt{\\frac{1}{3}\\left[0.09^{2}+\\left(-0.34\\right)^{2}+0.11^{2}+0.12^{2}\\right]}=0.224{\\rm g}\\\\&\\text{对于双侧区间，}P=1-\\frac{\\alpha}{2}=0.95\\text{，查表得n=4时，}t_{0.95}\\left(3\\right)=3.182\\\\&\\text{置信区间为}\\left(\\overline{{m_{1}}}-\\frac{ts_{{m_{1}}}}{\\sqrt{n}},\\overline{{m_{1}}}+\\frac{ts_{{m_{1}}}}{\\sqrt{n}}\\right)\\text{，代入得}\\left(10.24,10.96\\right)\\end{align}$$"
      ],
      "text/plain": [
       "<IPython.core.display.Math object>"
      ]
     },
     "metadata": {},
     "output_type": "display_data"
    }
   ],
   "source": [
    "Al.samConfIntv(process=True).show()"
   ]
  },
  {
   "cell_type": "code",
   "execution_count": 4,
   "metadata": {},
   "outputs": [
    {
     "data": {
      "text/latex": [
       "$$\\begin{align}&\\overline{{m_{1}}}=\\frac{1}{n}\\sum\\limits_{i=1}^n {m_{1}}_{i}=\\frac{1}{4}\\left(10.69+10.26+10.71+10.72\\right)=10.60{\\rm g}\\\\&s_{{m_{1}}}=\\sqrt{\\frac{1}{n-1}\\sum\\limits_{i=1}^n\\left({m_{1}}_{i}-\\overline{{m_{1}}}\\right)^{2}}=\\sqrt{\\frac{1}{3}\\left[0.09^{2}+\\left(-0.34\\right)^{2}+0.11^{2}+0.12^{2}\\right]}=0.224{\\rm g}\\\\&\\text{对于单侧区间，}P=1-\\frac{\\alpha}{2}=0.6826\\text{时，}P'=1-\\alpha=0.3652\\text{，查表得n=4时，}t_{0.3652}\\left(3\\right)=0.527\\\\&\\text{置信区间为}\\left(\\overline{{m_{1}}}-\\frac{ts_{{m_{1}}}}{\\sqrt{n}},+\\infty\\right)\\text{，代入得}\\left(10.54, +\\infty\\right)\\end{align}$$"
      ],
      "text/plain": [
       "<IPython.core.display.Math object>"
      ]
     },
     "metadata": {},
     "output_type": "display_data"
    }
   ],
   "source": [
    "Al.samConfIntv(confLevel=0.6826, side='left', process=True).show()"
   ]
  },
  {
   "cell_type": "code",
   "execution_count": 4,
   "metadata": {},
   "outputs": [
    {
     "data": {
      "text/latex": [
       "$$\\begin{align}&\\overline{{m_{1}}}=\\frac{1}{n}\\sum\\limits_{i=1}^n {m_{1}}_{i}=\\frac{1}{4}\\left(10.69+10.26+10.71+10.72\\right)=10.60{\\rm g}\\\\&s_{{m_{1}}}=\\sqrt{\\frac{1}{n-1}\\sum\\limits_{i=1}^n\\left({m_{1}}_{i}-\\overline{{m_{1}}}\\right)^{2}}=\\sqrt{\\frac{1}{3}\\left[0.09^{2}+\\left(-0.34\\right)^{2}+0.11^{2}+0.12^{2}\\right]}=0.224{\\rm g}\\\\&\\text{对于单侧区间，}P=1-\\frac{\\alpha}{2}=0.6826\\text{时，}P'=1-\\alpha=0.3652\\text{，查表得n=4时，}t_{0.3652}\\left(3\\right)=0.527\\\\&\\text{置信区间为}\\left(-\\infty,\\overline{{m_{1}}}+\\frac{ts_{{m_{1}}}}{\\sqrt{n}}\\right)\\text{，代入得}\\left(-\\infty, 10.66\\right)\\end{align}$$"
      ],
      "text/plain": [
       "<IPython.core.display.Math object>"
      ]
     },
     "metadata": {},
     "output_type": "display_data"
    }
   ],
   "source": [
    "Al.samConfIntv(confLevel=0.6826, side='right', process=True).show()"
   ]
  },
  {
   "cell_type": "code",
   "execution_count": 3,
   "metadata": {},
   "outputs": [
    {
     "data": {
      "text/latex": [
       "$$\\begin{align}&\\overline{{m_{1}}}=\\frac{1}{n}\\sum\\limits_{i=1}^n {m_{1}}_{i}=\\frac{1}{4}\\left(10.69+10.26+10.71+10.72\\right)=10.60{\\rm g}\\\\&s_{{m_{1}}}=\\sqrt{\\frac{1}{n-1}\\sum\\limits_{i=1}^n\\left({m_{1}}_{i}-\\overline{{m_{1}}}\\right)^{2}}=\\sqrt{\\frac{1}{3}\\left[0.09^{2}+\\left(-0.34\\right)^{2}+0.11^{2}+0.12^{2}\\right]}=0.224{\\rm g}\\\\&t=\\frac{\\left\\lvert\\overline{{m_{1}}}-\\mu\\right\\rvert}{s_{{m_{1}}}/\\sqrt{n}}=\\frac{\\left\\lvert10.60-10.70\\right\\rvert}{0.224/\\sqrt{4}}=0.894\\\\&\\text{对于双侧区间，}P=1-\\frac{\\alpha}{2}=0.95\\text{，查表得n=4时，}t_{1-\\alpha/2}(n-1)=t_{0.95}(3)=3.182\\\\&t<t_{0.95}(3)\\text{，故在置信度}P=0.95\\text{下，认定测量结果与真值无明显差异，测量结果误差由随机误差引起}\\end{align}$$"
      ],
      "text/plain": [
       "<IPython.core.display.Math object>"
      ]
     },
     "metadata": {},
     "output_type": "display_data"
    }
   ],
   "source": [
    "Al.tTest(process=True).show()"
   ]
  },
  {
   "cell_type": "code",
   "execution_count": 9,
   "metadata": {},
   "outputs": [],
   "source": [
    "from analyticlab import twoitems\n",
    "Al_1 = NumItem('10.69 10.67 10.74 10.72', Al_real, sym='m_{2}', unit='g')\n",
    "Al_2 = NumItem('10.76 10.68 10.73 10.74', Al_real, sym='m_{3}', unit='g')"
   ]
  },
  {
   "cell_type": "code",
   "execution_count": 12,
   "metadata": {},
   "outputs": [
    {
     "data": {
      "text/latex": [
       "$$\\begin{align}&\\overline{{m_{2}}}=\\frac{1}{n}\\sum\\limits_{i=1}^n {m_{2}}_{i}=\\frac{1}{4}\\left(10.69+10.67+10.74+10.72\\right)=10.70{\\rm g}\\\\&\\overline{{m_{3}}}=\\frac{1}{n}\\sum\\limits_{i=1}^n {m_{3}}_{i}=\\frac{1}{4}\\left(10.76+10.68+10.73+10.74\\right)=10.73{\\rm g}\\\\&s({m_{2}},{m_{3}})=\\frac{1}{n-1}\\sum\\limits_{i=1}^n [({m_{2}}_{i}-\\overline{{m_{2}}})({m_{3}}_{i}-\\overline{{m_{3}}})]=\\frac{1}{3}\\left[\\left(-0.01\\right)\\times0.03+\\left(-0.03\\right)\\times\\left(-0.05\\right)+0.04\\times0.00+0.02\\times0.01\\right]=4.7\\times 10^{-4}{\\rm {g}^2}\\end{align}$$"
      ],
      "text/plain": [
       "<IPython.core.display.Math object>"
      ]
     },
     "metadata": {},
     "output_type": "display_data"
    }
   ],
   "source": [
    "twoitems.cov(Al_1, Al_2, process=True, remainOneMoreDigit=True).show()"
   ]
  },
  {
   "cell_type": "code",
   "execution_count": 11,
   "metadata": {},
   "outputs": [
    {
     "data": {
      "text/latex": [
       "$$\\begin{align}&s({m_{2}},{m_{3}})=\\frac{1}{n-1}\\sum\\limits_{i=1}^n [({m_{2}}_{i}-\\overline{{m_{2}}})({m_{3}}_{i}-\\overline{{m_{3}}})]=\\frac{1}{3}\\left[\\left(-0.01\\right)\\times0.03+\\left(-0.03\\right)\\times\\left(-0.05\\right)+0.04\\times0.00+0.02\\times0.01\\right]=4.7\\times 10^{-4}{\\rm {g}^2}\\\\&\\overline{{m_{2}}}=\\frac{1}{n}\\sum\\limits_{i=1}^n {m_{2}}_{i}=\\frac{1}{4}\\left(10.69+10.67+10.74+10.72\\right)=10.70{\\rm g}\\\\&s_{{m_{2}}}=\\sqrt{\\frac{1}{n-1}\\sum\\limits_{i=1}^n\\left({m_{2}}_{i}-\\overline{{m_{2}}}\\right)^{2}}=\\sqrt{\\frac{1}{3}\\left[\\left(-0.01\\right)^{2}+\\left(-0.03\\right)^{2}+0.04^{2}+0.02^{2}\\right]}=0.032{\\rm g}\\\\&\\overline{{m_{3}}}=\\frac{1}{n}\\sum\\limits_{i=1}^n {m_{3}}_{i}=\\frac{1}{4}\\left(10.76+10.68+10.73+10.74\\right)=10.73{\\rm g}\\\\&s_{{m_{3}}}=\\sqrt{\\frac{1}{n-1}\\sum\\limits_{i=1}^n\\left({m_{3}}_{i}-\\overline{{m_{3}}}\\right)^{2}}=\\sqrt{\\frac{1}{3}\\left[0.03^{2}+\\left(-0.05\\right)^{2}+0.00^{2}+0.01^{2}\\right]}=0.034{\\rm g}\\\\&r({m_{2}},{m_{3}})=\\frac{s({m_{2}},{m_{3}})}{s_{{m_{2}}}s_{{m_{3}}}}=\\frac{4.7\\times 10^{-4}}{0.032\\times 0.034}=0.4\\end{align}$$"
      ],
      "text/plain": [
       "<IPython.core.display.Math object>"
      ]
     },
     "metadata": {},
     "output_type": "display_data"
    }
   ],
   "source": [
    "twoitems.corrCoef(Al_1, Al_2, process=True).show()"
   ]
  },
  {
   "cell_type": "code",
   "execution_count": 13,
   "metadata": {},
   "outputs": [
    {
     "data": {
      "text/latex": [
       "$$\\begin{align}&\\bbox[gainsboro, 2px]{\\text{【通过F检验，比较两组的精密度】}}\\\\&\\overline{{m_{2}}}=\\frac{1}{n}\\sum\\limits_{i=1}^n {m_{2}}_{i}=\\frac{1}{4}\\left(10.69+10.67+10.74+10.72\\right)=10.70{\\rm g}\\\\&s_{{m_{2}}}=\\sqrt{\\frac{1}{n-1}\\sum\\limits_{i=1}^n\\left({m_{2}}_{i}-\\overline{{m_{2}}}\\right)^{2}}=\\sqrt{\\frac{1}{3}\\left[\\left(-0.01\\right)^{2}+\\left(-0.03\\right)^{2}+0.04^{2}+0.02^{2}\\right]}=0.032{\\rm g}\\\\&\\overline{{m_{3}}}=\\frac{1}{n}\\sum\\limits_{i=1}^n {m_{3}}_{i}=\\frac{1}{4}\\left(10.76+10.68+10.73+10.74\\right)=10.73{\\rm g}\\\\&s_{{m_{3}}}=\\sqrt{\\frac{1}{n-1}\\sum\\limits_{i=1}^n\\left({m_{3}}_{i}-\\overline{{m_{3}}}\\right)^{2}}=\\sqrt{\\frac{1}{3}\\left[0.03^{2}+\\left(-0.05\\right)^{2}+0.00^{2}+0.01^{2}\\right]}=0.034{\\rm g}\\\\&\\text{其中}s_{{m_{2}}}<s_{{m_{3}}}\\text{，故}s_{\\rm max}=s_{{m_{3}}}\\text{，}s_{\\rm min}=s_{{m_{2}}}\\\\&F=\\frac{s_{\\rm max}^2}{s_{\\rm min}^2}=\\frac{{0.034}^2}{{0.032}^2}=1.167\\\\&P=1-\\frac{\\alpha}{2}=0.95\\text{，}n_{\\rm min}=4\\text{，}n_{\\rm max}=4\\text{，查表得：}F_{1-\\alpha/2}(n_{\\rm min}-1,n_{\\rm max}-1)=F_{0.95}(3,3)=6.388\\\\&F<F_{0.95}(3,3)\\text{，表明两组测量结果的方差无显著性差异}\\\\&\\bbox[gainsboro, 2px]{\\text{【通过t检验，比较两组的均值】}}\\\\&s_{p}=\\sqrt{\\frac{(n_{{m_{2}}}-1)s_{{m_{2}}}^2+(n_{{m_{3}}}-1)s_{{m_{3}}}^2}{n_{{m_{2}}}+n_{{m_{3}}}-2}}=\\sqrt{\\frac{(4-1)\\times {0.032}^2+(4-1)\\times {0.034}^2}{4+4-2}}=0.033\\\\&t=\\frac{\\left\\lvert \\overline{{m_{2}}}-\\overline{{m_{3}}}\\right\\rvert}{s_{p}}\\sqrt{\\frac{n_{{m_{2}}}n_{{m_{3}}}}{n_{{m_{2}}}+n_{{m_{3}}}}}=\\frac{\\left\\lvert 10.70-10.73\\right\\rvert}{0.033}\\times\\sqrt{\\frac{4\\times 4}{4+4}}=1.289\\\\&P=1-\\frac{\\alpha}{2}=0.95，n_{{m_{2}}}=4，n_{{m_{3}}}=4\\text{，查表得：}t_{1-\\alpha/2}(n_{{m_{2}}}+n_{{m_{3}}}-2)=t_{0.95}(6)=2.447\\\\&t<t_{0.95}(6)\\text{，说明两组测量结果的均值无明显差异，属于同一群体，两者之间的误差是由偶然误差引起的}\\end{align}$$"
      ],
      "text/plain": [
       "<IPython.core.display.Math object>"
      ]
     },
     "metadata": {},
     "output_type": "display_data"
    }
   ],
   "source": [
    "twoitems.sigDifference(Al_1, Al_2, process=True).show()"
   ]
  },
  {
   "cell_type": "code",
   "execution_count": null,
   "metadata": {},
   "outputs": [],
   "source": []
  }
 ],
 "metadata": {
  "kernelspec": {
   "display_name": "Python 3",
   "language": "python",
   "name": "python3"
  },
  "language_info": {
   "codemirror_mode": {
    "name": "ipython",
    "version": 3
   },
   "file_extension": ".py",
   "mimetype": "text/x-python",
   "name": "python",
   "nbconvert_exporter": "python",
   "pygments_lexer": "ipython3",
   "version": "3.6.2"
  }
 },
 "nbformat": 4,
 "nbformat_minor": 2
}
