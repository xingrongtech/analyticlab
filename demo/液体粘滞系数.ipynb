{
 "cells": [
  {
   "cell_type": "code",
   "execution_count": 1,
   "metadata": {},
   "outputs": [
    {
     "data": {
      "text/latex": [
       "$$\\begin{align}&\\bbox[gainsboro, 2px]{\\textbf{【液体粘滞系数的计算】}}\\\\&\\overline{{d_{1}}}=\\frac{1}{n}\\sum\\limits_{i=1}^n {d_{1}}_{i}=\\frac{1}{3}\\left(3.007+3.010+3.008\\right)=3.008{\\rm mm}\\\\&\\overline{{d_{2}}}=\\frac{1}{n}\\sum\\limits_{i=1}^n {d_{2}}_{i}=\\frac{1}{3}\\left(3.005+3.009+3.007\\right)=3.007{\\rm mm}\\\\&\\overline{{d_{3}}}=\\frac{1}{n}\\sum\\limits_{i=1}^n {d_{3}}_{i}=\\frac{1}{3}\\left(2.996+3.001+2.999\\right)=2.999{\\rm mm}\\\\&\\overline{{d_{4}}}=\\frac{1}{n}\\sum\\limits_{i=1}^n {d_{4}}_{i}=\\frac{1}{3}\\left(3.001+2.998+2.997\\right)=2.999{\\rm mm}\\\\&\\overline{{d_{5}}}=\\frac{1}{n}\\sum\\limits_{i=1}^n {d_{5}}_{i}=\\frac{1}{3}\\left(3.006+3.009+3.011\\right)=3.009{\\rm mm}\\\\&\\text{根据液体粘滞系数的计算公式$\\eta=\\cfrac{\\left({\\rho'}-{\\rho}\\right){g}{d}^{2}{t}}{18{L}}\\cfrac{1}{\\left(1+2.4\\cfrac{{d}}{{D}}\\right)\\left(1+1.6\\cfrac{{d}}{{H}}\\right)}$，得}\\\\&{\\eta}_{1}=\\cfrac{\\left(7.9-0.958\\right) \\times 10^{3} \\times 9.7964 \\times \\left({3.008} \\times 10^{-3}\\right)^{2} \\times {24.98}}{18 \\times {0.5069}} \\times \\cfrac{1}{\\left(1+2.4 \\times \\cfrac{{3.008} \\times 10^{-3}}{{0.11996}}\\right) \\times \\left(1+1.6 \\times \\cfrac{{3.008} \\times 10^{-3}}{{0.6271}}\\right)}=1.577{\\rm Pa\\cdot s}\\\\&{\\eta}_{2}=\\cfrac{\\left(7.9-0.958\\right) \\times 10^{3} \\times 9.7964 \\times \\left({3.007} \\times 10^{-3}\\right)^{2} \\times {25.02}}{18 \\times {0.5081}} \\times \\cfrac{1}{\\left(1+2.4 \\times \\cfrac{{3.007} \\times 10^{-3}}{{0.12001}}\\right) \\times \\left(1+1.6 \\times \\cfrac{{3.007} \\times 10^{-3}}{{0.6266}}\\right)}=1.575{\\rm Pa\\cdot s}\\\\&{\\eta}_{3}=\\cfrac{\\left(7.9-0.958\\right) \\times 10^{3} \\times 9.7964 \\times \\left({2.999} \\times 10^{-3}\\right)^{2} \\times {25.00}}{18 \\times {0.5066}} \\times \\cfrac{1}{\\left(1+2.4 \\times \\cfrac{{2.999} \\times 10^{-3}}{{0.12014}}\\right) \\times \\left(1+1.6 \\times \\cfrac{{2.999} \\times 10^{-3}}{{0.6259}}\\right)}=1.570{\\rm Pa\\cdot s}\\\\&{\\eta}_{4}=\\cfrac{\\left(7.9-0.958\\right) \\times 10^{3} \\times 9.7964 \\times \\left({2.999} \\times 10^{-3}\\right)^{2} \\times {25.06}}{18 \\times {0.5075}} \\times \\cfrac{1}{\\left(1+2.4 \\times \\cfrac{{2.999} \\times 10^{-3}}{{0.11967}}\\right) \\times \\left(1+1.6 \\times \\cfrac{{2.999} \\times 10^{-3}}{{0.6273}}\\right)}=1.571{\\rm Pa\\cdot s}\\\\&{\\eta}_{5}=\\cfrac{\\left(7.9-0.958\\right) \\times 10^{3} \\times 9.7964 \\times \\left({3.009} \\times 10^{-3}\\right)^{2} \\times {25.01}}{18 \\times {0.5073}} \\times \\cfrac{1}{\\left(1+2.4 \\times \\cfrac{{3.009} \\times 10^{-3}}{{0.11992}}\\right) \\times \\left(1+1.6 \\times \\cfrac{{3.009} \\times 10^{-3}}{{0.6268}}\\right)}=1.579{\\rm Pa\\cdot s}\\\\&\\overline{{\\eta}}=\\frac{1}{n}\\sum\\limits_{i=1}^n {\\eta}_{i}=\\frac{1}{5}\\left(1.577+1.575+1.570+1.571+1.579\\right)=1.574{\\rm Pa\\cdot s}\\\\&\\bbox[gainsboro, 2px]{\\textbf{【计算不确定度】}}\\\\&(1)\\text{对于小球直径$d_{i}$：}\\\\&s_{{d_{1}}}=\\sqrt{\\frac{1}{n-1}\\sum\\limits_{i=1}^n\\left({d_{1}}_{i}-\\overline{{d_{1}}}\\right)^{2}}=\\sqrt{\\frac{1}{2}\\left[\\left(-0.001\\right)^{2}+0.002^{2}+0.000^{2}\\right]}=2.0\\times 10^{-3}{\\rm mm}\\\\&s_{{d_{2}}}=\\sqrt{\\frac{1}{n-1}\\sum\\limits_{i=1}^n\\left({d_{2}}_{i}-\\overline{{d_{2}}}\\right)^{2}}=\\sqrt{\\frac{1}{2}\\left[\\left(-0.002\\right)^{2}+0.002^{2}+0.000^{2}\\right]}=2.0\\times 10^{-3}{\\rm mm}\\\\&s_{{d_{3}}}=\\sqrt{\\frac{1}{n-1}\\sum\\limits_{i=1}^n\\left({d_{3}}_{i}-\\overline{{d_{3}}}\\right)^{2}}=\\sqrt{\\frac{1}{2}\\left[\\left(-0.003\\right)^{2}+0.002^{2}+0.000^{2}\\right]}=3.0\\times 10^{-3}{\\rm mm}\\\\&s_{{d_{4}}}=\\sqrt{\\frac{1}{n-1}\\sum\\limits_{i=1}^n\\left({d_{4}}_{i}-\\overline{{d_{4}}}\\right)^{2}}=\\sqrt{\\frac{1}{2}\\left[0.002^{2}+\\left(-0.001\\right)^{2}+\\left(-0.002\\right)^{2}\\right]}=2.0\\times 10^{-3}{\\rm mm}\\\\&s_{{d_{5}}}=\\sqrt{\\frac{1}{n-1}\\sum\\limits_{i=1}^n\\left({d_{5}}_{i}-\\overline{{d_{5}}}\\right)^{2}}=\\sqrt{\\frac{1}{2}\\left[\\left(-0.003\\right)^{2}+0.000^{2}+0.002^{2}\\right]}=3.0\\times 10^{-3}{\\rm mm}\\\\&s_{p}=\\sqrt{\\frac{\\sum\\limits_{i=1}^m {s_{{d} i}}^{2}}{m}}=\\sqrt{\\frac{2.0^{2}+2.0^{2}+3.0^{2}+2.0^{2}+3.0^{2}}{5}}\\times 10^{-3}=2.4\\times 10^{-3}{\\rm mm}\\\\&u_{{d} A}=\\frac{t_{v+1}s_p}{\\sqrt{mn}}=\\frac{1.05 \\times 2.4\\times 10^{-3}}{\\sqrt{15}}=7\\times 10^{-4}{\\rm mm}\\\\&u_{{d} B}=\\frac{a}{k}=\\frac{0.004}{\\sqrt{3}}=2.3\\times 10^{-3}{\\rm mm}\\\\&u_{{d}}=\\sqrt{{u_{{d} A}}^{2}+{u_{{d} B}}^{2}}=\\sqrt{\\left(7\\times 10^{-4}\\right)^{2}+\\left(2.3\\times 10^{-3}\\right)^{2}}=2.4\\times 10^{-3}{\\rm mm}\\\\&(2)\\text{对于圆筒内径$D$：}\\\\&u_{{D} A}=t_{n}\\sqrt{\\frac{1}{n(n-1)}\\sum\\limits_{i=1}^n\\left({D}_{i}-\\overline{{D}}\\right)^{2}}=1.14 \\times\\sqrt{\\frac{1}{5\\times 4}\\left[0.00002^{2}+0.00007^{2}+0.00020^{2}+\\left(-0.00027\\right)^{2}+\\left(-0.00002\\right)^{2}\\right]}=8.67\\times 10^{-5}{\\rm m}\\\\&u_{{D} B}=\\frac{a}{k}=\\frac{0.00002}{\\sqrt{3}}=1.2\\times 10^{-5}{\\rm m}\\\\&u_{{D}}=\\sqrt{{u_{{D} A}}^{2}+{u_{{D} B}}^{2}}=\\sqrt{\\left(8.67\\times 10^{-5}\\right)^{2}+\\left(1.2\\times 10^{-5}\\right)^{2}}=8.74\\times 10^{-5}{\\rm m}\\\\&(3)\\text{对于下落距离$L$：}\\\\&u_{{L} A}=t_{n}\\sqrt{\\frac{1}{n(n-1)}\\sum\\limits_{i=1}^n\\left({L}_{i}-\\overline{{L}}\\right)^{2}}=1.14 \\times\\sqrt{\\frac{1}{5\\times 4}\\left[\\left(-0.0004\\right)^{2}+0.0008^{2}+\\left(-0.0007\\right)^{2}+0.0002^{2}+0.0000^{2}\\right]}=3.1\\times 10^{-4}{\\rm m}\\\\&u_{{L} B}=\\frac{a}{k}=\\frac{0.0005}{\\sqrt{3}}=2.9\\times 10^{-4}{\\rm m}\\\\&u_{{L}}=\\sqrt{{u_{{L} A}}^{2}+{u_{{L} B}}^{2}}=\\sqrt{\\left(3.1\\times 10^{-4}\\right)^{2}+\\left(2.9\\times 10^{-4}\\right)^{2}}=4.2\\times 10^{-4}{\\rm m}\\\\&(4)\\text{对于蓖麻油深度$H$：}\\\\&u_{{H} A}=t_{n}\\sqrt{\\frac{1}{n(n-1)}\\sum\\limits_{i=1}^n\\left({H}_{i}-\\overline{{H}}\\right)^{2}}=1.14 \\times\\sqrt{\\frac{1}{5\\times 4}\\left[0.0004^{2}+\\left(-0.0001\\right)^{2}+\\left(-0.0008\\right)^{2}+0.0006^{2}+0.0001^{2}\\right]}=2.5\\times 10^{-4}{\\rm m}\\\\&u_{{H} B}=\\frac{a}{k}=\\frac{0.0005}{\\sqrt{3}}=2.9\\times 10^{-4}{\\rm m}\\\\&u_{{H}}=\\sqrt{{u_{{H} A}}^{2}+{u_{{H} B}}^{2}}=\\sqrt{\\left(2.5\\times 10^{-4}\\right)^{2}+\\left(2.9\\times 10^{-4}\\right)^{2}}=3.9\\times 10^{-4}{\\rm m}\\\\&(5)\\text{对于下落时间$t$：}\\\\&u_{{t} A}=t_{n}\\sqrt{\\frac{1}{n(n-1)}\\sum\\limits_{i=1}^n\\left({t}_{i}-\\overline{{t}}\\right)^{2}}=1.14 \\times\\sqrt{\\frac{1}{5\\times 4}\\left[\\left(-0.03\\right)^{2}+0.01^{2}+\\left(-0.01\\right)^{2}+0.05^{2}+0.00^{2}\\right]}=0.015{\\rm s}\\\\&u_{{t}}=u_{{t} A}=0.015{\\rm s}\\\\&\\text{计算合成不确定度：}\\\\&\\frac{u_{\\eta}}{\\eta}=\\sqrt{\\left(\\cfrac{2{u_{{d}}}}{{{d}}}\\right)^{2}+\\left(\\cfrac{{u_{{t}}}}{{{t}}}\\right)^{2}+\\left(\\cfrac{{u_{{L}}}}{{{L}}}\\right)^{2}+\\left[\\cfrac{2.4\\cfrac{{{d}}}{{{D}}}\\sqrt{\\left(\\cfrac{{u_{{d}}}}{{{d}}}\\right)^{2}+\\left(\\cfrac{{u_{{D}}}}{{{D}}}\\right)^{2}}}{1+2.4\\cfrac{{{d}}}{{{D}}}}\\right]^{2}+\\left[\\cfrac{1.6\\cfrac{{{d}}}{{{H}}}\\sqrt{\\left(\\cfrac{{u_{{d}}}}{{{d}}}\\right)^{2}+\\left(\\cfrac{{u_{{H}}}}{{{H}}}\\right)^{2}}}{1+1.6\\cfrac{{{d}}}{{{H}}}}\\right]^{2}}=\\sqrt{\\left(\\cfrac{2 \\times {2.4\\times 10^{-3}}}{{3.004}}\\right)^{2}+\\left(\\cfrac{{0.015}}{{25.01}}\\right)^{2}+\\left(\\cfrac{{4.2\\times 10^{-4}}}{{0.5073}}\\right)^{2}+\\left[\\cfrac{2.4 \\times \\cfrac{{3.004} \\times 10^{-3}}{{0.11994}} \\times \\sqrt{\\left(\\cfrac{10^{-3} \\times {2.4\\times 10^{-3}}}{{3.004} \\times 10^{-3}}\\right)^{2}+\\left(\\cfrac{{8.74\\times 10^{-5}}}{{0.11994}}\\right)^{2}}}{1+2.4 \\times \\cfrac{{3.004} \\times 10^{-3}}{{0.11994}}}\\right]^{2}+\\left[\\cfrac{1.6 \\times \\cfrac{{3.004} \\times 10^{-3}}{{0.6267}} \\times \\sqrt{\\left(\\cfrac{10^{-3} \\times {2.4\\times 10^{-3}}}{{3.004} \\times 10^{-3}}\\right)^{2}+\\left(\\cfrac{{3.9\\times 10^{-4}}}{{0.6267}}\\right)^{2}}}{1+1.6 \\times \\cfrac{{3.004} \\times 10^{-3}}{{0.6267}}}\\right]^{2}}=0.19\\%\\\\&u_{\\eta}=\\frac{u_{\\eta}}{\\eta}\\cdot \\eta=0.19\\%\\times 1.574=2.991\\times 10^{-3}{\\rm Pa\\cdot s}\\\\&\\text{故粘滞系数为}\\eta=(1.574 \\pm 0.003){\\rm Pa\\cdot s}\\qquad {\\rm P=0.6826}\\end{align}$$"
      ],
      "text/plain": [
       "<IPython.core.display.Math object>"
      ]
     },
     "metadata": {},
     "output_type": "display_data"
    }
   ],
   "source": [
    "################################################################################\n",
    "###############################函数体部分（开始）###############################\n",
    "def 液体粘滞系数(d1, d2, d3, d4, d5, D, L, H, t):\n",
    "    from analyticlab import const, latexoutput as lp\n",
    "    from analyticlab.numitem import NumItem\n",
    "    from analyticlab.lsym import LSym\n",
    "    from analyticlab.lsymitem import LSymItem\n",
    "    from analyticlab.uncertainty import ins, unc\n",
    "    from analyticlab.uncertainty.measure import Measure\n",
    "    ut1e = const.ut1e\n",
    "\n",
    "    #设置环境参数\n",
    "    unc.Uncertainty.process = True\n",
    "    Measure.AMethod = 'CollegePhysics'\n",
    "    LSymItem.sepSymCalc = True\n",
    "\n",
    "    #定义实验常量\n",
    "    rhop = LSym(r\"\\rho'\", 7.90)\n",
    "    rho = LSym(r\"\\rho\", 0.958)\n",
    "    g = LSym('g', 9.7964)\n",
    "\n",
    "    #导入实验数据\n",
    "    lx = lp.LaTeX(r'\\bbox[gainsboro, 2px]{\\textbf{【液体粘滞系数的计算】}}')\n",
    "    ds = [None]*5\n",
    "    ds[0] = NumItem(d1, sym='d_{1}', unit='mm')  #小球1直径d1(mm)\n",
    "    ds[1] = NumItem(d2, sym='d_{2}', unit='mm')  #小球2直径d2(mm)\n",
    "    ds[2] = NumItem(d3, sym='d_{3}', unit='mm')  #小球3直径d3(mm)\n",
    "    ds[3] = NumItem(d4, sym='d_{4}', unit='mm')  #小球4直径d4(mm)\n",
    "    ds[4] = NumItem(d5, sym='d_{5}', unit='mm')  #小球5直径d5(mm)\n",
    "    meanDI = [di.mean(process=True, needValue=True) for di in ds]\n",
    "    lx.add([mi[1] for mi in meanDI])\n",
    "    d = LSymItem('d', [mi[0] for mi in meanDI])  #5个小球各自的平均直径(mm)\n",
    "    D = LSymItem('D', D)  #圆筒直径D(m)\n",
    "    L = LSymItem('L', L)  #下落距离L(m)\n",
    "    H = LSymItem('H', H)  #蓖麻油深度H(m)\n",
    "    t = LSymItem('t', t)  #下落时间t(s)\n",
    "\n",
    "    #液体粘滞系数的计算\n",
    "    eta = (((rhop-rho)*ut1e(3)*g*(d*ut1e(-3))**2*t)/(18*L)) * (1/((1+2.4*((d*ut1e(-3))/D))*(1+1.6*((d*ut1e(-3))/H))))\n",
    "    lx.add(lp.dispLSymItem(eta, r'\\eta', r'Pa\\cdot s', headExpr='根据液体粘滞系数的计算公式$%s$，得'))\n",
    "\n",
    "    #计算不确定度\n",
    "    lx.add(r'\\bbox[gainsboro, 2px]{\\textbf{【计算不确定度】}}')\n",
    "    d = Measure(ds, ins.一级千分尺_毫米_3, sym='d', description='小球直径$d_{i}$')\n",
    "    D = Measure(D, ins.游标卡尺_米_5, description='圆筒内径$D$')\n",
    "    L = Measure(L, ins.米尺_米_4, description='下落距离$L$')\n",
    "    H = Measure(H, ins.米尺_米_4, description='蓖麻油深度$H$')\n",
    "    t = Measure(t, unit='s', description='下落时间$t$')\n",
    "    u_eta = (d**2*t)/L / ((1+2.4*(d*ut1e(-3)/D))*(1+1.6*(d*ut1e(-3)/H)))\n",
    "    lx.add(lp.dispUnc([d,D,L,H,t], u_eta, NumItem(eta).mean(), r'\\eta', r'Pa\\cdot s', resDescription='故粘滞系数为'))\n",
    "    lx.show()\n",
    "###############################函数体部分（结束）###############################\n",
    "################################################################################\n",
    "    \n",
    "#######################————在这里输入实验数据————#######################\n",
    "液体粘滞系数(\n",
    "    d1 = '3.007 3.010 3.008',  #小球1直径d1(mm)\n",
    "    d2 = '3.005 3.009 3.007',  #小球2直径d2(mm)\n",
    "    d3 = '2.996 3.001 2.999',  #小球3直径d3(mm)\n",
    "    d4 = '3.001 2.998 2.997',  #小球4直径d4(mm)\n",
    "    d5 = '3.006 3.009 3.011',  #小球5直径d5(mm)\n",
    "    D = '0.11996 0.12001 0.12014 0.11967 0.11992',  #圆筒直径D(m)\n",
    "    L = '0.5069 0.5081 0.5066 0.5075 0.5073',  #下落距离L(m)\n",
    "    H = '0.6271 0.6266 0.6259 0.6273 0.6268',  #蓖麻油深度H(m)\n",
    "    t = '24.98 25.02 25.00 25.06 25.01'  #下落时间t(s)\n",
    ")"
   ]
  },
  {
   "cell_type": "code",
   "execution_count": null,
   "metadata": {},
   "outputs": [],
   "source": []
  }
 ],
 "metadata": {
  "kernelspec": {
   "display_name": "Python 3",
   "language": "python",
   "name": "python3"
  },
  "language_info": {
   "codemirror_mode": {
    "name": "ipython",
    "version": 3
   },
   "file_extension": ".py",
   "mimetype": "text/x-python",
   "name": "python",
   "nbconvert_exporter": "python",
   "pygments_lexer": "ipython3",
   "version": "3.6.3"
  }
 },
 "nbformat": 4,
 "nbformat_minor": 2
}
