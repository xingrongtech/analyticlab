{
 "cells": [
  {
   "cell_type": "code",
   "execution_count": 1,
   "metadata": {},
   "outputs": [
    {
     "data": {
      "text/latex": [
       "$$\\begin{align}&\\bbox[gainsboro, 2px]{\\textbf{【逐差法计算待测钢丝的杨氏模量】}}\\\\&\\overline{{D}}=\\frac{1}{n}\\sum\\limits_{i=1}^n {D}_{i}=\\frac{1}{3}\\left(0.385+0.387+0.385\\right)=0.386{\\rm mm}\\\\&S=\\cfrac{\\pi {\\overline{D}}^{2}}{4}=\\cfrac{\\pi  \\times {0.386}^{2}}{4}=0.117{\\rm mm^2}\\\\&F=3\\times 0.360 \\times 9.8066=10.6{\\rm N}\\\\&\\begin{array}{c|c|c|c}\\hline\\Delta n_1=\\overline{n}_4-\\overline{n}_1/{\\rm cm} & \\Delta n_2=\\overline{n}_5-\\overline{n}_2/{\\rm cm} & \\Delta n_3=\\overline{n}_6-\\overline{n}_3/{\\rm cm} & \\Delta \\overline{n}/{\\rm cm}\\\\\\hline0.77 & 0.79 & 0.74 & 0.77\\\\\\hline\\end{array}\\\\&E=\\cfrac{8{F}{L}{d_1}}{\\pi {\\overline{D}}^{2}{\\Delta \\overline{n}}{d_2}}=\\cfrac{8 \\times 10.6 \\times {46.7} \\times 10^{-2} \\times {106.3} \\times 10^{-2}}{\\pi  \\times \\left({0.386} \\times 10^{-3}\\right)^{2} \\times {0.77} \\times 10^{-2} \\times {6.607} \\times 10^{-2}}=1.77\\times 10^{11}{\\rm N/m^2}\\\\&\\bbox[gainsboro, 2px]{\\textbf{【误差分析】}}\\\\&(1)\\text{对于钢丝直径$D$：}\\\\&u_{{D} A}=t_{n}\\sqrt{\\frac{1}{n(n-1)}\\sum\\limits_{i=1}^n\\left({D}_{i}-\\overline{{D}}\\right)^{2}}=1.32 \\times\\sqrt{\\frac{1}{3\\times 2}\\left[\\left(-0.001\\right)^{2}+0.001^{2}+\\left(-0.001\\right)^{2}\\right]}=9.3\\times 10^{-4}{\\rm mm}\\\\&u_{{D} B}=\\frac{a}{k}=\\frac{0.004}{\\sqrt{3}}=2.3\\times 10^{-3}{\\rm mm}\\\\&u_{{D}}=\\sqrt{{u_{{D} A}}^{2}+{u_{{D} B}}^{2}}=\\sqrt{\\left(9.3\\times 10^{-4}\\right)^{2}+\\left(2.3\\times 10^{-3}\\right)^{2}}=2.5\\times 10^{-3}{\\rm mm}\\\\&(2)\\text{对于光标尺读数差值$\\Delta n$：}\\\\&u_{{{x}} A}=t_{n}\\sqrt{\\frac{1}{n(n-1)}\\sum\\limits_{i=1}^n\\left({{x}}_{i}-\\overline{{{x}}}\\right)^{2}}=1.32 \\times\\sqrt{\\frac{1}{3\\times 2}\\left[0.00^{2}+0.02^{2}+\\left(-0.03\\right)^{2}\\right]}=0.019{\\rm cm}\\\\&u_{{\\Delta n} B}=\\frac{a}{k}=\\frac{0.05}{\\sqrt{3}}=0.029{\\rm cm}\\\\&u_{{\\Delta n}}=\\sqrt{{u_{{\\Delta n} A}}^{2}+{u_{{\\Delta n} B}}^{2}}=\\sqrt{0.019^{2}+0.029^{2}}=0.035{\\rm cm}\\\\&(3)\\text{对于钢丝长度$L$：}\\\\&u_{{{L}} B}=\\frac{a}{k}=\\frac{0.5}{\\sqrt{3}}=0.29{\\rm cm}\\\\&u_{{{L}}}=u_{{{L}} B}=0.29{\\rm cm}\\\\&(4)\\text{对于标尺到小镜的距离$d_1$：}\\\\&u_{{{d_1}} B}=\\frac{a}{k}=\\frac{0.5}{\\sqrt{3}}=0.29{\\rm cm}\\\\&u_{{{d_1}}}=u_{{{d_1}} B}=0.29{\\rm cm}\\\\&(5)\\text{对于光杠杆小镜前后支脚间的距离$d_2$：}\\\\&u_{{{d_2}} B}=\\frac{a}{k}=\\frac{0.002}{\\sqrt{3}}=1.2\\times 10^{-3}{\\rm cm}\\\\&u_{{{d_2}}}=u_{{{d_2}} B}=1.2\\times 10^{-3}{\\rm cm}\\\\&\\text{计算合成不确定度：}\\\\&\\frac{u_{E}}{E}=\\sqrt{\\left(\\cfrac{{u_{{{L}}}}}{{{{L}}}}\\right)^{2}+\\left(\\cfrac{{u_{{{d_1}}}}}{{{{d_1}}}}\\right)^{2}+\\left(\\cfrac{2{u_{{D}}}}{{{D}}}\\right)^{2}+\\left(\\cfrac{{u_{{\\Delta n}}}}{{{\\Delta n}}}\\right)^{2}+\\left(\\cfrac{{u_{{{d_2}}}}}{{{{d_2}}}}\\right)^{2}}=\\sqrt{\\left(\\cfrac{{0.29}}{{46.7}}\\right)^{2}+\\left(\\cfrac{{0.29}}{{106.3}}\\right)^{2}+\\left(\\cfrac{2 \\times {2.5\\times 10^{-3}}}{{0.386}}\\right)^{2}+\\left(\\cfrac{{0.035}}{{0.77}}\\right)^{2}+\\left(\\cfrac{{1.2\\times 10^{-3}}}{{6.607}}\\right)^{2}}=5\\%\\\\&u_{E}=\\frac{u_{E}}{E}\\cdot E=5\\%\\times 1.77\\times 10^{11}=8.84\\times 10^{9}{\\rm N/m^2}\\\\&\\text{}E=(1.77 \\pm 0.09)\\times 10^{11}{\\rm N/m^2}\\qquad {\\rm P=0.6826}\\\\&\\text{相对误差：}E_{r}=\\frac{\\left|{E}-\\mu\\right|}{\\mu}\\times 100\\%=\\frac{\\left\\lvert 1.77\\times 10^{11}-2.05\\times 10^{11} \\right\\rvert}{2.05\\times 10^{11}}\\times 100\\%=14\\%\\end{align}$$"
      ],
      "text/plain": [
       "<IPython.core.display.Math object>"
      ]
     },
     "metadata": {},
     "output_type": "display_data"
    }
   ],
   "source": [
    "################################################################################\n",
    "###############################函数体部分（开始）###############################\n",
    "def 拉伸法杨氏模量的测量(n, D, L, d1, d2):\n",
    "    from analyticlab import const, latexoutput as lp\n",
    "    from analyticlab.lsym import LSym\n",
    "    from analyticlab.lsymitem import LSymItem\n",
    "    from analyticlab.numitem import NumItem\n",
    "    from analyticlab.uncertainty import ins, unc\n",
    "    from analyticlab.uncertainty.measure import Measure\n",
    "    ut1e = const.ut1e\n",
    "    PI = const.PI\n",
    "    from analyticlab.numitem import NumItem\n",
    "\n",
    "    #设置环境参数\n",
    "    unc.Uncertainty.process = True\n",
    "    Measure.AMethod = 'CollegePhysics'\n",
    "    LSymItem.sepSymCalc = True\n",
    "\n",
    "    #定义实验常量\n",
    "    F = LSym('F', 10.6)\n",
    "\n",
    "    #导入实验数据\n",
    "    ns = NumItem(n, unit='cm')  #砝码个数为1～6时对应的6组平均光标尺读数(cm)\n",
    "    Ds = NumItem(D, sym='D', unit='mm')  #三次钢丝直径的测量值(mm)\n",
    "    L = LSym('L', L)  #钢丝长度(cm)\n",
    "    d1 = LSym('d_1', d1)  #标尺到小镜的距离(cm)\n",
    "    d2 = LSym('d_2', d2)  #光杠杆小镜前后支脚间的距离(cm)\n",
    "\n",
    "    #逐差法计算待测钢丝的杨氏模量\n",
    "    lx = lp.LaTeX(r'\\bbox[gainsboro, 2px]{\\textbf{【逐差法计算待测钢丝的杨氏模量】}}')\n",
    "    meanD, lsub = Ds.mean(process=True, needValue=True)\n",
    "    lx.add(lsub)\n",
    "    D = LSym(r'\\overline{D}', meanD)   #平均钢丝直径\n",
    "    S = PI*D**2/4\n",
    "    lx.add(lp.dispLSym(S, 'S', 'mm^2'))\n",
    "    lx.add(r'F=3\\times 0.360 \\times 9.8066=10.6{\\rm N}')\n",
    "    d_n1 = ns[3] - ns[0]\n",
    "    d_n2 = ns[4] - ns[1]\n",
    "    d_n3 = ns[5] - ns[2]\n",
    "    dns = NumItem([d_n1, d_n2, d_n3])\n",
    "    dn = dns.mean()\n",
    "    lx.add(lp.dispTable([\n",
    "        [(r'\\Delta n_%d=\\overline{n}_%d-\\overline{n}_%d/{\\rm cm}' % (i, i+3, i)) for i in (1,2,3)] + [r'\\Delta \\overline{n}/{\\rm cm}'],\n",
    "        [str(d_n1), str(d_n2), str(d_n3), str(dn)]\n",
    "    ]))\n",
    "    dn = LSym(r'\\Delta \\overline{n}', dn)\n",
    "    E = (8*F*L*ut1e(-2)*d1*ut1e(-2)) / (PI*(D*ut1e(-3))**2*dn*ut1e(-2)*d2*ut1e(-2))\n",
    "    lx.add(lp.dispLSym(E, 'E', r'N/m^2'))\n",
    "\n",
    "    #误差分析\n",
    "    lx.add(r'\\bbox[gainsboro, 2px]{\\textbf{【误差分析】}}')\n",
    "    D = Measure(Ds, ins.一级千分尺_毫米_3, description='钢丝直径$D$')\n",
    "    dn = Measure(dns, ins.Ins('0.05', ins.Ins.rectangle, 'cm'), sym='\\Delta n', description=r'光标尺读数差值$\\Delta n$')\n",
    "    L = Measure(L, ins.米尺_厘米_1, description='钢丝长度$L$')\n",
    "    d1 = Measure(d1, ins.米尺_厘米_1, description='标尺到小镜的距离$d_1$')\n",
    "    d2 = Measure(d2, ins.游标卡尺_厘米_3, description='光杠杆小镜前后支脚间的距离$d_2$')\n",
    "    u_E = (L*d1) / (D**2*dn*d2)\n",
    "    lx.add(lp.dispUnc([D,dn,L,d1,d2], u_E, E, 'E', r'N/m^2'))\n",
    "    lx.add(NumItem([E], sym='E', mu='2.05e11').relErr(process=True, description='相对误差：'))\n",
    "    lx.show()\n",
    "###############################函数体部分（结束）###############################\n",
    "################################################################################\n",
    "\n",
    "#######################————在这里输入实验数据————#######################\n",
    "拉伸法杨氏模量的测量(\n",
    "    n = '0.34 0.61 0.93 1.11 1.40 1.67',  #砝码个数为1～6时对应的6组平均光标尺读数(cm)\n",
    "    D = '0.385 0.387 0.385',  #三次钢丝直径的测量值(mm)\n",
    "    L = '46.7',  #钢丝长度(cm)\n",
    "    d1 = '106.3',  #标尺到小镜的距离(cm)\n",
    "    d2 = '6.607'  #光杠杆小镜前后支脚间的距离(cm)\n",
    ")"
   ]
  },
  {
   "cell_type": "code",
   "execution_count": null,
   "metadata": {},
   "outputs": [],
   "source": []
  }
 ],
 "metadata": {
  "kernelspec": {
   "display_name": "Python 3",
   "language": "python",
   "name": "python3"
  },
  "language_info": {
   "codemirror_mode": {
    "name": "ipython",
    "version": 3
   },
   "file_extension": ".py",
   "mimetype": "text/x-python",
   "name": "python",
   "nbconvert_exporter": "python",
   "pygments_lexer": "ipython3",
   "version": "3.6.2"
  }
 },
 "nbformat": 4,
 "nbformat_minor": 2
}
