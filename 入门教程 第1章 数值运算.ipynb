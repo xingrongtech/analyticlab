{
 "cells": [
  {
   "cell_type": "markdown",
   "metadata": {},
   "source": [
    "# 第一章 数值运算"
   ]
  },
  {
   "cell_type": "markdown",
   "metadata": {},
   "source": [
    "**数值运算部分**可以按照有效数字的保留与运算规则，对单个或系列数值进行运算。analyticlab的数值运算由`Num`（分析数值）和`NumItem`（分析数组）类实现。对于`Num`、`NumItem`的求根、对数、三角函数运算，需要通过`analyticlab.amath`模块实现。"
   ]
  },
  {
   "cell_type": "markdown",
   "metadata": {},
   "source": [
    "#### 本章涉及的类与模块：\n",
    "* Num类 - analyticlab.num\n",
    "* NumItem类 - analyticlab.numitem\n",
    "* (部分了解)amath函数模块 - analyticlab.amath"
   ]
  },
  {
   "cell_type": "markdown",
   "metadata": {},
   "source": [
    "## 1.Num类：单个数值的运算"
   ]
  },
  {
   "cell_type": "markdown",
   "metadata": {},
   "source": [
    "### 1.1 导入Num类 "
   ]
  },
  {
   "cell_type": "markdown",
   "metadata": {},
   "source": [
    "Num类位于`analyticlab.num`模块内，通过以下指令实现导入："
   ]
  },
  {
   "cell_type": "code",
   "execution_count": 1,
   "metadata": {},
   "outputs": [],
   "source": [
    "from analyticlab.num import Num"
   ]
  },
  {
   "cell_type": "markdown",
   "metadata": {},
   "source": [
    "### 1.2 创建一个Num数值"
   ]
  },
  {
   "cell_type": "markdown",
   "metadata": {},
   "source": [
    "Num类的构造方法如下："
   ]
  },
  {
   "cell_type": "markdown",
   "metadata": {},
   "source": [
    "`Num(numStr, isRelative=False)`"
   ]
  },
  {
   "cell_type": "markdown",
   "metadata": {},
   "source": [
    "将要创建的数值以字符串形式给出，比如13.42表示成'13.42'，以此创建一个Num数值："
   ]
  },
  {
   "cell_type": "code",
   "execution_count": 2,
   "metadata": {},
   "outputs": [],
   "source": [
    "t1 = Num('13.42')\n",
    "t2 = Num('6.31e-4')  #数值可以通过科学记数法表示"
   ]
  },
  {
   "cell_type": "markdown",
   "metadata": {},
   "source": [
    "直接在命令行中输入变量t，即可输出其数值："
   ]
  },
  {
   "cell_type": "code",
   "execution_count": 3,
   "metadata": {},
   "outputs": [
    {
     "name": "stdout",
     "output_type": "stream",
     "text": [
      "13.42 6.31e-04\n"
     ]
    }
   ],
   "source": [
    "print(t1, t2)"
   ]
  },
  {
   "cell_type": "markdown",
   "metadata": {},
   "source": [
    "当要创建的数值为相对比值时，可以在创建Num数值时使`isRelative=True`，numStr仍为百分数对应小数的字符串形式，此时创建出来的数值将为相对比值形式。相对比值在输出时，会按照比值的显示规则进行输出："
   ]
  },
  {
   "cell_type": "code",
   "execution_count": 4,
   "metadata": {},
   "outputs": [
    {
     "data": {
      "text/plain": [
       "2.7%"
      ]
     },
     "execution_count": 4,
     "metadata": {},
     "output_type": "execute_result"
    }
   ],
   "source": [
    "rate = Num('0.02725', isRelative=True)\n",
    "rate"
   ]
  },
  {
   "cell_type": "markdown",
   "metadata": {},
   "source": [
    "若一个数值原本不是相对比值形式，那么可以通过调用该数值的`setIsRelative(True)`方法，使之成为相对比值。"
   ]
  },
  {
   "cell_type": "markdown",
   "metadata": {},
   "source": [
    "### 1.3 Num数值的运算"
   ]
  },
  {
   "cell_type": "markdown",
   "metadata": {},
   "source": [
    "Num数值可实现`+`、`-`、`*`、`/`、`**`运算，数值可以与数值进行运算，也可以与纯数字（float、int）进行运算："
   ]
  },
  {
   "cell_type": "code",
   "execution_count": 5,
   "metadata": {},
   "outputs": [],
   "source": [
    "m1 = Num('0.17561')\n",
    "m2 = Num('0.12487')\n",
    "V = Num('0.0571')"
   ]
  },
  {
   "cell_type": "markdown",
   "metadata": {},
   "source": [
    "* 数值与数值运算"
   ]
  },
  {
   "cell_type": "code",
   "execution_count": 6,
   "metadata": {},
   "outputs": [
    {
     "name": "stdout",
     "output_type": "stream",
     "text": [
      "-V = -0.0571\n",
      "m1+m2 = 0.30048\n",
      "m1-m2 = 0.05074\n",
      "m1*m2 = 0.021928\n",
      "m1/m2 = 1.4063\n",
      "m1**2 = 0.030839\n",
      "(m1-m2)/V = 0.889\n"
     ]
    }
   ],
   "source": [
    "print('-V = %s' % (-V))\n",
    "print('m1+m2 = %s' % (m1+m2))\n",
    "print('m1-m2 = %s' % (m1-m2))\n",
    "print('m1*m2 = %s' % (m1*m2))\n",
    "print('m1/m2 = %s' % (m1/m2))\n",
    "print('m1**2 = %s' % (m1**2))\n",
    "print('(m1-m2)/V = %s' % ((m1-m2)/V))"
   ]
  },
  {
   "cell_type": "markdown",
   "metadata": {},
   "source": [
    "<i>注意：对于乘方、指数运算（使用运算符`**`），底数、指数中只有一个可以为Num数值，如`(m1-m2)**2`、`2**V`，而不能有`(m1-m2)**V`！</i>"
   ]
  },
  {
   "cell_type": "markdown",
   "metadata": {},
   "source": [
    "数值对数值运算时，会按照有效数字的运算规则进行运算。即加减运算时，末位由相加减的全部数值中末位位数最少者决定；乘除运算时，有效数字由相乘除的全部数值中有效数字位数最少者决定。而当数值对纯数字进行运算时，纯数字不会影响数值的有效数字，即有效数字仅由数值决定。"
   ]
  },
  {
   "cell_type": "markdown",
   "metadata": {},
   "source": [
    "* 数值与纯数字运算"
   ]
  },
  {
   "cell_type": "code",
   "execution_count": 7,
   "metadata": {},
   "outputs": [
    {
     "name": "stdout",
     "output_type": "stream",
     "text": [
      "V*10 = 1.7561\n",
      "V+0.3 = 0.47561\n"
     ]
    }
   ],
   "source": [
    "print('V*10 = %s' % (m1*10))\n",
    "print('V+0.3 = %s' % (m1+0.3))"
   ]
  },
  {
   "cell_type": "markdown",
   "metadata": {},
   "source": [
    "#### 1.3.1 数值运算过程中的数值修约问题"
   ]
  },
  {
   "cell_type": "markdown",
   "metadata": {},
   "source": [
    "若在每完成一次数值与数值的运算后，都对得到的数值进行修约，那么每次修约都会带来一定误差，误差不断累积，会造成最终计算结果误差过大。为了防止计算过程中不断修约造成的数值精度损失，程序默认不会对计算过程的中间值和计算结果进行修约。例如z=m1/m2，尽管z输出的数值为1.4063，但是其在计算机内部储存的实际数字是1.4063425963001521，1.4063是按照有效数字保留规则输出的。若要使z的值变成真正的1.4063，则要调用`fix()`方法对数值进行修约："
   ]
  },
  {
   "cell_type": "code",
   "execution_count": 8,
   "metadata": {},
   "outputs": [],
   "source": [
    "z=m1/m2\n",
    "z=z.fix()"
   ]
  },
  {
   "cell_type": "markdown",
   "metadata": {},
   "source": [
    "### 1.4 数值的输出"
   ]
  },
  {
   "cell_type": "markdown",
   "metadata": {},
   "source": [
    "Num数值可以通过`str()、repr()`函数，以文本形式输出，也可以通过Num的`latex()`方法，以LaTeX代码形式输出："
   ]
  },
  {
   "cell_type": "code",
   "execution_count": 9,
   "metadata": {},
   "outputs": [
    {
     "name": "stdout",
     "output_type": "stream",
     "text": [
      "str(t1) = 13.42\n",
      "str(t2) = 6.31e-04\n",
      "t1.latex() = 13.42\n",
      "t2.latex() = 6.31\\times 10^{-4}\n"
     ]
    }
   ],
   "source": [
    "print('str(t1) = ' + str(t1))\n",
    "print('str(t2) = ' + str(t2))\n",
    "print('t1.latex() = ' + t1.latex())\n",
    "print('t2.latex() = ' + t2.latex())"
   ]
  },
  {
   "cell_type": "markdown",
   "metadata": {},
   "source": [
    "#### \\* 1.4.1 设定使用科学记数法的边界条件"
   ]
  },
  {
   "cell_type": "markdown",
   "metadata": {},
   "source": [
    "在1.4的例子中可以看到，t1以一般数值输出，而t2以科学记数法输出。以何种形式输出，仅与数值的科学记数法指数有关，而与如何初始化数值无关。默认情况下，科学记数法指数的边界条件为3，即一个数的科学记数法为10的3次方及以上，或-3次方及以下时，会以科学计数法输出。例如："
   ]
  },
  {
   "cell_type": "code",
   "execution_count": 10,
   "metadata": {},
   "outputs": [
    {
     "name": "stdout",
     "output_type": "stream",
     "text": [
      "t1*1000 = 1.342e+04\n",
      "t2*1000 = 0.631\n"
     ]
    }
   ],
   "source": [
    "print('t1*1000 = %s' % (t1*1000))\n",
    "print('t2*1000 = %s' % (t2*1000))"
   ]
  },
  {
   "cell_type": "markdown",
   "metadata": {},
   "source": [
    "通过调用`setSciBound(bound)`方法，改变边界条件，比如让t2的科学记数法为10的5次方及以上时，再以科学记数法输出，则t2会以一般数值输出："
   ]
  },
  {
   "cell_type": "code",
   "execution_count": 11,
   "metadata": {},
   "outputs": [
    {
     "name": "stdout",
     "output_type": "stream",
     "text": [
      "str(t2) = 0.000631\n"
     ]
    }
   ],
   "source": [
    "t2.setSciBound(5)\n",
    "print('str(t2) = ' + str(t2))"
   ]
  },
  {
   "cell_type": "markdown",
   "metadata": {},
   "source": [
    "#### \\* 1.4.2 设置多保留、少保留一位有效数字"
   ]
  },
  {
   "cell_type": "markdown",
   "metadata": {},
   "source": [
    "根据有效数字的修约规则，在计算过程中，可以多保留一位有效数字，在得到计算结果时，去除多保留的一位有效数字即可。在Num类中，可以通过`remainOneMoreDigit()`方法实现多保留一位有效数字，通过`cutOneDigit()`实现去除一位有效数字："
   ]
  },
  {
   "cell_type": "code",
   "execution_count": 12,
   "metadata": {},
   "outputs": [
    {
     "name": "stdout",
     "output_type": "stream",
     "text": [
      "0.03\n",
      "0.027\n"
     ]
    }
   ],
   "source": [
    "h1, h2, h3, h4 = Num('21.53'), Num('21.15'), Num('21.53'), Num('21.46')\n",
    "k = (h2-h1)*(h4-h3)\n",
    "print(k)\n",
    "k.remainOneMoreDigit()\n",
    "print(k)"
   ]
  },
  {
   "cell_type": "markdown",
   "metadata": {},
   "source": [
    "### 1.5 数值的大小比较"
   ]
  },
  {
   "cell_type": "markdown",
   "metadata": {},
   "source": [
    "数值可以与数值进行比较，也可以与纯数字进行比较："
   ]
  },
  {
   "cell_type": "code",
   "execution_count": 13,
   "metadata": {},
   "outputs": [
    {
     "data": {
      "text/plain": [
       "True"
      ]
     },
     "execution_count": 13,
     "metadata": {},
     "output_type": "execute_result"
    }
   ],
   "source": [
    "m1 > m2"
   ]
  },
  {
   "cell_type": "code",
   "execution_count": 14,
   "metadata": {},
   "outputs": [
    {
     "data": {
      "text/plain": [
       "False"
      ]
     },
     "execution_count": 14,
     "metadata": {},
     "output_type": "execute_result"
    }
   ],
   "source": [
    "t1 > 15"
   ]
  },
  {
   "cell_type": "markdown",
   "metadata": {},
   "source": [
    "### 1.6 将数值转换为纯数字"
   ]
  },
  {
   "cell_type": "markdown",
   "metadata": {},
   "source": [
    "当需要将Num数值用于诸如scipy、matplotlib等其他第三方库，用于计算、绘图等操作时，由于只有analyticlab支持Num数据类型，因此需要将Num转换成int或float，此时可以通过`toInt()`、`toFloat()`方法实现类型转换。"
   ]
  },
  {
   "cell_type": "markdown",
   "metadata": {},
   "source": [
    "## 2.NumItem类：一组数值的运算"
   ]
  },
  {
   "cell_type": "markdown",
   "metadata": {},
   "source": [
    "NumItem数组实质上是一组Num数值组合而成的，如小球直径的五次测量数据。从数值运算的角度，NumItem的功能与Num大致相当，很多函数和方法的调用基本一致。只不过NumItem能够按数组进行运算（类似于Matlab的数组运算，但不是矩阵运算）。除此之外，NumItem还具备单组数据的数理统计功能，此部分将在第二章予以介绍。"
   ]
  },
  {
   "cell_type": "markdown",
   "metadata": {},
   "source": [
    "### 2.1 导入NumItem类"
   ]
  },
  {
   "cell_type": "markdown",
   "metadata": {},
   "source": [
    "NumItem类位于`analyticlab.numitem`模块内，通过以下指令实现导入："
   ]
  },
  {
   "cell_type": "code",
   "execution_count": 15,
   "metadata": {},
   "outputs": [],
   "source": [
    "from analyticlab.numitem import NumItem"
   ]
  },
  {
   "cell_type": "markdown",
   "metadata": {},
   "source": [
    "### 2.2 创建一个NumItem数组"
   ]
  },
  {
   "cell_type": "markdown",
   "metadata": {},
   "source": [
    "NumItem类的构造方法如下："
   ]
  },
  {
   "cell_type": "markdown",
   "metadata": {},
   "source": [
    "`NumItem(nums, mu=None, isRelative=False, sym='{x}', unit=None)`"
   ]
  },
  {
   "cell_type": "markdown",
   "metadata": {},
   "source": [
    "其中nums是一系列数值以空格隔开，组成的字符串。要创建一个数组，最简单的方法是只给出nums，例如："
   ]
  },
  {
   "cell_type": "code",
   "execution_count": 16,
   "metadata": {},
   "outputs": [],
   "source": [
    "d = NumItem('7.91 7.87 7.92 7.94 7.93 7.95')"
   ]
  },
  {
   "cell_type": "markdown",
   "metadata": {},
   "source": [
    "直接在命令行中输入变量d，即可输出该数组："
   ]
  },
  {
   "cell_type": "code",
   "execution_count": 17,
   "metadata": {},
   "outputs": [
    {
     "data": {
      "text/plain": [
       "[7.91, 7.87, 7.92, 7.94, 7.93, 7.95]"
      ]
     },
     "execution_count": 17,
     "metadata": {},
     "output_type": "execute_result"
    }
   ],
   "source": [
    "d"
   ]
  },
  {
   "cell_type": "markdown",
   "metadata": {},
   "source": [
    "当要创建的数组有一系列相对比组成时，可以在创建NumItem数组时使`isRelative=True`，numStr仍为百分数对应小数的字符串形式，此时创建出来的数组中的每个数值都将为相对比值形式。"
   ]
  },
  {
   "cell_type": "markdown",
   "metadata": {},
   "source": [
    "参数mu、sym、unit与数组的数理统计功能有关，将会在第二章予以介绍，本章暂不介绍。"
   ]
  },
  {
   "cell_type": "markdown",
   "metadata": {},
   "source": [
    "### 2.3 NumItem数组的运算"
   ]
  },
  {
   "cell_type": "markdown",
   "metadata": {},
   "source": [
    "NumItem数组可实现`+`、`-`、`*`、`/`、`**`运算，数组可以等长度的数组、单个数值或单个纯数字（float、int）进行运算："
   ]
  },
  {
   "cell_type": "code",
   "execution_count": 18,
   "metadata": {},
   "outputs": [],
   "source": [
    "d1 = NumItem('6.53 6.69 6.63 6.65 6.57')\n",
    "d2 = NumItem('3.43 3.45 3.47 3.44 3.41')\n",
    "L = Num('5.66')"
   ]
  },
  {
   "cell_type": "markdown",
   "metadata": {},
   "source": [
    "* 等长度的数组之间的运算："
   ]
  },
  {
   "cell_type": "code",
   "execution_count": 19,
   "metadata": {},
   "outputs": [
    {
     "name": "stdout",
     "output_type": "stream",
     "text": [
      "d1+d2 = [9.96, 10.14, 10.10, 10.09, 9.98]\n",
      "d1-d2 = [3.10, 3.24, 3.16, 3.21, 3.16]\n",
      "d1*d2 = [22.4, 23.1, 23.0, 22.9, 22.4]\n",
      "d1/d2 = [1.90, 1.94, 1.91, 1.93, 1.93]\n",
      "d1**2 = [42.6, 44.8, 44.0, 44.2, 43.2]\n"
     ]
    }
   ],
   "source": [
    "print('d1+d2 = %s' % (d1+d2))\n",
    "print('d1-d2 = %s' % (d1-d2))\n",
    "print('d1*d2 = %s' % (d1*d2))\n",
    "print('d1/d2 = %s' % (d1/d2))\n",
    "print('d1**2 = %s' % (d1**2))"
   ]
  },
  {
   "cell_type": "markdown",
   "metadata": {},
   "source": [
    "<i>注意：长度不等的数组之间不能进行四则运算！</i>"
   ]
  },
  {
   "cell_type": "markdown",
   "metadata": {},
   "source": [
    "* 数组与单个数值的运算："
   ]
  },
  {
   "cell_type": "code",
   "execution_count": 20,
   "metadata": {},
   "outputs": [
    {
     "name": "stdout",
     "output_type": "stream",
     "text": [
      "L*(d1-d2) = [17.5, 18.3, 17.9, 18.2, 17.9]\n",
      "(d1-d2)/L = [0.548, 0.572, 0.558, 0.567, 0.558]\n"
     ]
    }
   ],
   "source": [
    "print('L*(d1-d2) = %s' % (L*(d1-d2)))\n",
    "print('(d1-d2)/L = %s' % ((d1-d2)/L))"
   ]
  },
  {
   "cell_type": "markdown",
   "metadata": {},
   "source": [
    "* 数组与单个纯数字的运算："
   ]
  },
  {
   "cell_type": "code",
   "execution_count": 21,
   "metadata": {},
   "outputs": [
    {
     "name": "stdout",
     "output_type": "stream",
     "text": [
      "(d1-d2)/3 = [1.03, 1.08, 1.05, 1.07, 1.05]\n"
     ]
    }
   ],
   "source": [
    "print('(d1-d2)/3 = %s' % ((d1-d2)/3))"
   ]
  },
  {
   "cell_type": "markdown",
   "metadata": {},
   "source": [
    "#### 2.3.1 数组的修约"
   ]
  },
  {
   "cell_type": "markdown",
   "metadata": {},
   "source": [
    "通过调用`fix()`方法，可以对数组内的数值进行批量修约。"
   ]
  },
  {
   "cell_type": "markdown",
   "metadata": {},
   "source": [
    "### 2.4 数组的输出"
   ]
  },
  {
   "cell_type": "markdown",
   "metadata": {},
   "source": [
    "NumItem数组可以通过str()、repr()函数，以文本形式输出，也可以通过Num的latex()方法，以LaTeX代码形式输出："
   ]
  },
  {
   "cell_type": "code",
   "execution_count": 22,
   "metadata": {},
   "outputs": [
    {
     "name": "stdout",
     "output_type": "stream",
     "text": [
      "str(d1*1e5) = [6.53e+03, 6.69e+03, 6.63e+03, 6.65e+03, 6.57e+03]\n",
      "(d1*1e5).latex() = [6.53\\times 10^{3}, 6.69\\times 10^{3}, 6.63\\times 10^{3}, 6.65\\times 10^{3}, 6.57\\times 10^{3}]\n"
     ]
    }
   ],
   "source": [
    "print('str(d1*1e5) = ' + str(d1*1000))\n",
    "print('(d1*1e5).latex() = ' + (d1*1000).latex())"
   ]
  },
  {
   "cell_type": "markdown",
   "metadata": {},
   "source": [
    "#### \\* 2.4.1 设定使用科学记数法的边界条件"
   ]
  },
  {
   "cell_type": "markdown",
   "metadata": {},
   "source": [
    "通过调用`setSciBound(bound)`方法，改变数组中每个数值的边界条件："
   ]
  },
  {
   "cell_type": "code",
   "execution_count": 23,
   "metadata": {},
   "outputs": [
    {
     "data": {
      "text/plain": [
       "[0.000653, 0.000669, 0.000663, 0.000665, 0.000657]"
      ]
     },
     "execution_count": 23,
     "metadata": {},
     "output_type": "execute_result"
    }
   ],
   "source": [
    "d = d1/10000\n",
    "d.setSciBound(5)\n",
    "d"
   ]
  },
  {
   "cell_type": "markdown",
   "metadata": {},
   "source": [
    "#### \\* 2.4.2 设置多保留、少保留一位有效数字"
   ]
  },
  {
   "cell_type": "markdown",
   "metadata": {},
   "source": [
    "通过调用`remainOneMoreDigit()`、`cutOneDigit()`方法，实现多保留、少保留一位有效数字。"
   ]
  },
  {
   "cell_type": "markdown",
   "metadata": {},
   "source": [
    "### 2.5 数组元素的访问"
   ]
  },
  {
   "cell_type": "markdown",
   "metadata": {},
   "source": [
    "NumItem数组元素的访问方式与list相同，如下所示："
   ]
  },
  {
   "cell_type": "code",
   "execution_count": 24,
   "metadata": {},
   "outputs": [
    {
     "name": "stdout",
     "output_type": "stream",
     "text": [
      "d1 = [6.53, 6.69, 6.63, 6.65, 6.57]\n",
      "d1[0] = 6.53\n",
      "d1[-1] = 6.57\n",
      "d1[1:3] = [6.69, 6.63]\n",
      "d1[-3:] = [6.63, 6.65, 6.57]\n"
     ]
    }
   ],
   "source": [
    "print('d1 =', d1)\n",
    "print('d1[0] =', d1[0])\n",
    "print('d1[-1] =', d1[-1])\n",
    "print('d1[1:3] =', d1[1:3])\n",
    "print('d1[-3:] =', d1[-3:])"
   ]
  },
  {
   "cell_type": "markdown",
   "metadata": {},
   "source": [
    "#### 2.5.1 实现数组元素的增删改："
   ]
  },
  {
   "cell_type": "code",
   "execution_count": 25,
   "metadata": {},
   "outputs": [
    {
     "data": {
      "text/plain": [
       "[6.53, 6.41, 6.63, 6.65, 6.57]"
      ]
     },
     "execution_count": 25,
     "metadata": {},
     "output_type": "execute_result"
    }
   ],
   "source": [
    "d1[1] = Num('6.41')\n",
    "d1"
   ]
  },
  {
   "cell_type": "code",
   "execution_count": 26,
   "metadata": {},
   "outputs": [
    {
     "data": {
      "text/plain": [
       "[6.53, 6.41, 6.65, 6.57]"
      ]
     },
     "execution_count": 26,
     "metadata": {},
     "output_type": "execute_result"
    }
   ],
   "source": [
    "del d1[2]\n",
    "d1"
   ]
  },
  {
   "cell_type": "markdown",
   "metadata": {},
   "source": [
    "`append(v)`方法可用于向当前数组中添加新元素，v可以是单个Num数值，即在数组的末尾追加一个数值；也可以是一个NumItem数组，即在数组的末尾追加一组数值："
   ]
  },
  {
   "cell_type": "code",
   "execution_count": 27,
   "metadata": {},
   "outputs": [
    {
     "name": "stdout",
     "output_type": "stream",
     "text": [
      "[6.53, 6.41, 6.65, 6.57, 6.71]\n",
      "[6.53, 6.41, 6.65, 6.57, 6.71, 3.43, 3.45, 3.47, 3.44, 3.41]\n"
     ]
    }
   ],
   "source": [
    "dp = Num('6.71')\n",
    "d1.append(dp)\n",
    "print(d1)\n",
    "d1.append(d2)\n",
    "print(d1)"
   ]
  },
  {
   "cell_type": "markdown",
   "metadata": {},
   "source": [
    "### 2.6 将数值转换为纯数字列表（list）"
   ]
  },
  {
   "cell_type": "markdown",
   "metadata": {},
   "source": [
    "当需要将NumItem数组中的数据用于诸如scipy、matplotlib等其他第三方库，用于计算、绘图等操作时，由于只有analyticlab支持NumItem数据类型，因此需要将NumItem转换成list，此时可以通过`toIntArray()`、`toFloatArray()`方法实现类型转换。"
   ]
  },
  {
   "cell_type": "markdown",
   "metadata": {},
   "source": [
    "## 3 使用amath模块进行数值运算"
   ]
  },
  {
   "cell_type": "markdown",
   "metadata": {},
   "source": [
    "amath是一个对根式、对数、三角函数进行数值运算、LaTeX符号生成、Const常数生成、不确定度计算（三角函数的不确定度除外）的模块，本章主要介绍其数值运算部分，即通过amath模块的函数对Num、NumItem进行数值运算。"
   ]
  },
  {
   "cell_type": "markdown",
   "metadata": {},
   "source": [
    "通过以下指令实现amath模块的导入："
   ]
  },
  {
   "cell_type": "code",
   "execution_count": 28,
   "metadata": {},
   "outputs": [],
   "source": [
    "from analyticlab import amath"
   ]
  },
  {
   "cell_type": "markdown",
   "metadata": {},
   "source": [
    "#### amath模块支持的函数如下：\n",
    "* `def sqrt(obj, root=2)`\n",
    "* `def ln(obj)`\n",
    "* `def lg(obj)`\n",
    "* `def sin(obj, mode='degree')`\n",
    "* `def cos(obj, mode='degree')`\n",
    "* `def tan(obj, mode='degree')`\n",
    "* `def csc(obj, mode='degree')`\n",
    "* `def sec(obj, mode='degree')`\n",
    "* `def cot(obj, mode='degree')`\n",
    "* `def arcsin(obj, mode='degree')`\n",
    "* `def arccos(obj, mode='degree')`\n",
    "* `def arctan(obj, mode='degree')`\n",
    "* `def arccsc(obj, mode='degree')`\n",
    "* `def arcsec(obj, mode='degree')`\n",
    "* `def arccot(obj, mode='degree')`"
   ]
  },
  {
   "cell_type": "markdown",
   "metadata": {},
   "source": [
    "#### 函数参数说明：\n",
    "* 对数函数ln、lg只接受一个参数obj，即求obj的对数。\n",
    "* 求根函数sqrt中的root为根指数，默认root=2，即默认求的是平方根。\n",
    "* 三角函数和反三角函数支持角度计算和弧度计算，通过mode参数实现，mode='degree'时为角度计算，mode='radius'时为弧度计算。默认为角度计算。"
   ]
  },
  {
   "cell_type": "markdown",
   "metadata": {},
   "source": [
    "#### 下面举例说明amath模块函数的使用："
   ]
  },
  {
   "cell_type": "code",
   "execution_count": 29,
   "metadata": {},
   "outputs": [
    {
     "name": "stdout",
     "output_type": "stream",
     "text": [
      "d1 = [6.53, 6.41, 6.65, 6.57, 6.71, 3.43, 3.45, 3.47, 3.44, 3.41]\n",
      "amath.ln(d1) [1.876, 1.858, 1.895, 1.883, 1.904, 1.233, 1.238, 1.244, 1.235, 1.227]\n",
      "amath.sqrt(d1) [2.56, 2.53, 2.58, 2.56, 2.59, 1.85, 1.86, 1.86, 1.85, 1.85]\n",
      "amath.sqrt(d1, 3) [2.56, 2.53, 2.58, 2.56, 2.59, 1.85, 1.86, 1.86, 1.85, 1.85]\n",
      "amath.arctan(d1) [81.3, 81.1, 81.4, 81.3, 81.5, 73.7, 73.8, 73.9, 73.8, 73.7]\n",
      "amath.arctan(d1, mode='radius') [1.42, 1.42, 1.42, 1.42, 1.42, 1.29, 1.29, 1.29, 1.29, 1.29]\n"
     ]
    }
   ],
   "source": [
    "print('d1 =', d1)\n",
    "print('amath.ln(d1)', amath.ln(d1))\n",
    "print('amath.sqrt(d1)', amath.sqrt(d1))\n",
    "print('amath.sqrt(d1, 3)', amath.sqrt(d1, 3))\n",
    "print('amath.arctan(d1)', amath.arctan(d1))  #默认按角度计算\n",
    "print(\"amath.arctan(d1, mode='radius')\", amath.arctan(d1, mode='radius'))  #改成按弧度计算"
   ]
  },
  {
   "cell_type": "code",
   "execution_count": null,
   "metadata": {},
   "outputs": [],
   "source": []
  }
 ],
 "metadata": {
  "kernelspec": {
   "display_name": "Python 3",
   "language": "python",
   "name": "python3"
  },
  "language_info": {
   "codemirror_mode": {
    "name": "ipython",
    "version": 3
   },
   "file_extension": ".py",
   "mimetype": "text/x-python",
   "name": "python",
   "nbconvert_exporter": "python",
   "pygments_lexer": "ipython3",
   "version": "3.6.3"
  }
 },
 "nbformat": 4,
 "nbformat_minor": 2
}
