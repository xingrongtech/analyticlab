{
 "cells": [
  {
   "cell_type": "markdown",
   "metadata": {},
   "source": [
    "# 第三章 离群值处理"
   ]
  },
  {
   "cell_type": "markdown",
   "metadata": {},
   "source": [
    "根据现行国家标准**<i>GBT 4883-2008 数据的统计处理和解释正态样本离群值的判断和处理</i>**，**离群值**是指样本中的一个或几个观测值，它们离开其他观测值较远，暗示他们可能来自不同的总体。**离群值**包括**统计离群值**和**歧离值**，其中**统计离群值**是指在剔除水平下统计检验为显著的离群值；**歧离值**是指在检出水平（通常取$\\alpha=0.05$）下显著，但在剔除水平（通常取$\\alpha^*=0.01$）下不显著的离群值。有关离群值、统计离群值、歧离值、检出水平、剔除水平的详细解释，请[点击这里](https://wenku.baidu.com/view/f701e484c8d376eeaeaa31a8.html)阅读标准文件。"
   ]
  },
  {
   "cell_type": "markdown",
   "metadata": {},
   "source": [
    "离群值处理部分位于`analyticlab.outlier`函数模块内，可以实现**已知标准差**、**未知标准差**情形下，限定检出离群值个数**不超过1**和**大于1**时的离群值处理。"
   ]
  },
  {
   "cell_type": "markdown",
   "metadata": {},
   "source": [
    "#### 本章涉及的模块：\n",
    "* outlier函数模块 - 离群值处理"
   ]
  },
  {
   "cell_type": "markdown",
   "metadata": {},
   "source": [
    "## 1.导入outlier模块"
   ]
  },
  {
   "cell_type": "markdown",
   "metadata": {},
   "source": [
    "通过如下指令实现analyticlab.outlier模块的导入："
   ]
  },
  {
   "cell_type": "code",
   "execution_count": 1,
   "metadata": {},
   "outputs": [],
   "source": [
    "from analyticlab import outlier"
   ]
  },
  {
   "cell_type": "markdown",
   "metadata": {},
   "source": [
    "## 2.函数列表"
   ]
  },
  {
   "cell_type": "markdown",
   "metadata": {},
   "source": [
    "**outlier模块支持<i>Nair检验</i>、<i>Grubbs检验</i>、<i>Dixon检验</i>、<i>偏度-峰度检验</i>4种检验法，相应函数如下**："
   ]
  },
  {
   "cell_type": "markdown",
   "metadata": {},
   "source": [
    "* 已知标准差$\\sigma$情形离群值的判断：\n",
    "    * `def Nair(item, sigma, detLevel=0.05, delLevel=0.01, side='double', process=False, needValue=False)` - Nair检验法\n",
    "* 未知标准差$\\sigma$情形离群值的判断：\n",
    "    * 限定检出离群值个数不超过1时：\n",
    "        * `def Grubbs(item, detLevel=0.05, delLevel=0.01, side='double', process=False, needValue=False)` - Grubbs检验法\n",
    "        * `def Dixon(item, detLevel=0.05, delLevel=0.01, side='double', process=False, needValue=False)` - Dixon检验法\n",
    "    * 限定检出离群值个数大于1时：\n",
    "        * `def Dixon(item, detLevel=0.05, delLevel=0.01, side='double', process=False, needValue=False)` - Dixon检验法\n",
    "        * `def SkewKuri(item, detLevel=0.05, delLevel=0.01, side='double', process=False, needValue=False)` - 偏度-峰度检验法"
   ]
  },
  {
   "cell_type": "markdown",
   "metadata": {},
   "source": [
    "## 3.最简单的调用"
   ]
  },
  {
   "cell_type": "markdown",
   "metadata": {},
   "source": [
    "参数`item`为待检验样本的NumItem数组。对于未知标准差的离群值检验，可以只给出参数`item`；对于已知标准差的离群值检验，可以只给出参数`item`和`simga`（sigma即为标准差$\\sigma$）："
   ]
  },
  {
   "cell_type": "code",
   "execution_count": 2,
   "metadata": {},
   "outputs": [],
   "source": [
    "from analyticlab import NumItem"
   ]
  },
  {
   "cell_type": "code",
   "execution_count": 3,
   "metadata": {},
   "outputs": [
    {
     "data": {
      "text/plain": [
       "({'statOutliers': [13.12], 'stragglers': []},\n",
       " [13.52, 13.56, 13.55, 13.54, 13.54])"
      ]
     },
     "execution_count": 3,
     "metadata": {},
     "output_type": "execute_result"
    }
   ],
   "source": [
    "sample = NumItem('13.52 13.56 13.55 13.54 13.12 13.54')\n",
    "outlier.Grubbs(sample)  #Grubbs检验"
   ]
  },
  {
   "cell_type": "code",
   "execution_count": 4,
   "metadata": {},
   "outputs": [
    {
     "data": {
      "text/plain": [
       "({'statOutliers': [], 'stragglers': [3.13]},\n",
       " [3.49, 4.01, 4.48, 4.61, 4.76, 4.98, 5.25, 5.32, 5.39, 5.42, 5.57, 5.59, 5.59, 5.63, 5.63, 5.65, 5.66, 5.67, 5.69, 5.71, 6.00, 6.03, 6.12, 6.76])"
      ]
     },
     "execution_count": 4,
     "metadata": {},
     "output_type": "execute_result"
    }
   ],
   "source": [
    "sample = NumItem(\"3.13 3.49 4.01 4.48 4.61 4.76 4.98 5.25 5.32 5.39 5.42 5.57 5.59 5.59 5.63 5.63 5.65 5.66 5.67 5.69 5.71 6.00 6.03 6.12 6.76\")\n",
    "outlier.Nair(sample, 0.65)  #Nair检验示例"
   ]
  },
  {
   "cell_type": "markdown",
   "metadata": {},
   "source": [
    "离群值检验函数的返回值为**离群值**和**正常值**组成的元组，其中**离群值**为由**统计离群值（statOutliers）**和**歧离值（stragglers）**组成的字典。**统计离群值**、**歧离值**、**正常值**均以`list`给出。"
   ]
  },
  {
   "cell_type": "markdown",
   "metadata": {},
   "source": [
    "## 4.对哪侧进行检验"
   ]
  },
  {
   "cell_type": "markdown",
   "metadata": {},
   "source": [
    "离群值检验分为**双侧情形**、**上侧情形**和**下侧情形**，通过参数`side`决定是哪侧检验。默认`side='double'`，即默认为双侧情形。当需要进行检验的是下侧情形时，可以设置参数side："
   ]
  },
  {
   "cell_type": "code",
   "execution_count": 5,
   "metadata": {},
   "outputs": [
    {
     "data": {
      "text/plain": [
       "({'statOutliers': [3.13], 'stragglers': [3.49]},\n",
       " [4.01, 4.48, 4.61, 4.76, 4.98, 5.25, 5.32, 5.39, 5.42, 5.57, 5.59, 5.59, 5.63, 5.63, 5.65, 5.66, 5.67, 5.69, 5.71, 6.00, 6.03, 6.12, 6.76])"
      ]
     },
     "execution_count": 5,
     "metadata": {},
     "output_type": "execute_result"
    }
   ],
   "source": [
    "sample = NumItem(\"3.13 3.49 4.01 4.48 4.61 4.76 4.98 5.25 5.32 5.39 5.42 5.57 5.59 5.59 5.63 5.63 5.65 5.66 5.67 5.69 5.71 6.00 6.03 6.12 6.76\")\n",
    "outlier.Nair(sample, 0.65, side='down')  #Nair下侧检验"
   ]
  },
  {
   "cell_type": "markdown",
   "metadata": {},
   "source": [
    "## 5.生成并展示计算过程"
   ]
  },
  {
   "cell_type": "markdown",
   "metadata": {},
   "source": [
    "通过附加参数`process=True`，并调用生成LaTeX公式集的`show()`方法，可以展示出离群值处理的分析过程："
   ]
  },
  {
   "cell_type": "code",
   "execution_count": 6,
   "metadata": {},
   "outputs": [
    {
     "data": {
      "text/latex": [
       "$\\begin{align}&\\text{将测量数据由小到大排序：}[13.12, 13.52, 13.54, 13.54, 13.55, 13.56]\\\\ \n",
       "&\\overline{{{x}}}=\\frac{1}{n}\\sum\\limits_{i=1}^n {{x}}_{i}=\\frac{1}{6}\\left(13.12+13.52+13.54+13.54+13.55+13.56\\right)=13.47\\\\ \n",
       "&s_{{{x}}}=\\sqrt{\\frac{1}{n-1}\\sum\\limits_{i=1}^n\\left({{x}}_{i}-\\overline{{{x}}}\\right)^{2}}=\\sqrt{\\frac{1}{5}\\left[\\left(-0.35\\right)^{2}+0.05^{2}+0.07^{2}+0.07^{2}+0.08^{2}+0.09^{2}\\right]}=0.170\\\\ \n",
       "&G_{6}=\\frac{{x}_{(6)}-\\overline{{x}}}{s}=\\frac{13.56-13.47}{0.170}=0.511\\\\ \n",
       "&G_{6}'=\\frac{\\overline{{x}}-{x}_{(1)}}{s}=\\frac{13.47-13.12}{0.170}=2.035\\\\ \n",
       "&\\text{确定检验水平}\\alpha=0.05\\text{，查表得临界值}G_{1-\\alpha/2}(n)=G_{0.975}(6)=1.887\\\\ \n",
       "&\\text{因}G_{6}'> G_{6}\\text{且}G_{6}'>G_{0.975}(6)\\text{，故判定}{x}_{(1)}\\text{为离群值}\\\\ \n",
       "&\\text{对于检出的离群值}{x}_{(1)}\\text{，确定剔除水平}\\alpha^{*}=0.01\\text{，查表得临界值}G_{1-\\alpha^{*}/2}(n)=G_{0.975}(6)=1.973\\\\ \n",
       "&\\text{因}G_{6}'>G_{0.975}(6)\\text{，故判定}{x}_{(1)}=13.12\\text{为统计离群值}\\end{align}$"
      ],
      "text/plain": [
       "<IPython.core.display.Latex object>"
      ]
     },
     "metadata": {},
     "output_type": "display_data"
    }
   ],
   "source": [
    "sample = NumItem('13.52 13.56 13.55 13.54 13.12 13.54')\n",
    "outlier.Grubbs(sample, process=True).show()"
   ]
  },
  {
   "cell_type": "markdown",
   "metadata": {},
   "source": [
    "当既需要处理结果又需要相应的分析过程时，可以在`process=True`的基础上，附加参数`needValue=True`。"
   ]
  },
  {
   "cell_type": "markdown",
   "metadata": {},
   "source": [
    "## \\*6.更改检出水平和剔除水平"
   ]
  },
  {
   "cell_type": "markdown",
   "metadata": {},
   "source": [
    "根据现行国家标准<i>**GBT 4883-2008**</i>，除非根据本标准达成协议的各方另有约定外，$\\alpha$值（检出水平）应为0.05，$\\alpha^*$值（剔除水平）应为0.01。如果确有需要更改检出水平和剔除水平，可以设置参数`detLevel`（检出水平）和`delLevel`（剔除水平）。默认`detLevel=0.05`，`delLevel=0.01`。"
   ]
  },
  {
   "cell_type": "code",
   "execution_count": null,
   "metadata": {},
   "outputs": [],
   "source": []
  }
 ],
 "metadata": {
  "kernelspec": {
   "display_name": "Python 3",
   "language": "python",
   "name": "python3"
  },
  "language_info": {
   "codemirror_mode": {
    "name": "ipython",
    "version": 3
   },
   "file_extension": ".py",
   "mimetype": "text/x-python",
   "name": "python",
   "nbconvert_exporter": "python",
   "pygments_lexer": "ipython3",
   "version": "3.6.5"
  }
 },
 "nbformat": 4,
 "nbformat_minor": 2
}
